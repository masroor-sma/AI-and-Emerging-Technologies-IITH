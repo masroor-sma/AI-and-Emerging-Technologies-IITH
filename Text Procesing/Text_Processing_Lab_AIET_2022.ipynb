{
  "cells": [
    {
      "cell_type": "markdown",
      "metadata": {
        "id": "B8uwZTbjgj7e"
      },
      "source": [
        "# Text Vectorization techniques\n",
        "This colab document demostrates following steps in text processing:\n",
        "1. Text Pre-Processing\n",
        "    * Reading text files with different formats\n",
        "    * Normalize\n",
        "    * Tokenize\n",
        "    * Stemming\n",
        "    * Lemmatization\n",
        "    * Case folding / Lowercasing\n",
        "    * POS Tagging\n",
        "    * NER\n",
        "2. Vectorization\n",
        "    * Count Vectorizer\n",
        "    * TFIDF Vectorizer\n",
        "    * Effects of n-grams to the vectors\n",
        "    * Effects of min_df and max_df\n",
        "3. Visualization\n",
        "    * Plot tokens with t-sne\n",
        "    * Similar vectors\n",
        "4. Distributed Representations\n",
        "    * Word2Vec\n",
        "    * Plot tokens with t-sne\n",
        "    * Similar vectors\n",
        "5. Text Classification\n",
        "\n"
      ]
    },
    {
      "cell_type": "markdown",
      "metadata": {
        "id": "dktCQlabqw6V"
      },
      "source": [
        "## 1. Text Pre-Processing"
      ]
    },
    {
      "cell_type": "code",
      "execution_count": null,
      "metadata": {
        "id": "0ipmapEkgb8f"
      },
      "outputs": [],
      "source": [
        "# Dataset representation\n",
        "import pandas as pd\n",
        "\n",
        "# String manipulations\n",
        "import string\n",
        "import re\n",
        "\n",
        "# Text processing and NLP\n",
        "import nltk\n",
        "from nltk.corpus import stopwords\n",
        "from nltk.stem import PorterStemmer\n",
        "from nltk.stem import WordNetLemmatizer\n",
        "from nltk.tokenize import word_tokenize\n",
        "from nltk import pos_tag"
      ]
    },
    {
      "cell_type": "code",
      "execution_count": null,
      "metadata": {
        "colab": {
          "base_uri": "https://localhost:8080/"
        },
        "id": "Kt9ex12gqw6Y",
        "outputId": "43a994c0-26cb-4e81-9f63-26f59e972683"
      },
      "outputs": [
        {
          "output_type": "stream",
          "name": "stderr",
          "text": [
            "[nltk_data] Downloading package punkt to /root/nltk_data...\n",
            "[nltk_data]   Unzipping tokenizers/punkt.zip.\n",
            "[nltk_data] Downloading package stopwords to /root/nltk_data...\n",
            "[nltk_data]   Unzipping corpora/stopwords.zip.\n",
            "[nltk_data] Downloading package wordnet to /root/nltk_data...\n",
            "[nltk_data] Downloading package omw-1.4 to /root/nltk_data...\n",
            "[nltk_data] Downloading package averaged_perceptron_tagger to\n",
            "[nltk_data]     /root/nltk_data...\n",
            "[nltk_data]   Unzipping taggers/averaged_perceptron_tagger.zip.\n"
          ]
        },
        {
          "output_type": "execute_result",
          "data": {
            "text/plain": [
              "True"
            ]
          },
          "metadata": {},
          "execution_count": 4
        }
      ],
      "source": [
        "## Sentence tokenizer\n",
        " #Uncomment if running for the first time\n",
        "nltk.download('punkt')\n",
        "nltk.download('stopwords')\n",
        "nltk.download('wordnet')\n",
        "nltk.download('omw-1.4')\n",
        "nltk.download('averaged_perceptron_tagger')"
      ]
    },
    {
      "cell_type": "markdown",
      "metadata": {
        "id": "mgPemCk4PqoZ"
      },
      "source": [
        "## 1.a Reading Data\n",
        "- Read the dataset in an appropriate data structure"
      ]
    },
    {
      "cell_type": "code",
      "execution_count": null,
      "metadata": {
        "colab": {
          "base_uri": "https://localhost:8080/"
        },
        "id": "E2Wff0bxbhK7",
        "outputId": "141f510b-9fcd-40af-940c-9a60ec10bbbb"
      },
      "outputs": [
        {
          "output_type": "stream",
          "name": "stderr",
          "text": [
            "/usr/local/lib/python3.7/dist-packages/IPython/core/interactiveshell.py:3326: DtypeWarning: Columns (3) have mixed types.Specify dtype option on import or set low_memory=False.\n",
            "  exec(code_obj, self.user_global_ns, self.user_ns)\n"
          ]
        },
        {
          "output_type": "execute_result",
          "data": {
            "text/plain": [
              "0    Weather update - a cold front from Cuba that c...\n",
              "1              Is the Hurricane over or is it not over\n",
              "2    says: west side of Haiti, rest of the country ...\n",
              "3               Information about the National Palace-\n",
              "4                       Storm at sacred heart of jesus\n",
              "5    Please, we need tents and water. We are in Sil...\n",
              "6      I would like to receive the messages, thank you\n",
              "7    There's nothing to eat and water, we starving ...\n",
              "8    I am in Petionville. I need more information r...\n",
              "9    I am in Thomassin number 32, in the area named...\n",
              "Name: message, dtype: object"
            ]
          },
          "metadata": {},
          "execution_count": 5
        }
      ],
      "source": [
        "# Data: https://appen.com/datasets/combined-disaster-response-data/\n",
        "# df_csv = pd.read_csv(\"https://datasets.appen.com/appen_datasets/disaster_response_data/disaster_response_messages_training.csv\", header = 0)\n",
        "# df_csv.message.head(10)\n",
        "url = \"https://raw.githubusercontent.com/cameronbronstein/Project-4-New-Light-Technologies-Client-Project/master/datasets/disaster_response_messages_training.csv\"\n",
        "df_csv = pd.read_csv(url, header = 0)\n",
        "df_csv.message.head(10)"
      ]
    },
    {
      "cell_type": "code",
      "execution_count": null,
      "metadata": {
        "colab": {
          "base_uri": "https://localhost:8080/"
        },
        "id": "vrvd263qpK41",
        "outputId": "dd3c2b6e-3d72-417a-bbeb-ee87c9c636a0"
      },
      "outputs": [
        {
          "output_type": "execute_result",
          "data": {
            "text/plain": [
              "Index(['id', 'split', 'message', 'original', 'genre', 'related', 'PII',\n",
              "       'request', 'offer', 'aid_related', 'medical_help', 'medical_products',\n",
              "       'search_and_rescue', 'security', 'military', 'child_alone', 'water',\n",
              "       'food', 'shelter', 'clothing', 'money', 'missing_people', 'refugees',\n",
              "       'death', 'other_aid', 'infrastructure_related', 'transport',\n",
              "       'buildings', 'electricity', 'tools', 'hospitals', 'shops',\n",
              "       'aid_centers', 'other_infrastructure', 'weather_related', 'floods',\n",
              "       'storm', 'fire', 'earthquake', 'cold', 'other_weather',\n",
              "       'direct_report'],\n",
              "      dtype='object')"
            ]
          },
          "metadata": {},
          "execution_count": 6
        }
      ],
      "source": [
        "df_csv.columns"
      ]
    },
    {
      "cell_type": "code",
      "execution_count": null,
      "metadata": {
        "id": "_4dBOnv3b_Do"
      },
      "outputs": [],
      "source": [
        "## Reading \"json\" file using pandas\n",
        "# df_json = pd.read_json(\"https://raw.githubusercontent.com/HSLCY/ABSA-BERT-pair/master/data/sentihood/sentihood-train.json\")\n",
        "# df_json.head()"
      ]
    },
    {
      "cell_type": "code",
      "execution_count": null,
      "metadata": {
        "colab": {
          "base_uri": "https://localhost:8080/"
        },
        "id": "XSbfUtkke-xD",
        "outputId": "c40494fe-9fee-411f-a9a3-bf02877b7095"
      },
      "outputs": [
        {
          "output_type": "execute_result",
          "data": {
            "text/plain": [
              "['Weather update - a cold front from Cuba that could pass over Haiti',\n",
              " 'Is the Hurricane over or is it not over',\n",
              " 'says: west side of Haiti, rest of the country today and tonight',\n",
              " 'Information about the National Palace-',\n",
              " 'Storm at sacred heart of jesus',\n",
              " 'Please, we need tents and water. We are in Silo, Thank you!',\n",
              " 'I would like to receive the messages, thank you',\n",
              " \"There's nothing to eat and water, we starving and thirsty.\",\n",
              " 'I am in Petionville. I need more information regarding 4636',\n",
              " 'I am in Thomassin number 32, in the area named Pyron. I would like to have some water. Thank God we are fine, but we desperately need water. Thanks']"
            ]
          },
          "metadata": {},
          "execution_count": 7
        }
      ],
      "source": [
        "d1 = list(df_csv.message)\n",
        "dataset = d1[:10]\n",
        "dataset"
      ]
    },
    {
      "cell_type": "markdown",
      "metadata": {
        "id": "hnuQ0NerPxqn"
      },
      "source": [
        "## 1.b Preprocessing\n",
        "- To preprocess your text simply means to bring your text into a form that is predictable and analyzable for your task. This may include lowercasing, stemming, lemmatization, stop-words removal etc. Tokenize the documents carefully to extract individual terms."
      ]
    },
    {
      "cell_type": "markdown",
      "metadata": {
        "id": "bpqW4VJVqw6d"
      },
      "source": [
        "### Removing HTML Tags\n",
        "- Datasets often contain tags when downloaded and hence its removal is paramount."
      ]
    },
    {
      "cell_type": "code",
      "execution_count": null,
      "metadata": {
        "id": "b97QBDNWevaI"
      },
      "outputs": [],
      "source": [
        "TAG_RE = re.compile(r'<[^>]+>')\n",
        "def remove_tags(text):\n",
        "    return TAG_RE.sub('', text)\n",
        "\n",
        "def remove_tags2(text):\n",
        "    # Using regular expressions to match html tags and replace them with ''\n",
        "    updated = re.sub('<[^<]+?>', '', text)\n",
        "    return updated"
      ]
    },
    {
      "cell_type": "code",
      "execution_count": null,
      "metadata": {
        "colab": {
          "base_uri": "https://localhost:8080/"
        },
        "id": "OVdP12l4Gqs4",
        "outputId": "7315a206-98da-4eb8-c0f5-f4173cec28ab"
      },
      "outputs": [
        {
          "output_type": "stream",
          "name": "stdout",
          "text": [
            "Sky is blue.\n"
          ]
        }
      ],
      "source": [
        "s = \"<p class='message'>Sky is blue.<\\p>\"\n",
        "print(remove_tags(s))"
      ]
    },
    {
      "cell_type": "code",
      "execution_count": null,
      "metadata": {
        "colab": {
          "base_uri": "https://localhost:8080/"
        },
        "id": "zYUVP1bbqw6e",
        "outputId": "f2554e4d-23a7-4d28-c886-c2fbd62222d5"
      },
      "outputs": [
        {
          "output_type": "stream",
          "name": "stdout",
          "text": [
            " Weather update - a cold front from Cuba that could pass over Haiti Is the Hurricane over or is it not over says: west side of Haiti, rest of the country today and tonight Information about the National Palace- Storm at sacred heart of jesus Please, we need tents and water. We are in Silo, Thank you! I would like to receive the messages, thank you There's nothing to eat and water, we starving and thirsty. I am in Petionville. I need more information regarding 4636 I am in Thomassin number 32, in the area named Pyron. I would like to have some water. Thank God we are fine, but we desperately need water. Thanks\n"
          ]
        }
      ],
      "source": [
        "d1_string = ''\n",
        "for i in range(len(dataset)):\n",
        "    s = dataset[i]\n",
        "    d1_string += (' ' + remove_tags(s))\n",
        "print(d1_string)"
      ]
    },
    {
      "cell_type": "markdown",
      "metadata": {
        "id": "99FscugfP8Ht"
      },
      "source": [
        "### Removing Punctuations\n",
        "- Remove punctuations (i.e. \",\", \".\", \"!\", \"\\\") from the text"
      ]
    },
    {
      "cell_type": "code",
      "execution_count": null,
      "metadata": {
        "id": "DU0o6EB3Gqwi"
      },
      "outputs": [],
      "source": [
        "def remPunctuations(text):\n",
        "    # table is a translation table for removing the punctuation marks from the words\n",
        "    table = str.maketrans({key: None for key in string.punctuation})\n",
        "    print(f\"Translation Table: {table}\")\n",
        "    translated = text.translate(table)\n",
        "    return translated"
      ]
    },
    {
      "cell_type": "code",
      "execution_count": null,
      "metadata": {
        "colab": {
          "base_uri": "https://localhost:8080/"
        },
        "id": "PoPI7iJKGq4U",
        "outputId": "4de8ac21-bb18-43c2-d3c3-1a3da886ad6d"
      },
      "outputs": [
        {
          "output_type": "stream",
          "name": "stdout",
          "text": [
            "I am in Thomassin number 32, in the area named Pyron. I would like to have some water. Thank God we are fine, but we desperately need water. Thanks\n",
            "Translation Table: {33: None, 34: None, 35: None, 36: None, 37: None, 38: None, 39: None, 40: None, 41: None, 42: None, 43: None, 44: None, 45: None, 46: None, 47: None, 58: None, 59: None, 60: None, 61: None, 62: None, 63: None, 64: None, 91: None, 92: None, 93: None, 94: None, 95: None, 96: None, 123: None, 124: None, 125: None, 126: None}\n",
            "I am in Thomassin number 32 in the area named Pyron I would like to have some water Thank God we are fine but we desperately need water Thanks\n"
          ]
        }
      ],
      "source": [
        "print(dataset[9])\n",
        "print(remPunctuations(dataset[9]))"
      ]
    },
    {
      "cell_type": "code",
      "execution_count": null,
      "metadata": {
        "colab": {
          "base_uri": "https://localhost:8080/"
        },
        "id": "C0hXK3jUqw6h",
        "outputId": "75a83a2d-3ead-408d-e62a-d539ef9c92fd"
      },
      "outputs": [
        {
          "output_type": "stream",
          "name": "stdout",
          "text": [
            "Translation Table: {33: None, 34: None, 35: None, 36: None, 37: None, 38: None, 39: None, 40: None, 41: None, 42: None, 43: None, 44: None, 45: None, 46: None, 47: None, 58: None, 59: None, 60: None, 61: None, 62: None, 63: None, 64: None, 91: None, 92: None, 93: None, 94: None, 95: None, 96: None, 123: None, 124: None, 125: None, 126: None}\n",
            " Weather update  a cold front from Cuba that could pass over Haiti Is the Hurricane over or is it not over says west side of Haiti rest of the country today and tonight Information about the National Palace Storm at sacred heart of jesus Please we need tents and water We are in Silo Thank you I would like to receive the messages thank you Theres nothing to eat and water we starving and thirsty I am in Petionville I need more information regarding 4636 I am in Thomassin number 32 in the area named Pyron I would like to have some water Thank God we are fine but we desperately need water Thanks\n"
          ]
        }
      ],
      "source": [
        "d1_string = remPunctuations(d1_string)\n",
        "print(d1_string)"
      ]
    },
    {
      "cell_type": "markdown",
      "metadata": {
        "id": "_CMSPRS8QAUH"
      },
      "source": [
        "### Tokenization"
      ]
    },
    {
      "cell_type": "code",
      "execution_count": null,
      "metadata": {
        "id": "ABFf6JcZGrJI"
      },
      "outputs": [],
      "source": [
        "# takes a string input and returns a list of tokens\n",
        "#from nltk.tokenize import word_tokenize\n",
        "def tokenize(text):\n",
        "    return word_tokenize(text)"
      ]
    },
    {
      "cell_type": "code",
      "execution_count": null,
      "metadata": {
        "colab": {
          "base_uri": "https://localhost:8080/"
        },
        "id": "U6epA1myGrog",
        "outputId": "c47b9a0b-f781-4993-9ca1-464cff28345b"
      },
      "outputs": [
        {
          "output_type": "execute_result",
          "data": {
            "text/plain": [
              "['Weather',\n",
              " 'update',\n",
              " 'a',\n",
              " 'cold',\n",
              " 'front',\n",
              " 'from',\n",
              " 'Cuba',\n",
              " 'that',\n",
              " 'could',\n",
              " 'pass']"
            ]
          },
          "metadata": {},
          "execution_count": 15
        }
      ],
      "source": [
        "d1_tokens = tokenize(d1_string)\n",
        "d1_tokens[:10] # returns a list"
      ]
    },
    {
      "cell_type": "markdown",
      "metadata": {
        "id": "dNf_BoRlQGJX"
      },
      "source": [
        "### Stop-words removal"
      ]
    },
    {
      "cell_type": "code",
      "execution_count": null,
      "metadata": {
        "id": "OOsyvUbyGrkt"
      },
      "outputs": [],
      "source": [
        "# takes in a list of tokens and returns a list of tokens with stopwords removed\n",
        "def remStop(tokens):\n",
        "    stop_words = set(stopwords.words('english'))\n",
        "    filtered = [t for t in tokens if not t in stop_words]\n",
        "    return filtered"
      ]
    },
    {
      "cell_type": "code",
      "execution_count": null,
      "metadata": {
        "colab": {
          "base_uri": "https://localhost:8080/"
        },
        "id": "sBFnxb37GrhL",
        "outputId": "ec1e71e9-7437-4fa8-ecad-b8bb0d27f8bf"
      },
      "outputs": [
        {
          "output_type": "execute_result",
          "data": {
            "text/plain": [
              "['Weather',\n",
              " 'update',\n",
              " 'cold',\n",
              " 'front',\n",
              " 'Cuba',\n",
              " 'could',\n",
              " 'pass',\n",
              " 'Haiti',\n",
              " 'Is',\n",
              " 'Hurricane']"
            ]
          },
          "metadata": {},
          "execution_count": 17
        }
      ],
      "source": [
        "d1_tokens = remStop(d1_tokens)\n",
        "d1_tokens[:10] #still a list"
      ]
    },
    {
      "cell_type": "markdown",
      "metadata": {
        "id": "FOHqMiFmQMDr"
      },
      "source": [
        "### Stemming, Lemmatization & Lowercasing\n",
        "- Functions for finding the stemmed word, the root and then to convert all the documents to lower case"
      ]
    },
    {
      "cell_type": "code",
      "execution_count": null,
      "metadata": {
        "id": "ZzCd2apCGreC"
      },
      "outputs": [],
      "source": [
        "def lemmatize(tokens):\n",
        "    lz = WordNetLemmatizer()\n",
        "    lemmatized = [lz.lemmatize(t) for t in tokens]\n",
        "    return list(set(lemmatized))"
      ]
    },
    {
      "cell_type": "code",
      "execution_count": null,
      "metadata": {
        "colab": {
          "base_uri": "https://localhost:8080/"
        },
        "id": "6LzgMJykqw6k",
        "outputId": "892751e4-377d-4bdf-a64b-789a5304fda2"
      },
      "outputs": [
        {
          "output_type": "stream",
          "name": "stdout",
          "text": [
            "['car', 'run']\n"
          ]
        }
      ],
      "source": [
        "lst = [\"cars\", \"runs\"]\n",
        "print(lemmatize(lst))\n"
      ]
    },
    {
      "cell_type": "code",
      "execution_count": null,
      "metadata": {
        "colab": {
          "base_uri": "https://localhost:8080/"
        },
        "id": "TGi-4Aueqw6k",
        "outputId": "ceca0f8a-efb4-4e9e-906a-4050d399e16d"
      },
      "outputs": [
        {
          "output_type": "execute_result",
          "data": {
            "text/plain": [
              "['water',\n",
              " 'Haiti',\n",
              " 'today',\n",
              " 'God',\n",
              " 'fine',\n",
              " 'heart',\n",
              " 'I',\n",
              " 'Thanks',\n",
              " 'jesus',\n",
              " 'could']"
            ]
          },
          "metadata": {},
          "execution_count": 20
        }
      ],
      "source": [
        "d1_lemmas = lemmatize(d1_tokens)\n",
        "d1_lemmas[:10] #still a list which contains lemmas of the words in the dataset"
      ]
    },
    {
      "cell_type": "code",
      "execution_count": null,
      "metadata": {
        "id": "vAhG1Va6qw6l"
      },
      "outputs": [],
      "source": [
        "def stem(tokens):\n",
        "    ps = PorterStemmer()\n",
        "    stemmed = [ps.stem(t) for t in tokens]\n",
        "    return list(set(stemmed))"
      ]
    },
    {
      "cell_type": "code",
      "execution_count": null,
      "metadata": {
        "colab": {
          "base_uri": "https://localhost:8080/"
        },
        "id": "QJurUPkbGrak",
        "outputId": "0dde280a-16f7-4796-d467-23facc3495aa"
      },
      "outputs": [
        {
          "output_type": "execute_result",
          "data": {
            "text/plain": [
              "['water',\n",
              " 'today',\n",
              " 'pyron',\n",
              " 'thirsti',\n",
              " 'heart',\n",
              " 'name',\n",
              " 'fine',\n",
              " 'cuba',\n",
              " 'could',\n",
              " 'pleas']"
            ]
          },
          "metadata": {},
          "execution_count": 22
        }
      ],
      "source": [
        "d1_stems = stem(d1_tokens) #still a list of stemmed words which might not make sense\n",
        "d1_stems[:10]"
      ]
    },
    {
      "cell_type": "code",
      "execution_count": null,
      "metadata": {
        "id": "WzU22MF9GrQh"
      },
      "outputs": [],
      "source": [
        "def toLower(tokens):\n",
        "    return [t.lower() for t in tokens]"
      ]
    },
    {
      "cell_type": "code",
      "execution_count": null,
      "metadata": {
        "colab": {
          "base_uri": "https://localhost:8080/"
        },
        "id": "KwufkfRmGrOA",
        "outputId": "7aa6c1c2-d457-4600-940e-62da2965d47e"
      },
      "outputs": [
        {
          "output_type": "execute_result",
          "data": {
            "text/plain": [
              "['water',\n",
              " 'haiti',\n",
              " 'today',\n",
              " 'god',\n",
              " 'fine',\n",
              " 'heart',\n",
              " 'i',\n",
              " 'thanks',\n",
              " 'jesus',\n",
              " 'could']"
            ]
          },
          "metadata": {},
          "execution_count": 24
        }
      ],
      "source": [
        "d1_lower = toLower(d1_lemmas)\n",
        "d1_lower[:10]"
      ]
    },
    {
      "cell_type": "markdown",
      "metadata": {
        "id": "xzrCs74CQR2a"
      },
      "source": [
        "### POS Tagging\n",
        "\n",
        "\n",
        "*   Function to Assign POS tags to each token\n",
        "*   Pass tokens of a document as arguments to the given function,the returned value will have POS tags corresponding to each token in that document"
      ]
    },
    {
      "cell_type": "code",
      "execution_count": null,
      "metadata": {
        "id": "kZxc0zSIGrFp"
      },
      "outputs": [],
      "source": [
        "def POStagging(tokens):\n",
        "    return nltk.pos_tag(tokens)"
      ]
    },
    {
      "cell_type": "code",
      "execution_count": null,
      "metadata": {
        "colab": {
          "base_uri": "https://localhost:8080/"
        },
        "id": "hj9nidCPGrCW",
        "outputId": "9616d3f1-00b2-4e11-c4aa-83e5090c407d"
      },
      "outputs": [
        {
          "output_type": "execute_result",
          "data": {
            "text/plain": [
              "[('Weather', 'NNP'),\n",
              " ('update', 'JJ'),\n",
              " ('cold', 'NN'),\n",
              " ('front', 'NN'),\n",
              " ('Cuba', 'NNP'),\n",
              " ('could', 'MD'),\n",
              " ('pass', 'VB'),\n",
              " ('Haiti', 'NNP'),\n",
              " ('Is', 'NNP'),\n",
              " ('Hurricane', 'NNP')]"
            ]
          },
          "metadata": {},
          "execution_count": 26
        }
      ],
      "source": [
        "d1_pos = POStagging(d1_tokens)\n",
        "d1_pos[:10]"
      ]
    },
    {
      "cell_type": "markdown",
      "metadata": {
        "id": "e1KVEGICQWuW"
      },
      "source": [
        "### Named Entity Recognition (NER)\n",
        "(also known as entity identification, entity chunking and entity extraction)\n",
        "\n",
        "**What is an entity?**\n",
        "\n",
        "Named entity is any real-world object, such as persons, locations, organizations, products, etc., that can be denoted with a proper name. e.g., New York City is an instance of a Place.\n",
        "\n",
        "**Use cases:**\n",
        "\n",
        "*   Creating related tags or linking to relevant topics\n",
        "*   Context understanding in search, recommendations\n",
        "\n",
        "\n",
        "\n",
        "\n",
        "---\n",
        "\n",
        "\n",
        "\n",
        "Using another useful NLP library called **[Spacy](https://spacy.io/usage)**."
      ]
    },
    {
      "cell_type": "code",
      "execution_count": null,
      "metadata": {
        "colab": {
          "base_uri": "https://localhost:8080/"
        },
        "id": "G_6By38BGq-7",
        "outputId": "b6534501-1ad6-4d59-ebe2-a2d6626c5c78"
      },
      "outputs": [
        {
          "output_type": "stream",
          "name": "stdout",
          "text": [
            "\n",
            "\n",
            "Spacy with version==3.4.3 imported.\n"
          ]
        }
      ],
      "source": [
        "import spacy\n",
        "print(\"\\n\\nSpacy with version=={} imported.\".format(spacy.__version__))"
      ]
    },
    {
      "cell_type": "markdown",
      "metadata": {
        "id": "KwXvWAxkQcat"
      },
      "source": [
        "**Language Model for Spacy:**\n",
        "A language model is the context provider for a particular language. It contains informations such as how the words are related and which one's are tags, entity, etc."
      ]
    },
    {
      "cell_type": "code",
      "execution_count": null,
      "metadata": {
        "colab": {
          "base_uri": "https://localhost:8080/"
        },
        "id": "2ADyS18sGq8A",
        "outputId": "4e2d0c3b-53f7-4a34-faa1-a7383fb75a58"
      },
      "outputs": [
        {
          "output_type": "stream",
          "name": "stdout",
          "text": [
            "\n",
            "\n",
            "Spacy model imported at: <spacy.lang.en.English object at 0x7fa2cdf7b410>\n"
          ]
        }
      ],
      "source": [
        "# Download the language model for spacy\n",
        "#!python -m spacy download en_core_web_sm\n",
        "spacy_model = spacy.load(\"en_core_web_sm\")\n",
        "print(\"\\n\\nSpacy model imported at: {}\".format(spacy_model))"
      ]
    },
    {
      "cell_type": "code",
      "execution_count": null,
      "metadata": {
        "colab": {
          "base_uri": "https://localhost:8080/"
        },
        "id": "fr5SPGLJGq1X",
        "outputId": "816abfae-1748-4029-f8d2-499b00f8aab4"
      },
      "outputs": [
        {
          "output_type": "stream",
          "name": "stdout",
          "text": [
            "Token [Apple Inc] -> Entity type [ORG] indices [0] - [9].\n",
            "Token [U.K.] -> Entity type [GPE] indices [31] - [35].\n",
            "Token [$1 billion] -> Entity type [MONEY] indices [48] - [58].\n"
          ]
        }
      ],
      "source": [
        "doc1 = spacy_model(u\"Apple Inc is looking at buying U.K. startup for $1 billion.\")\n",
        "for ent in doc1.ents:\n",
        "    print(\"Token [{}] -> Entity type [{}] indices [{}] - [{}].\".format(ent.text, ent.label_, ent.start_char, ent.end_char))"
      ]
    },
    {
      "cell_type": "code",
      "execution_count": null,
      "metadata": {
        "colab": {
          "base_uri": "https://localhost:8080/"
        },
        "id": "FWyLH_KnHgR0",
        "outputId": "46a0acd8-57b2-4cad-8124-6314333a2f22"
      },
      "outputs": [
        {
          "output_type": "stream",
          "name": "stdout",
          "text": [
            "This is the first sentence: [In the expression named entity, the word named restricts\n",
            "                   the task to those entities for which one or many strings,\n",
            "                   such as words or phrases, stands (fairly) consistently for\n",
            "                   some referent.]\n"
          ]
        },
        {
          "output_type": "execute_result",
          "data": {
            "text/plain": [
              "[In the expression named entity, the word named restricts\n",
              "                    the task to those entities for which one or many strings,\n",
              "                    such as words or phrases, stands (fairly) consistently for\n",
              "                    some referent.,\n",
              " This is closely related to rigid designators,\n",
              "                    as defined by Kripke[3][4], although in practice NER deals\n",
              "                    with many names and referents that are not philosophically\n",
              "                    'rigid'.,\n",
              " For instance, the automotive company created by\n",
              "                    Henry Ford in 1903 can be referred to as Ford or Ford Motor\n",
              "                    Company, although 'Ford' can refer to many other entities as\n",
              "                    well (see Ford).,\n",
              " Rigid designators include proper names as\n",
              "                    well as terms for certain biological species and substances,\n",
              "                    but exclude pronouns (such as 'it'; see coreference \n",
              "                    resolution), descriptions that pick out a referent by its \n",
              "                    properties (see also De dicto and de re), and names for kinds\n",
              "                    of things as opposed to individuals (for example 'Bank').]"
            ]
          },
          "metadata": {},
          "execution_count": 40
        }
      ],
      "source": [
        "# Filtering sentences\n",
        "doc2 = spacy_model(u\"\"\"In the expression named entity, the word named restricts\n",
        "                   the task to those entities for which one or many strings,\n",
        "                   such as words or phrases, stands (fairly) consistently for\n",
        "                   some referent. This is closely related to rigid designators,\n",
        "                   as defined by Kripke[3][4], although in practice NER deals\n",
        "                   with many names and referents that are not philosophically\n",
        "                   'rigid'. For instance, the automotive company created by\n",
        "                   Henry Ford in 1903 can be referred to as Ford or Ford Motor\n",
        "                   Company, although 'Ford' can refer to many other entities as\n",
        "                   well (see Ford). Rigid designators include proper names as\n",
        "                   well as terms for certain biological species and substances,\n",
        "                   but exclude pronouns (such as 'it'; see coreference\n",
        "                   resolution), descriptions that pick out a referent by its\n",
        "                   properties (see also De dicto and de re), and names for kinds\n",
        "                   of things as opposed to individuals (for example 'Bank').\"\"\")\n",
        "sentences = list(doc2.sents)\n",
        "print(\"This is the first sentence: [{}]\".format(sentences [0]))\n",
        "sentences"
      ]
    },
    {
      "cell_type": "code",
      "execution_count": null,
      "metadata": {
        "colab": {
          "base_uri": "https://localhost:8080/"
        },
        "id": "PCSRrA0a146S",
        "outputId": "d2ac54ca-9681-4226-c2d9-182251df1941"
      },
      "outputs": [
        {
          "output_type": "stream",
          "name": "stdout",
          "text": [
            "-----------\n",
            "In the expression named entity, the word named restricts\n",
            "                   the task to those entities for which one or many strings,\n",
            "                   such as words or phrases, stands (fairly) consistently for\n",
            "                   some referent.\n",
            "Token [one] -> Entity type [CARDINAL] indices [113] - [116].\n",
            "-----------\n",
            "This is closely related to rigid designators,\n",
            "                   as defined by Kripke[3][4], although in practice NER deals\n",
            "                   with many names and referents that are not philosophically\n",
            "                   'rigid'.\n",
            "Token [NER] -> Entity type [ORG] indices [360] - [363].\n",
            "-----------\n",
            "For instance, the automotive company created by\n",
            "                   Henry Ford in 1903 can be referred to as Ford or Ford Motor\n",
            "                   Company, although 'Ford' can refer to many other entities as\n",
            "                   well (see Ford).\n",
            "Token [Henry Ford] -> Entity type [PERSON] indices [543] - [553].\n",
            "Token [1903] -> Entity type [DATE] indices [557] - [561].\n",
            "Token [Ford] -> Entity type [ORG] indices [584] - [588].\n",
            "Token [Ford Motor\n",
            "                   Company] -> Entity type [ORG] indices [592] - [629].\n",
            "Token [Ford] -> Entity type [ORG] indices [641] - [645].\n",
            "Token [Ford] -> Entity type [ORG] indices [712] - [716].\n",
            "-----------\n",
            "Rigid designators include proper names as\n",
            "                   well as terms for certain biological species and substances,\n",
            "                   but exclude pronouns (such as 'it'; see coreference \n",
            "                   resolution), descriptions that pick out a referent by its \n",
            "                   properties (see also De dicto and de re), and names for kinds\n",
            "                   of things as opposed to individuals (for example 'Bank').\n",
            "Token [De dicto] -> Entity type [PERSON] indices [1031] - [1039].\n"
          ]
        }
      ],
      "source": [
        "def filtering_ner(sentences):\n",
        "    for each_sent in sentences:\n",
        "        print(\"-----------\")\n",
        "        print(each_sent)\n",
        "        for ent in each_sent.ents:\n",
        "            print(\"Token [{}] -> Entity type [{}] indices [{}] - [{}].\".format(ent.text, ent.label_, ent.start_char, ent.end_char))\n",
        "filtering_ner(sentences)"
      ]
    },
    {
      "cell_type": "markdown",
      "metadata": {
        "id": "ueSHW5MwQpI2"
      },
      "source": [
        "## 2. Vectorization"
      ]
    },
    {
      "cell_type": "markdown",
      "metadata": {
        "id": "vDRtH4Skqw6r"
      },
      "source": [
        "### 2.a Count Vectorizer"
      ]
    },
    {
      "cell_type": "code",
      "execution_count": null,
      "metadata": {
        "id": "p9U270h9iB6n"
      },
      "outputs": [],
      "source": [
        "from sklearn.feature_extraction.text import TfidfVectorizer, CountVectorizer"
      ]
    },
    {
      "cell_type": "code",
      "execution_count": null,
      "metadata": {
        "colab": {
          "base_uri": "https://localhost:8080/"
        },
        "id": "bodtrMz-qw6s",
        "outputId": "3aa6598b-61d5-44b1-a805-d6fe72e6bcae"
      },
      "outputs": [
        {
          "output_type": "stream",
          "name": "stdout",
          "text": [
            "['and' 'document' 'first' 'is' 'one' 'second' 'the' 'third' 'this']\n",
            "[[0 1 1 1 0 0 1 0 1]\n",
            " [0 2 0 1 0 1 1 0 1]\n",
            " [1 0 0 1 1 0 1 1 1]\n",
            " [0 1 1 1 0 0 1 0 1]]\n"
          ]
        }
      ],
      "source": [
        "corpus = [\n",
        "     'This is the first document.',\n",
        "     'This document is the second document.',\n",
        "     'And this is the third one.',\n",
        "     'Is this the first document?',\n",
        "]\n",
        "vectorizer = CountVectorizer()\n",
        "X = vectorizer.fit_transform(corpus)\n",
        "print(vectorizer.get_feature_names_out())\n",
        "print(X.toarray())"
      ]
    },
    {
      "cell_type": "markdown",
      "metadata": {
        "id": "khDm_40Kqw6t"
      },
      "source": [
        "### 2.b TF-IDF\n",
        "TF-IDF is an information retrieval technique that weighs a term’s frequency (TF) and its inverse document frequency (IDF). Each word or term has its respective TF and IDF score. The product of the TF and IDF scores of a term is called the TF*IDF weight of that term.\n",
        "Put simply, the higher the TF*IDF score (weight), the rarer the term and vice versa."
      ]
    },
    {
      "cell_type": "code",
      "execution_count": null,
      "metadata": {
        "colab": {
          "base_uri": "https://localhost:8080/"
        },
        "id": "vPyAJgiOqw64",
        "outputId": "e9a35c5e-49ea-46db-e78b-615d53094191"
      },
      "outputs": [
        {
          "output_type": "stream",
          "name": "stdout",
          "text": [
            "['and' 'document' 'first' 'is' 'one' 'second' 'the' 'third' 'this']\n",
            "[[0.         0.46979139 0.58028582 0.38408524 0.         0.\n",
            "  0.38408524 0.         0.38408524]\n",
            " [0.         0.6876236  0.         0.28108867 0.         0.53864762\n",
            "  0.28108867 0.         0.28108867]\n",
            " [0.51184851 0.         0.         0.26710379 0.51184851 0.\n",
            "  0.26710379 0.51184851 0.26710379]\n",
            " [0.         0.46979139 0.58028582 0.38408524 0.         0.\n",
            "  0.38408524 0.         0.38408524]]\n"
          ]
        }
      ],
      "source": [
        "vectorizer = TfidfVectorizer()\n",
        "X = vectorizer.fit_transform(corpus)\n",
        "print(vectorizer.get_feature_names_out())\n",
        "print(X.toarray())"
      ]
    },
    {
      "cell_type": "code",
      "execution_count": null,
      "metadata": {
        "colab": {
          "base_uri": "https://localhost:8080/"
        },
        "id": "mPEgzQAWza4T",
        "outputId": "123ee4f3-cf10-452d-f35a-428efa25ed12"
      },
      "outputs": [
        {
          "output_type": "stream",
          "name": "stdout",
          "text": [
            "['Weather update - a cold front from Cuba that could pass over Haiti', 'Is the Hurricane over or is it not over', 'says: west side of Haiti, rest of the country today and tonight', 'Information about the National Palace-', 'Storm at sacred heart of jesus', 'Please, we need tents and water. We are in Silo, Thank you!', 'I would like to receive the messages, thank you', \"There's nothing to eat and water, we starving and thirsty.\", 'I am in Petionville. I need more information regarding 4636', 'I am in Thomassin number 32, in the area named Pyron. I would like to have some water. Thank God we are fine, but we desperately need water. Thanks']\n"
          ]
        }
      ],
      "source": [
        "print(dataset)"
      ]
    },
    {
      "cell_type": "code",
      "execution_count": null,
      "metadata": {
        "colab": {
          "base_uri": "https://localhost:8080/"
        },
        "id": "FvmXJfZTkrbT",
        "outputId": "fa20e4c4-fb37-4be1-c3c7-3f7bd2614686"
      },
      "outputs": [
        {
          "output_type": "execute_result",
          "data": {
            "text/plain": [
              "(10, 50)"
            ]
          },
          "metadata": {},
          "execution_count": 46
        }
      ],
      "source": [
        "stop_words = set(stopwords.words('english'))\n",
        "c_vectorizer = CountVectorizer(stop_words=stop_words,lowercase = True)\n",
        "Count_Vectors = c_vectorizer.fit_transform(dataset)\n",
        "Count_Vectors.shape"
      ]
    },
    {
      "cell_type": "code",
      "execution_count": null,
      "metadata": {
        "colab": {
          "base_uri": "https://localhost:8080/"
        },
        "id": "YPI6-mNjztqB",
        "outputId": "33078558-faf1-4b86-dbbb-8cdbe8aedce5"
      },
      "outputs": [
        {
          "output_type": "stream",
          "name": "stdout",
          "text": [
            "['32' '4636' 'area' 'cold' 'could' 'country' 'cuba' 'desperately' 'eat'\n",
            " 'fine' 'front' 'god' 'haiti' 'heart' 'hurricane' 'information' 'jesus'\n",
            " 'like' 'messages' 'named' 'national' 'need' 'nothing' 'number' 'palace'\n",
            " 'pass' 'petionville' 'please' 'pyron' 'receive' 'regarding' 'rest'\n",
            " 'sacred' 'says' 'side' 'silo' 'starving' 'storm' 'tents' 'thank' 'thanks'\n",
            " 'thirsty' 'thomassin' 'today' 'tonight' 'update' 'water' 'weather' 'west'\n",
            " 'would']\n"
          ]
        }
      ],
      "source": [
        "print(c_vectorizer.get_feature_names_out())"
      ]
    },
    {
      "cell_type": "code",
      "execution_count": null,
      "metadata": {
        "colab": {
          "base_uri": "https://localhost:8080/"
        },
        "id": "MOt870N0k9VR",
        "outputId": "93f88121-1b02-4418-d136-92d596fdbfad"
      },
      "outputs": [
        {
          "output_type": "execute_result",
          "data": {
            "text/plain": [
              "             count\n",
              "pass             1\n",
              "weather          1\n",
              "haiti            1\n",
              "front            1\n",
              "cuba             1\n",
              "update           1\n",
              "could            1\n",
              "cold             1\n",
              "rest             0\n",
              "tents            0\n",
              "sacred           0\n",
              "says             0\n",
              "regarding        0\n",
              "side             0\n",
              "silo             0\n",
              "starving         0\n",
              "storm            0\n",
              "thomassin        0\n",
              "thank            0\n",
              "thanks           0\n",
              "thirsty          0\n",
              "pyron            0\n",
              "today            0\n",
              "tonight          0\n",
              "water            0\n",
              "west             0\n",
              "receive          0\n",
              "32               0\n",
              "please           0\n",
              "petionville      0\n",
              "area             0\n",
              "country          0\n",
              "desperately      0\n",
              "eat              0\n",
              "fine             0\n",
              "god              0\n",
              "heart            0\n",
              "hurricane        0\n",
              "information      0\n",
              "jesus            0\n",
              "like             0\n",
              "messages         0\n",
              "named            0\n",
              "national         0\n",
              "need             0\n",
              "nothing          0\n",
              "number           0\n",
              "palace           0\n",
              "4636             0\n",
              "would            0"
            ],
            "text/html": [
              "\n",
              "  <div id=\"df-b9ba62da-cbf4-44e4-9a9b-389b1fc0f33d\">\n",
              "    <div class=\"colab-df-container\">\n",
              "      <div>\n",
              "<style scoped>\n",
              "    .dataframe tbody tr th:only-of-type {\n",
              "        vertical-align: middle;\n",
              "    }\n",
              "\n",
              "    .dataframe tbody tr th {\n",
              "        vertical-align: top;\n",
              "    }\n",
              "\n",
              "    .dataframe thead th {\n",
              "        text-align: right;\n",
              "    }\n",
              "</style>\n",
              "<table border=\"1\" class=\"dataframe\">\n",
              "  <thead>\n",
              "    <tr style=\"text-align: right;\">\n",
              "      <th></th>\n",
              "      <th>count</th>\n",
              "    </tr>\n",
              "  </thead>\n",
              "  <tbody>\n",
              "    <tr>\n",
              "      <th>pass</th>\n",
              "      <td>1</td>\n",
              "    </tr>\n",
              "    <tr>\n",
              "      <th>weather</th>\n",
              "      <td>1</td>\n",
              "    </tr>\n",
              "    <tr>\n",
              "      <th>haiti</th>\n",
              "      <td>1</td>\n",
              "    </tr>\n",
              "    <tr>\n",
              "      <th>front</th>\n",
              "      <td>1</td>\n",
              "    </tr>\n",
              "    <tr>\n",
              "      <th>cuba</th>\n",
              "      <td>1</td>\n",
              "    </tr>\n",
              "    <tr>\n",
              "      <th>update</th>\n",
              "      <td>1</td>\n",
              "    </tr>\n",
              "    <tr>\n",
              "      <th>could</th>\n",
              "      <td>1</td>\n",
              "    </tr>\n",
              "    <tr>\n",
              "      <th>cold</th>\n",
              "      <td>1</td>\n",
              "    </tr>\n",
              "    <tr>\n",
              "      <th>rest</th>\n",
              "      <td>0</td>\n",
              "    </tr>\n",
              "    <tr>\n",
              "      <th>tents</th>\n",
              "      <td>0</td>\n",
              "    </tr>\n",
              "    <tr>\n",
              "      <th>sacred</th>\n",
              "      <td>0</td>\n",
              "    </tr>\n",
              "    <tr>\n",
              "      <th>says</th>\n",
              "      <td>0</td>\n",
              "    </tr>\n",
              "    <tr>\n",
              "      <th>regarding</th>\n",
              "      <td>0</td>\n",
              "    </tr>\n",
              "    <tr>\n",
              "      <th>side</th>\n",
              "      <td>0</td>\n",
              "    </tr>\n",
              "    <tr>\n",
              "      <th>silo</th>\n",
              "      <td>0</td>\n",
              "    </tr>\n",
              "    <tr>\n",
              "      <th>starving</th>\n",
              "      <td>0</td>\n",
              "    </tr>\n",
              "    <tr>\n",
              "      <th>storm</th>\n",
              "      <td>0</td>\n",
              "    </tr>\n",
              "    <tr>\n",
              "      <th>thomassin</th>\n",
              "      <td>0</td>\n",
              "    </tr>\n",
              "    <tr>\n",
              "      <th>thank</th>\n",
              "      <td>0</td>\n",
              "    </tr>\n",
              "    <tr>\n",
              "      <th>thanks</th>\n",
              "      <td>0</td>\n",
              "    </tr>\n",
              "    <tr>\n",
              "      <th>thirsty</th>\n",
              "      <td>0</td>\n",
              "    </tr>\n",
              "    <tr>\n",
              "      <th>pyron</th>\n",
              "      <td>0</td>\n",
              "    </tr>\n",
              "    <tr>\n",
              "      <th>today</th>\n",
              "      <td>0</td>\n",
              "    </tr>\n",
              "    <tr>\n",
              "      <th>tonight</th>\n",
              "      <td>0</td>\n",
              "    </tr>\n",
              "    <tr>\n",
              "      <th>water</th>\n",
              "      <td>0</td>\n",
              "    </tr>\n",
              "    <tr>\n",
              "      <th>west</th>\n",
              "      <td>0</td>\n",
              "    </tr>\n",
              "    <tr>\n",
              "      <th>receive</th>\n",
              "      <td>0</td>\n",
              "    </tr>\n",
              "    <tr>\n",
              "      <th>32</th>\n",
              "      <td>0</td>\n",
              "    </tr>\n",
              "    <tr>\n",
              "      <th>please</th>\n",
              "      <td>0</td>\n",
              "    </tr>\n",
              "    <tr>\n",
              "      <th>petionville</th>\n",
              "      <td>0</td>\n",
              "    </tr>\n",
              "    <tr>\n",
              "      <th>area</th>\n",
              "      <td>0</td>\n",
              "    </tr>\n",
              "    <tr>\n",
              "      <th>country</th>\n",
              "      <td>0</td>\n",
              "    </tr>\n",
              "    <tr>\n",
              "      <th>desperately</th>\n",
              "      <td>0</td>\n",
              "    </tr>\n",
              "    <tr>\n",
              "      <th>eat</th>\n",
              "      <td>0</td>\n",
              "    </tr>\n",
              "    <tr>\n",
              "      <th>fine</th>\n",
              "      <td>0</td>\n",
              "    </tr>\n",
              "    <tr>\n",
              "      <th>god</th>\n",
              "      <td>0</td>\n",
              "    </tr>\n",
              "    <tr>\n",
              "      <th>heart</th>\n",
              "      <td>0</td>\n",
              "    </tr>\n",
              "    <tr>\n",
              "      <th>hurricane</th>\n",
              "      <td>0</td>\n",
              "    </tr>\n",
              "    <tr>\n",
              "      <th>information</th>\n",
              "      <td>0</td>\n",
              "    </tr>\n",
              "    <tr>\n",
              "      <th>jesus</th>\n",
              "      <td>0</td>\n",
              "    </tr>\n",
              "    <tr>\n",
              "      <th>like</th>\n",
              "      <td>0</td>\n",
              "    </tr>\n",
              "    <tr>\n",
              "      <th>messages</th>\n",
              "      <td>0</td>\n",
              "    </tr>\n",
              "    <tr>\n",
              "      <th>named</th>\n",
              "      <td>0</td>\n",
              "    </tr>\n",
              "    <tr>\n",
              "      <th>national</th>\n",
              "      <td>0</td>\n",
              "    </tr>\n",
              "    <tr>\n",
              "      <th>need</th>\n",
              "      <td>0</td>\n",
              "    </tr>\n",
              "    <tr>\n",
              "      <th>nothing</th>\n",
              "      <td>0</td>\n",
              "    </tr>\n",
              "    <tr>\n",
              "      <th>number</th>\n",
              "      <td>0</td>\n",
              "    </tr>\n",
              "    <tr>\n",
              "      <th>palace</th>\n",
              "      <td>0</td>\n",
              "    </tr>\n",
              "    <tr>\n",
              "      <th>4636</th>\n",
              "      <td>0</td>\n",
              "    </tr>\n",
              "    <tr>\n",
              "      <th>would</th>\n",
              "      <td>0</td>\n",
              "    </tr>\n",
              "  </tbody>\n",
              "</table>\n",
              "</div>\n",
              "      <button class=\"colab-df-convert\" onclick=\"convertToInteractive('df-b9ba62da-cbf4-44e4-9a9b-389b1fc0f33d')\"\n",
              "              title=\"Convert this dataframe to an interactive table.\"\n",
              "              style=\"display:none;\">\n",
              "        \n",
              "  <svg xmlns=\"http://www.w3.org/2000/svg\" height=\"24px\"viewBox=\"0 0 24 24\"\n",
              "       width=\"24px\">\n",
              "    <path d=\"M0 0h24v24H0V0z\" fill=\"none\"/>\n",
              "    <path d=\"M18.56 5.44l.94 2.06.94-2.06 2.06-.94-2.06-.94-.94-2.06-.94 2.06-2.06.94zm-11 1L8.5 8.5l.94-2.06 2.06-.94-2.06-.94L8.5 2.5l-.94 2.06-2.06.94zm10 10l.94 2.06.94-2.06 2.06-.94-2.06-.94-.94-2.06-.94 2.06-2.06.94z\"/><path d=\"M17.41 7.96l-1.37-1.37c-.4-.4-.92-.59-1.43-.59-.52 0-1.04.2-1.43.59L10.3 9.45l-7.72 7.72c-.78.78-.78 2.05 0 2.83L4 21.41c.39.39.9.59 1.41.59.51 0 1.02-.2 1.41-.59l7.78-7.78 2.81-2.81c.8-.78.8-2.07 0-2.86zM5.41 20L4 18.59l7.72-7.72 1.47 1.35L5.41 20z\"/>\n",
              "  </svg>\n",
              "      </button>\n",
              "      \n",
              "  <style>\n",
              "    .colab-df-container {\n",
              "      display:flex;\n",
              "      flex-wrap:wrap;\n",
              "      gap: 12px;\n",
              "    }\n",
              "\n",
              "    .colab-df-convert {\n",
              "      background-color: #E8F0FE;\n",
              "      border: none;\n",
              "      border-radius: 50%;\n",
              "      cursor: pointer;\n",
              "      display: none;\n",
              "      fill: #1967D2;\n",
              "      height: 32px;\n",
              "      padding: 0 0 0 0;\n",
              "      width: 32px;\n",
              "    }\n",
              "\n",
              "    .colab-df-convert:hover {\n",
              "      background-color: #E2EBFA;\n",
              "      box-shadow: 0px 1px 2px rgba(60, 64, 67, 0.3), 0px 1px 3px 1px rgba(60, 64, 67, 0.15);\n",
              "      fill: #174EA6;\n",
              "    }\n",
              "\n",
              "    [theme=dark] .colab-df-convert {\n",
              "      background-color: #3B4455;\n",
              "      fill: #D2E3FC;\n",
              "    }\n",
              "\n",
              "    [theme=dark] .colab-df-convert:hover {\n",
              "      background-color: #434B5C;\n",
              "      box-shadow: 0px 1px 3px 1px rgba(0, 0, 0, 0.15);\n",
              "      filter: drop-shadow(0px 1px 2px rgba(0, 0, 0, 0.3));\n",
              "      fill: #FFFFFF;\n",
              "    }\n",
              "  </style>\n",
              "\n",
              "      <script>\n",
              "        const buttonEl =\n",
              "          document.querySelector('#df-b9ba62da-cbf4-44e4-9a9b-389b1fc0f33d button.colab-df-convert');\n",
              "        buttonEl.style.display =\n",
              "          google.colab.kernel.accessAllowed ? 'block' : 'none';\n",
              "\n",
              "        async function convertToInteractive(key) {\n",
              "          const element = document.querySelector('#df-b9ba62da-cbf4-44e4-9a9b-389b1fc0f33d');\n",
              "          const dataTable =\n",
              "            await google.colab.kernel.invokeFunction('convertToInteractive',\n",
              "                                                     [key], {});\n",
              "          if (!dataTable) return;\n",
              "\n",
              "          const docLinkHtml = 'Like what you see? Visit the ' +\n",
              "            '<a target=\"_blank\" href=https://colab.research.google.com/notebooks/data_table.ipynb>data table notebook</a>'\n",
              "            + ' to learn more about interactive tables.';\n",
              "          element.innerHTML = '';\n",
              "          dataTable['output_type'] = 'display_data';\n",
              "          await google.colab.output.renderOutput(dataTable, element);\n",
              "          const docLink = document.createElement('div');\n",
              "          docLink.innerHTML = docLinkHtml;\n",
              "          element.appendChild(docLink);\n",
              "        }\n",
              "      </script>\n",
              "    </div>\n",
              "  </div>\n",
              "  "
            ]
          },
          "metadata": {},
          "execution_count": 48
        }
      ],
      "source": [
        "first_freq_vector = Count_Vectors[0]\n",
        "# place cont vector values in a pandas data frame\n",
        "df = pd.DataFrame(first_freq_vector.T.todense(), index=c_vectorizer.get_feature_names_out(), columns=[\"count\"])\n",
        "df.sort_values(by=[\"count\"],ascending=False)"
      ]
    },
    {
      "cell_type": "code",
      "execution_count": null,
      "metadata": {
        "colab": {
          "base_uri": "https://localhost:8080/"
        },
        "id": "j19FrekNWkyv",
        "outputId": "5bc3237d-f7b9-48fd-aca0-8bb815e280b3"
      },
      "outputs": [
        {
          "output_type": "stream",
          "name": "stdout",
          "text": [
            "(10, 12)\n"
          ]
        },
        {
          "output_type": "stream",
          "name": "stderr",
          "text": [
            "/usr/local/lib/python3.7/dist-packages/sklearn/feature_extraction/text.py:401: UserWarning: Your stop_words may be inconsistent with your preprocessing. Tokenizing the stop words generated tokens [\"'d\", \"'ll\", \"'re\", \"'s\", \"'ve\", 'could', 'might', 'must', \"n't\", 'need', 'sha', 'wo', 'would'] not in stop_words.\n",
            "  % sorted(inconsistent)\n"
          ]
        },
        {
          "output_type": "execute_result",
          "data": {
            "text/plain": [
              "array([',', ', thank', '.', 'haiti', 'information', 'like', 'need',\n",
              "       'thank', 'water', 'water .', 'would', 'would like'], dtype=object)"
            ]
          },
          "metadata": {},
          "execution_count": 49
        }
      ],
      "source": [
        "c_vectorizer_alt = CountVectorizer(\n",
        "    stop_words=stop_words,\n",
        "    lowercase = True,\n",
        "    ngram_range=(1,2),\n",
        "    min_df=2,\n",
        "    max_df=0.80,\n",
        "    max_features=30,\n",
        "    tokenizer=word_tokenize)\n",
        "\n",
        "Count_Vectors_alt = c_vectorizer_alt.fit_transform(dataset)\n",
        "print(Count_Vectors_alt.shape)\n",
        "c_vectorizer_alt.get_feature_names_out()"
      ]
    },
    {
      "cell_type": "code",
      "execution_count": null,
      "metadata": {
        "id": "Z0CWcE4gHgbL"
      },
      "outputs": [],
      "source": [
        "stop_words = set(stopwords.words('english'))\n",
        "vectorizer = TfidfVectorizer(stop_words=stop_words,lowercase = True)\n",
        "Doc_TFIDF_Vector = vectorizer.fit_transform(dataset)"
      ]
    },
    {
      "cell_type": "code",
      "execution_count": null,
      "metadata": {
        "colab": {
          "base_uri": "https://localhost:8080/"
        },
        "id": "CF_eTLRdkdBb",
        "outputId": "a53c9822-ab89-4c72-f53a-81599ffd6d3e"
      },
      "outputs": [
        {
          "output_type": "stream",
          "name": "stdout",
          "text": [
            "Shape of the TF-IDF Vector is: (1, 50)\n"
          ]
        }
      ],
      "source": [
        "#Shape of the Document Vector\n",
        "print(\"Shape of the TF-IDF Vector is:\",Doc_TFIDF_Vector[0].shape)"
      ]
    },
    {
      "cell_type": "code",
      "execution_count": null,
      "metadata": {
        "colab": {
          "base_uri": "https://localhost:8080/"
        },
        "id": "rqb_3GZc1fvM",
        "outputId": "e0ffba91-be7f-4d07-801b-18ecb9fd41f0"
      },
      "outputs": [
        {
          "output_type": "stream",
          "name": "stdout",
          "text": [
            "  (0, 12)\t0.3059019717539992\n",
            "  (0, 25)\t0.3598459955665589\n",
            "  (0, 4)\t0.3598459955665589\n",
            "  (0, 6)\t0.3598459955665589\n",
            "  (0, 10)\t0.3598459955665589\n",
            "  (0, 3)\t0.3598459955665589\n",
            "  (0, 45)\t0.3598459955665589\n",
            "  (0, 47)\t0.3598459955665589\n",
            "  (1, 14)\t1.0\n",
            "  (2, 44)\t0.3598459955665589\n",
            "  (2, 43)\t0.3598459955665589\n",
            "  (2, 5)\t0.3598459955665589\n",
            "  (2, 31)\t0.3598459955665589\n",
            "  (2, 34)\t0.3598459955665589\n",
            "  (2, 48)\t0.3598459955665589\n",
            "  (2, 33)\t0.3598459955665589\n",
            "  (2, 12)\t0.3059019717539992\n",
            "  (3, 24)\t0.6060433187339399\n",
            "  (3, 20)\t0.6060433187339399\n",
            "  (3, 15)\t0.5151921890284284\n",
            "  (4, 16)\t0.5\n",
            "  (4, 13)\t0.5\n",
            "  (4, 32)\t0.5\n",
            "  (4, 37)\t0.5\n",
            "  (5, 39)\t0.344548189882523\n",
            "  :\t:\n",
            "  (7, 41)\t0.4686458822988574\n",
            "  (7, 36)\t0.4686458822988574\n",
            "  (7, 8)\t0.4686458822988574\n",
            "  (7, 22)\t0.4686458822988574\n",
            "  (7, 46)\t0.348545761726207\n",
            "  (8, 1)\t0.4836062152711379\n",
            "  (8, 30)\t0.4836062152711379\n",
            "  (8, 26)\t0.4836062152711379\n",
            "  (8, 21)\t0.3596722024962039\n",
            "  (8, 15)\t0.4111094652339048\n",
            "  (9, 40)\t0.26025335409453165\n",
            "  (9, 7)\t0.26025335409453165\n",
            "  (9, 9)\t0.26025335409453165\n",
            "  (9, 11)\t0.26025335409453165\n",
            "  (9, 28)\t0.26025335409453165\n",
            "  (9, 19)\t0.26025335409453165\n",
            "  (9, 2)\t0.26025335409453165\n",
            "  (9, 0)\t0.26025335409453165\n",
            "  (9, 23)\t0.26025335409453165\n",
            "  (9, 42)\t0.26025335409453165\n",
            "  (9, 17)\t0.2212391277211908\n",
            "  (9, 49)\t0.2212391277211908\n",
            "  (9, 39)\t0.19355809358596376\n",
            "  (9, 46)\t0.38711618717192753\n",
            "  (9, 21)\t0.19355809358596376\n"
          ]
        }
      ],
      "source": [
        "print(Doc_TFIDF_Vector)"
      ]
    },
    {
      "cell_type": "markdown",
      "metadata": {
        "id": "jgFlANWwQyJk"
      },
      "source": [
        "#### Visualizing TF-IDF Vector of the first document"
      ]
    },
    {
      "cell_type": "code",
      "execution_count": null,
      "metadata": {
        "colab": {
          "base_uri": "https://localhost:8080/"
        },
        "id": "sSszZxe1HgYy",
        "outputId": "d9162825-973b-47b9-af5c-ee081ffa15f3"
      },
      "outputs": [
        {
          "output_type": "execute_result",
          "data": {
            "text/plain": [
              "                tfidf\n",
              "palace       0.606043\n",
              "national     0.606043\n",
              "information  0.515192\n",
              "32           0.000000\n",
              "please       0.000000\n",
              "receive      0.000000\n",
              "regarding    0.000000\n",
              "rest         0.000000\n",
              "sacred       0.000000\n",
              "says         0.000000\n",
              "side         0.000000\n",
              "silo         0.000000\n",
              "starving     0.000000\n",
              "storm        0.000000\n",
              "tents        0.000000\n",
              "thank        0.000000\n",
              "thanks       0.000000\n",
              "thirsty      0.000000\n",
              "thomassin    0.000000\n",
              "today        0.000000\n",
              "tonight      0.000000\n",
              "update       0.000000\n",
              "water        0.000000\n",
              "weather      0.000000\n",
              "west         0.000000\n",
              "pyron        0.000000\n",
              "pass         0.000000\n",
              "petionville  0.000000\n",
              "god          0.000000\n",
              "area         0.000000\n",
              "cold         0.000000\n",
              "could        0.000000\n",
              "country      0.000000\n",
              "cuba         0.000000\n",
              "desperately  0.000000\n",
              "eat          0.000000\n",
              "fine         0.000000\n",
              "front        0.000000\n",
              "haiti        0.000000\n",
              "4636         0.000000\n",
              "heart        0.000000\n",
              "hurricane    0.000000\n",
              "jesus        0.000000\n",
              "like         0.000000\n",
              "messages     0.000000\n",
              "named        0.000000\n",
              "need         0.000000\n",
              "nothing      0.000000\n",
              "number       0.000000\n",
              "would        0.000000"
            ],
            "text/html": [
              "\n",
              "  <div id=\"df-3a9b3a19-06d0-40b3-96a1-8e3c44458650\">\n",
              "    <div class=\"colab-df-container\">\n",
              "      <div>\n",
              "<style scoped>\n",
              "    .dataframe tbody tr th:only-of-type {\n",
              "        vertical-align: middle;\n",
              "    }\n",
              "\n",
              "    .dataframe tbody tr th {\n",
              "        vertical-align: top;\n",
              "    }\n",
              "\n",
              "    .dataframe thead th {\n",
              "        text-align: right;\n",
              "    }\n",
              "</style>\n",
              "<table border=\"1\" class=\"dataframe\">\n",
              "  <thead>\n",
              "    <tr style=\"text-align: right;\">\n",
              "      <th></th>\n",
              "      <th>tfidf</th>\n",
              "    </tr>\n",
              "  </thead>\n",
              "  <tbody>\n",
              "    <tr>\n",
              "      <th>palace</th>\n",
              "      <td>0.606043</td>\n",
              "    </tr>\n",
              "    <tr>\n",
              "      <th>national</th>\n",
              "      <td>0.606043</td>\n",
              "    </tr>\n",
              "    <tr>\n",
              "      <th>information</th>\n",
              "      <td>0.515192</td>\n",
              "    </tr>\n",
              "    <tr>\n",
              "      <th>32</th>\n",
              "      <td>0.000000</td>\n",
              "    </tr>\n",
              "    <tr>\n",
              "      <th>please</th>\n",
              "      <td>0.000000</td>\n",
              "    </tr>\n",
              "    <tr>\n",
              "      <th>receive</th>\n",
              "      <td>0.000000</td>\n",
              "    </tr>\n",
              "    <tr>\n",
              "      <th>regarding</th>\n",
              "      <td>0.000000</td>\n",
              "    </tr>\n",
              "    <tr>\n",
              "      <th>rest</th>\n",
              "      <td>0.000000</td>\n",
              "    </tr>\n",
              "    <tr>\n",
              "      <th>sacred</th>\n",
              "      <td>0.000000</td>\n",
              "    </tr>\n",
              "    <tr>\n",
              "      <th>says</th>\n",
              "      <td>0.000000</td>\n",
              "    </tr>\n",
              "    <tr>\n",
              "      <th>side</th>\n",
              "      <td>0.000000</td>\n",
              "    </tr>\n",
              "    <tr>\n",
              "      <th>silo</th>\n",
              "      <td>0.000000</td>\n",
              "    </tr>\n",
              "    <tr>\n",
              "      <th>starving</th>\n",
              "      <td>0.000000</td>\n",
              "    </tr>\n",
              "    <tr>\n",
              "      <th>storm</th>\n",
              "      <td>0.000000</td>\n",
              "    </tr>\n",
              "    <tr>\n",
              "      <th>tents</th>\n",
              "      <td>0.000000</td>\n",
              "    </tr>\n",
              "    <tr>\n",
              "      <th>thank</th>\n",
              "      <td>0.000000</td>\n",
              "    </tr>\n",
              "    <tr>\n",
              "      <th>thanks</th>\n",
              "      <td>0.000000</td>\n",
              "    </tr>\n",
              "    <tr>\n",
              "      <th>thirsty</th>\n",
              "      <td>0.000000</td>\n",
              "    </tr>\n",
              "    <tr>\n",
              "      <th>thomassin</th>\n",
              "      <td>0.000000</td>\n",
              "    </tr>\n",
              "    <tr>\n",
              "      <th>today</th>\n",
              "      <td>0.000000</td>\n",
              "    </tr>\n",
              "    <tr>\n",
              "      <th>tonight</th>\n",
              "      <td>0.000000</td>\n",
              "    </tr>\n",
              "    <tr>\n",
              "      <th>update</th>\n",
              "      <td>0.000000</td>\n",
              "    </tr>\n",
              "    <tr>\n",
              "      <th>water</th>\n",
              "      <td>0.000000</td>\n",
              "    </tr>\n",
              "    <tr>\n",
              "      <th>weather</th>\n",
              "      <td>0.000000</td>\n",
              "    </tr>\n",
              "    <tr>\n",
              "      <th>west</th>\n",
              "      <td>0.000000</td>\n",
              "    </tr>\n",
              "    <tr>\n",
              "      <th>pyron</th>\n",
              "      <td>0.000000</td>\n",
              "    </tr>\n",
              "    <tr>\n",
              "      <th>pass</th>\n",
              "      <td>0.000000</td>\n",
              "    </tr>\n",
              "    <tr>\n",
              "      <th>petionville</th>\n",
              "      <td>0.000000</td>\n",
              "    </tr>\n",
              "    <tr>\n",
              "      <th>god</th>\n",
              "      <td>0.000000</td>\n",
              "    </tr>\n",
              "    <tr>\n",
              "      <th>area</th>\n",
              "      <td>0.000000</td>\n",
              "    </tr>\n",
              "    <tr>\n",
              "      <th>cold</th>\n",
              "      <td>0.000000</td>\n",
              "    </tr>\n",
              "    <tr>\n",
              "      <th>could</th>\n",
              "      <td>0.000000</td>\n",
              "    </tr>\n",
              "    <tr>\n",
              "      <th>country</th>\n",
              "      <td>0.000000</td>\n",
              "    </tr>\n",
              "    <tr>\n",
              "      <th>cuba</th>\n",
              "      <td>0.000000</td>\n",
              "    </tr>\n",
              "    <tr>\n",
              "      <th>desperately</th>\n",
              "      <td>0.000000</td>\n",
              "    </tr>\n",
              "    <tr>\n",
              "      <th>eat</th>\n",
              "      <td>0.000000</td>\n",
              "    </tr>\n",
              "    <tr>\n",
              "      <th>fine</th>\n",
              "      <td>0.000000</td>\n",
              "    </tr>\n",
              "    <tr>\n",
              "      <th>front</th>\n",
              "      <td>0.000000</td>\n",
              "    </tr>\n",
              "    <tr>\n",
              "      <th>haiti</th>\n",
              "      <td>0.000000</td>\n",
              "    </tr>\n",
              "    <tr>\n",
              "      <th>4636</th>\n",
              "      <td>0.000000</td>\n",
              "    </tr>\n",
              "    <tr>\n",
              "      <th>heart</th>\n",
              "      <td>0.000000</td>\n",
              "    </tr>\n",
              "    <tr>\n",
              "      <th>hurricane</th>\n",
              "      <td>0.000000</td>\n",
              "    </tr>\n",
              "    <tr>\n",
              "      <th>jesus</th>\n",
              "      <td>0.000000</td>\n",
              "    </tr>\n",
              "    <tr>\n",
              "      <th>like</th>\n",
              "      <td>0.000000</td>\n",
              "    </tr>\n",
              "    <tr>\n",
              "      <th>messages</th>\n",
              "      <td>0.000000</td>\n",
              "    </tr>\n",
              "    <tr>\n",
              "      <th>named</th>\n",
              "      <td>0.000000</td>\n",
              "    </tr>\n",
              "    <tr>\n",
              "      <th>need</th>\n",
              "      <td>0.000000</td>\n",
              "    </tr>\n",
              "    <tr>\n",
              "      <th>nothing</th>\n",
              "      <td>0.000000</td>\n",
              "    </tr>\n",
              "    <tr>\n",
              "      <th>number</th>\n",
              "      <td>0.000000</td>\n",
              "    </tr>\n",
              "    <tr>\n",
              "      <th>would</th>\n",
              "      <td>0.000000</td>\n",
              "    </tr>\n",
              "  </tbody>\n",
              "</table>\n",
              "</div>\n",
              "      <button class=\"colab-df-convert\" onclick=\"convertToInteractive('df-3a9b3a19-06d0-40b3-96a1-8e3c44458650')\"\n",
              "              title=\"Convert this dataframe to an interactive table.\"\n",
              "              style=\"display:none;\">\n",
              "        \n",
              "  <svg xmlns=\"http://www.w3.org/2000/svg\" height=\"24px\"viewBox=\"0 0 24 24\"\n",
              "       width=\"24px\">\n",
              "    <path d=\"M0 0h24v24H0V0z\" fill=\"none\"/>\n",
              "    <path d=\"M18.56 5.44l.94 2.06.94-2.06 2.06-.94-2.06-.94-.94-2.06-.94 2.06-2.06.94zm-11 1L8.5 8.5l.94-2.06 2.06-.94-2.06-.94L8.5 2.5l-.94 2.06-2.06.94zm10 10l.94 2.06.94-2.06 2.06-.94-2.06-.94-.94-2.06-.94 2.06-2.06.94z\"/><path d=\"M17.41 7.96l-1.37-1.37c-.4-.4-.92-.59-1.43-.59-.52 0-1.04.2-1.43.59L10.3 9.45l-7.72 7.72c-.78.78-.78 2.05 0 2.83L4 21.41c.39.39.9.59 1.41.59.51 0 1.02-.2 1.41-.59l7.78-7.78 2.81-2.81c.8-.78.8-2.07 0-2.86zM5.41 20L4 18.59l7.72-7.72 1.47 1.35L5.41 20z\"/>\n",
              "  </svg>\n",
              "      </button>\n",
              "      \n",
              "  <style>\n",
              "    .colab-df-container {\n",
              "      display:flex;\n",
              "      flex-wrap:wrap;\n",
              "      gap: 12px;\n",
              "    }\n",
              "\n",
              "    .colab-df-convert {\n",
              "      background-color: #E8F0FE;\n",
              "      border: none;\n",
              "      border-radius: 50%;\n",
              "      cursor: pointer;\n",
              "      display: none;\n",
              "      fill: #1967D2;\n",
              "      height: 32px;\n",
              "      padding: 0 0 0 0;\n",
              "      width: 32px;\n",
              "    }\n",
              "\n",
              "    .colab-df-convert:hover {\n",
              "      background-color: #E2EBFA;\n",
              "      box-shadow: 0px 1px 2px rgba(60, 64, 67, 0.3), 0px 1px 3px 1px rgba(60, 64, 67, 0.15);\n",
              "      fill: #174EA6;\n",
              "    }\n",
              "\n",
              "    [theme=dark] .colab-df-convert {\n",
              "      background-color: #3B4455;\n",
              "      fill: #D2E3FC;\n",
              "    }\n",
              "\n",
              "    [theme=dark] .colab-df-convert:hover {\n",
              "      background-color: #434B5C;\n",
              "      box-shadow: 0px 1px 3px 1px rgba(0, 0, 0, 0.15);\n",
              "      filter: drop-shadow(0px 1px 2px rgba(0, 0, 0, 0.3));\n",
              "      fill: #FFFFFF;\n",
              "    }\n",
              "  </style>\n",
              "\n",
              "      <script>\n",
              "        const buttonEl =\n",
              "          document.querySelector('#df-3a9b3a19-06d0-40b3-96a1-8e3c44458650 button.colab-df-convert');\n",
              "        buttonEl.style.display =\n",
              "          google.colab.kernel.accessAllowed ? 'block' : 'none';\n",
              "\n",
              "        async function convertToInteractive(key) {\n",
              "          const element = document.querySelector('#df-3a9b3a19-06d0-40b3-96a1-8e3c44458650');\n",
              "          const dataTable =\n",
              "            await google.colab.kernel.invokeFunction('convertToInteractive',\n",
              "                                                     [key], {});\n",
              "          if (!dataTable) return;\n",
              "\n",
              "          const docLinkHtml = 'Like what you see? Visit the ' +\n",
              "            '<a target=\"_blank\" href=https://colab.research.google.com/notebooks/data_table.ipynb>data table notebook</a>'\n",
              "            + ' to learn more about interactive tables.';\n",
              "          element.innerHTML = '';\n",
              "          dataTable['output_type'] = 'display_data';\n",
              "          await google.colab.output.renderOutput(dataTable, element);\n",
              "          const docLink = document.createElement('div');\n",
              "          docLink.innerHTML = docLinkHtml;\n",
              "          element.appendChild(docLink);\n",
              "        }\n",
              "      </script>\n",
              "    </div>\n",
              "  </div>\n",
              "  "
            ]
          },
          "metadata": {},
          "execution_count": 53
        }
      ],
      "source": [
        "# import pandas as pd\n",
        "first_doc_vector = Doc_TFIDF_Vector[3]\n",
        "# place tf-idf values in a pandas data frame\n",
        "df = pd.DataFrame(first_doc_vector.T.todense(), index=vectorizer.get_feature_names_out(), columns=[\"tfidf\"])\n",
        "df.sort_values(by=[\"tfidf\"],ascending=False)"
      ]
    },
    {
      "cell_type": "markdown",
      "metadata": {
        "id": "FiF7HLP2RR3-"
      },
      "source": [
        "### Find similar documents\n",
        "Given a list of documents, find k most similar documents to it using TF-IDF vectors"
      ]
    },
    {
      "cell_type": "code",
      "execution_count": null,
      "metadata": {
        "colab": {
          "base_uri": "https://localhost:8080/"
        },
        "id": "P20m7t3BRVL9",
        "outputId": "f29a93ff-d449-4221-e844-eaaecd5526ee"
      },
      "outputs": [
        {
          "output_type": "execute_result",
          "data": {
            "text/plain": [
              "['UN reports Leogane 80-90 destroyed. Only Hospital St. Croix functioning. Needs supplies desperately.',\n",
              " 'We are at Gressier we needs assistance right away. ASAP, Come help us.',\n",
              " 'Delmas 33 in Silo, need water.',\n",
              " 'SOS SOS, please provide police officers on the streets as they are very insecure',\n",
              " 'I am a driver, a mechanic ,. I want to help',\n",
              " 'We are at Fort Mercredi ( wednesday ) where can we find tents and treated water.',\n",
              " 'Our imcomprehensibley of 9 member was repatriated incomprehensible - (Location) Duvivier, Fond Grango',\n",
              " 'A cold front is on Cuba this morning. It could cross Haiti tomorrow. Isolated rain showers are expected for our region.',\n",
              " 'Please Bo Gravel Vob Ta A 41 we are hungry. Need food.',\n",
              " 'We are not located in one place, and i want you to know there is a lot of available spaces to put up tent for shelters  is the reason why we station in front of our house for more safety against thief, as you see.']"
            ]
          },
          "metadata": {},
          "execution_count": 54
        }
      ],
      "source": [
        "# query_doc = pd.read_csv(\"https://datasets.appen.com/appen_datasets/disaster_response_data/disaster_response_messages_test.csv\")\n",
        "# query_doc.head()\n",
        "query_url = \"https://raw.githubusercontent.com/cameronbronstein/Project-4-New-Light-Technologies-Client-Project/master/datasets/disaster_response_messages_test.csv\"\n",
        "query_doc = pd.read_csv(query_url)\n",
        "queries = query_doc.message[:10].to_list()\n",
        "queries"
      ]
    },
    {
      "cell_type": "code",
      "execution_count": null,
      "metadata": {
        "id": "CDNi-3EnonbV"
      },
      "outputs": [],
      "source": [
        "import numpy as np\n",
        "from sklearn.metrics.pairwise import cosine_distances, cosine_similarity"
      ]
    },
    {
      "cell_type": "code",
      "execution_count": null,
      "metadata": {
        "id": "3QRFpLRf3gN-"
      },
      "outputs": [],
      "source": [
        "stop_words = set(stopwords.words('english'))\n",
        "vectorizer = TfidfVectorizer(stop_words=stop_words,lowercase = True)\n",
        "Doc_TFIDF_Vector2 = vectorizer.fit_transform(queries)"
      ]
    },
    {
      "cell_type": "code",
      "execution_count": null,
      "metadata": {
        "colab": {
          "base_uri": "https://localhost:8080/"
        },
        "id": "gVKxwBFv3_zU",
        "outputId": "89cbd368-db42-414f-ba94-cf92acbf22b8"
      },
      "outputs": [
        {
          "output_type": "stream",
          "name": "stdout",
          "text": [
            "[[1.         0.06971633 0.         0.         0.         0.\n",
            "  0.         0.         0.         0.        ]\n",
            " [0.06971633 1.         0.         0.         0.13397051 0.\n",
            "  0.         0.         0.         0.        ]\n",
            " [0.         0.         1.         0.         0.         0.13219339\n",
            "  0.         0.         0.11794304 0.        ]\n",
            " [0.         0.         0.         1.         0.         0.\n",
            "  0.         0.         0.07975005 0.        ]\n",
            " [0.         0.13397051 0.         0.         1.         0.\n",
            "  0.         0.         0.         0.09321325]\n",
            " [0.         0.         0.13219339 0.         0.         1.\n",
            "  0.         0.         0.         0.        ]\n",
            " [0.         0.         0.         0.         0.         0.\n",
            "  1.         0.         0.         0.        ]\n",
            " [0.         0.         0.         0.         0.         0.\n",
            "  0.         1.         0.         0.04850684]\n",
            " [0.         0.         0.11794304 0.07975005 0.         0.\n",
            "  0.         0.         1.         0.        ]\n",
            " [0.         0.         0.         0.         0.09321325 0.\n",
            "  0.         0.04850684 0.         1.        ]]\n"
          ]
        }
      ],
      "source": [
        "from sklearn.metrics.pairwise import cosine_similarity\n",
        "cosine_sim = cosine_similarity(Doc_TFIDF_Vector2, Doc_TFIDF_Vector2)\n",
        "print(cosine_sim)"
      ]
    },
    {
      "cell_type": "markdown",
      "metadata": {
        "id": "iCJWxIZnpz6B"
      },
      "source": [
        "## 3. Visualization\n",
        "Use t-sne to project vectors into 2 dimensions and plot"
      ]
    },
    {
      "cell_type": "code",
      "execution_count": null,
      "metadata": {
        "id": "GL14Xr1kaOlJ"
      },
      "outputs": [],
      "source": [
        "from sklearn.manifold import TSNE\n",
        "from matplotlib import pyplot as plt"
      ]
    },
    {
      "cell_type": "code",
      "execution_count": null,
      "metadata": {
        "id": "D8I0FQ16pwsh"
      },
      "outputs": [],
      "source": [
        "def plot_features_tsne(X, tokens: list = None):\n",
        "    \"\"\" Plots TSNE representations of tokens and their embeddings.\n",
        "\n",
        "    :param X: N x D\n",
        "    :param tokens: N\n",
        "    :param limit_view:\n",
        "    \"\"\"\n",
        "    tsne = TSNE(n_components=2, random_state=0, perplexity=3)\n",
        "\n",
        "    X_2d = tsne.fit_transform(X)\n",
        "    print(X_2d.shape, len(tokens))\n",
        "    colors = range(X_2d.shape[0])\n",
        "\n",
        "    plt.figure(figsize=(6, 5))\n",
        "    if tokens is not None:\n",
        "        for i, token in enumerate(tokens):\n",
        "            plt.annotate(token, xy=(X_2d[i, 0], X_2d[i, 1]), zorder=1)\n",
        "    plt.scatter(X_2d[:, 0], X_2d[:, 1], c=colors, s=60, alpha=.5)\n",
        "    plt.title('TSNE visualization of input vectors in 2D')\n",
        "    # plt.xlabel('x-axis')\n",
        "    # plt.ylabel('y-axis')\n",
        "    plt.show()"
      ]
    },
    {
      "cell_type": "code",
      "execution_count": null,
      "metadata": {
        "colab": {
          "base_uri": "https://localhost:8080/",
          "height": 423
        },
        "id": "JWko9rCAbDH4",
        "outputId": "7c941921-0ee7-46fa-83fe-5cd87e8dcc56"
      },
      "outputs": [
        {
          "output_type": "stream",
          "name": "stderr",
          "text": [
            "/usr/local/lib/python3.7/dist-packages/sklearn/manifold/_t_sne.py:783: FutureWarning: The default initialization in TSNE will change from 'random' to 'pca' in 1.2.\n",
            "  FutureWarning,\n",
            "/usr/local/lib/python3.7/dist-packages/sklearn/manifold/_t_sne.py:793: FutureWarning: The default learning rate in TSNE will change from 200.0 to 'auto' in 1.2.\n",
            "  FutureWarning,\n"
          ]
        },
        {
          "output_type": "stream",
          "name": "stdout",
          "text": [
            "(10, 2) 10\n"
          ]
        },
        {
          "output_type": "display_data",
          "data": {
            "text/plain": [
              "<Figure size 432x360 with 1 Axes>"
            ],
            "image/png": "[encoded data removed]"
          },
          "metadata": {
            "needs_background": "light"
          }
        }
      ],
      "source": [
        "plot_features_tsne(Count_Vectors, tokens = dataset)"
      ]
    },
    {
      "cell_type": "code",
      "execution_count": null,
      "metadata": {
        "colab": {
          "base_uri": "https://localhost:8080/",
          "height": 353
        },
        "id": "3CU2wbf0b8Ee",
        "outputId": "f7832b2a-d85b-4717-c3c9-20706061d1ec"
      },
      "outputs": [
        {
          "output_type": "stream",
          "name": "stdout",
          "text": [
            "(10, 2) 10\n"
          ]
        },
        {
          "output_type": "display_data",
          "data": {
            "text/plain": [
              "<Figure size 432x360 with 1 Axes>"
            ],
            "image/png": "[encoded data removed]"
          },
          "metadata": {
            "needs_background": "light"
          }
        }
      ],
      "source": [
        "plot_features_tsne(Doc_TFIDF_Vector, tokens = dataset)"
      ]
    },
    {
      "cell_type": "code",
      "execution_count": null,
      "metadata": {
        "colab": {
          "base_uri": "https://localhost:8080/"
        },
        "id": "fd9CMzhXpcox",
        "outputId": "d7469f20-51b1-4898-cd23-226edbdd2689"
      },
      "outputs": [
        {
          "output_type": "execute_result",
          "data": {
            "text/plain": [
              "matrix([[0, 0, 0, 1, 1, 0, 1, 0, 0, 0, 1, 0, 1, 0, 0, 0, 0, 0, 0, 0, 0,\n",
              "         0, 0, 0, 0, 1, 0, 0, 0, 0, 0, 0, 0, 0, 0, 0, 0, 0, 0, 0, 0, 0,\n",
              "         0, 0, 0, 1, 0, 1, 0, 0],\n",
              "        [0, 0, 0, 0, 0, 0, 0, 0, 0, 0, 0, 0, 0, 0, 1, 0, 0, 0, 0, 0, 0,\n",
              "         0, 0, 0, 0, 0, 0, 0, 0, 0, 0, 0, 0, 0, 0, 0, 0, 0, 0, 0, 0, 0,\n",
              "         0, 0, 0, 0, 0, 0, 0, 0],\n",
              "        [0, 0, 0, 0, 0, 1, 0, 0, 0, 0, 0, 0, 1, 0, 0, 0, 0, 0, 0, 0, 0,\n",
              "         0, 0, 0, 0, 0, 0, 0, 0, 0, 0, 1, 0, 1, 1, 0, 0, 0, 0, 0, 0, 0,\n",
              "         0, 1, 1, 0, 0, 0, 1, 0],\n",
              "        [0, 0, 0, 0, 0, 0, 0, 0, 0, 0, 0, 0, 0, 0, 0, 1, 0, 0, 0, 0, 1,\n",
              "         0, 0, 0, 1, 0, 0, 0, 0, 0, 0, 0, 0, 0, 0, 0, 0, 0, 0, 0, 0, 0,\n",
              "         0, 0, 0, 0, 0, 0, 0, 0],\n",
              "        [0, 0, 0, 0, 0, 0, 0, 0, 0, 0, 0, 0, 0, 1, 0, 0, 1, 0, 0, 0, 0,\n",
              "         0, 0, 0, 0, 0, 0, 0, 0, 0, 0, 0, 1, 0, 0, 0, 0, 1, 0, 0, 0, 0,\n",
              "         0, 0, 0, 0, 0, 0, 0, 0],\n",
              "        [0, 0, 0, 0, 0, 0, 0, 0, 0, 0, 0, 0, 0, 0, 0, 0, 0, 0, 0, 0, 0,\n",
              "         1, 0, 0, 0, 0, 0, 1, 0, 0, 0, 0, 0, 0, 0, 1, 0, 0, 1, 1, 0, 0,\n",
              "         0, 0, 0, 0, 1, 0, 0, 0],\n",
              "        [0, 0, 0, 0, 0, 0, 0, 0, 0, 0, 0, 0, 0, 0, 0, 0, 0, 1, 1, 0, 0,\n",
              "         0, 0, 0, 0, 0, 0, 0, 0, 1, 0, 0, 0, 0, 0, 0, 0, 0, 0, 1, 0, 0,\n",
              "         0, 0, 0, 0, 0, 0, 0, 1],\n",
              "        [0, 0, 0, 0, 0, 0, 0, 0, 1, 0, 0, 0, 0, 0, 0, 0, 0, 0, 0, 0, 0,\n",
              "         0, 1, 0, 0, 0, 0, 0, 0, 0, 0, 0, 0, 0, 0, 0, 1, 0, 0, 0, 0, 1,\n",
              "         0, 0, 0, 0, 1, 0, 0, 0],\n",
              "        [0, 1, 0, 0, 0, 0, 0, 0, 0, 0, 0, 0, 0, 0, 0, 1, 0, 0, 0, 0, 0,\n",
              "         1, 0, 0, 0, 0, 1, 0, 0, 0, 1, 0, 0, 0, 0, 0, 0, 0, 0, 0, 0, 0,\n",
              "         0, 0, 0, 0, 0, 0, 0, 0],\n",
              "        [1, 0, 1, 0, 0, 0, 0, 1, 0, 1, 0, 1, 0, 0, 0, 0, 0, 1, 0, 1, 0,\n",
              "         1, 0, 1, 0, 0, 0, 0, 1, 0, 0, 0, 0, 0, 0, 0, 0, 0, 0, 1, 1, 0,\n",
              "         1, 0, 0, 0, 2, 0, 0, 1]])"
            ]
          },
          "metadata": {},
          "execution_count": 62
        }
      ],
      "source": [
        "Count_Vectors.todense()"
      ]
    },
    {
      "cell_type": "markdown",
      "metadata": {
        "id": "sdqjqs-apgbd",
        "outputId": "c1e9f436-47df-4a38-f5b7-9baaaf64c788"
      },
      "source": [
        "## 4. Distributed Representation"
      ]
    },
    {
      "cell_type": "markdown",
      "metadata": {
        "id": "C17CQkwYRaqN"
      },
      "source": [
        "### Word2Vec\n",
        "\n",
        "The idea behind Word2Vec is pretty simple. We’re making an assumption that the **meaning of a word can be inferred by the company it keeps**. This is analogous to the saying, “*show me your friends, and I’ll tell who you are*”. For example, the words shocked, appalled and astonished are usually used in a similar context.\n",
        "\n",
        "In this hands-on session, you will learn how to use the [**Gensim**](https://radimrehurek.com/gensim/) implementation of Word2Vec (in python) and actually get it to work.\n",
        "\n",
        "## Training the Word2Vec model\n",
        "\n",
        "To train a Word2Vec model you need to pass all the documents. So, we are essentially passing a list of strings where each string within the main list contains the document. Gensim implementation needs vocabulary. And by vocabulary, I mean a set of unique words.\n",
        "\n",
        "After building the vocabulary, we just need to call `train(...)`\n",
        "\n",
        "*Behind the scenes*, we are actually training a **neural network with a single hidden layer**. But, we are actually not going to use the neural network after training. Instead, the goal is to learn the weights of the hidden layer. These weights are essentially the word vectors that we’re trying to learn."
      ]
    },
    {
      "cell_type": "code",
      "execution_count": null,
      "metadata": {
        "id": "OlSWuL-TkJkk",
        "colab": {
          "base_uri": "https://localhost:8080/"
        },
        "outputId": "35108022-fac5-4fa9-9706-da7c56d88b6c"
      },
      "outputs": [
        {
          "output_type": "stream",
          "name": "stderr",
          "text": [
            "WARNING:gensim.models.base_any2vec:under 10 jobs per worker: consider setting a smaller `batch_words' for smoother alpha decay\n"
          ]
        }
      ],
      "source": [
        "from gensim.models import Word2Vec\n",
        "\n",
        "sentences = [['this', 'is', 'the', 'first', 'sentence', 'for', 'word2vec'],\n",
        "\t\t\t['this', 'is', 'the', 'second', 'sentence'],\n",
        "\t\t\t['yet', 'another', 'sentence'],\n",
        "\t\t\t['one', 'more', 'sentence'],\n",
        "\t\t\t['and', 'the', 'final', 'sentence']]\n",
        "# train model\n",
        "model = Word2Vec(sentences, size = 20, window = 5, min_count=1)"
      ]
    },
    {
      "cell_type": "markdown",
      "metadata": {
        "id": "I_ZtdPiTRi_d"
      },
      "source": [
        "## Understanding the parameters\n",
        "\n",
        "Reference: https://radimrehurek.com/gensim/models/word2vec.html\n",
        "\n",
        "> **vector_size**: The size of the dense vector to represent each token (here word). If you have very limited data, then size should be a much smaller value. If you have lots of data, its good to experiment with various sizes. The standard size is usually `300`.\n",
        "\n",
        "> **window**: The maximum distance between the target word and its neighboring words when considering context. If your neighbor's position is greater than the maximum window width to the left and the right, then, some neighbors are not considered as being related to the target word. In theory, a smaller window should give you terms that are more related. If you have lots of data, then the window size should not matter much, as long as its a decent sized window.\n",
        "\n",
        "> **min_count**: Minimium frequency count of words. The model would ignore words that do not statisfy the min_count. Extremely infrequent words are usually unimportant, so its best to get rid of those. Unless your dataset is really tiny, this does not really affect the model.\n",
        "\n",
        "> **workers**: How many threads to use behind the scenes?\n",
        "\n",
        "**Note:** You can experiment with these parameter values. Specially experiment with `size` parameter.\n",
        "\n",
        "### Now, let's look at some outputs of our trained model\n",
        "\n",
        "1.   This first example shows a simple case of generating a vector for a token which is present in the vocabulary.\n",
        "2.   Secondly we will look up words similar to a word in the corpus. All we need to do here is to call the `most_similar()` function and provide the word as the positive example. This returns the top 10 similar words."
      ]
    },
    {
      "cell_type": "code",
      "execution_count": null,
      "metadata": {
        "colab": {
          "base_uri": "https://localhost:8080/",
          "height": 217
        },
        "id": "1JcEwMzAyaAF",
        "outputId": "804f46b3-6aa8-4fc2-87df-3058f2ac4d11"
      },
      "outputs": [
        {
          "output_type": "error",
          "ename": "AttributeError",
          "evalue": "ignored",
          "traceback": [
            "\u001b[0;31m---------------------------------------------------------------------------\u001b[0m",
            "\u001b[0;31mAttributeError\u001b[0m                            Traceback (most recent call last)",
            "\u001b[0;32m<ipython-input-67-958694c273ad>\u001b[0m in \u001b[0;36m<module>\u001b[0;34m\u001b[0m\n\u001b[1;32m      1\u001b[0m \u001b[0mword_vectors\u001b[0m \u001b[0;34m=\u001b[0m \u001b[0mmodel\u001b[0m\u001b[0;34m.\u001b[0m\u001b[0mwv\u001b[0m\u001b[0;34m\u001b[0m\u001b[0;34m\u001b[0m\u001b[0m\n\u001b[0;32m----> 2\u001b[0;31m \u001b[0mwords\u001b[0m \u001b[0;34m=\u001b[0m \u001b[0mlist\u001b[0m\u001b[0;34m(\u001b[0m\u001b[0mmodel\u001b[0m\u001b[0;34m.\u001b[0m\u001b[0mwv\u001b[0m\u001b[0;34m.\u001b[0m\u001b[0mindex_to_key\u001b[0m\u001b[0;34m)\u001b[0m\u001b[0;34m\u001b[0m\u001b[0;34m\u001b[0m\u001b[0m\n\u001b[0m\u001b[1;32m      3\u001b[0m \u001b[0mprint\u001b[0m\u001b[0;34m(\u001b[0m\u001b[0mwords\u001b[0m\u001b[0;34m)\u001b[0m\u001b[0;34m\u001b[0m\u001b[0;34m\u001b[0m\u001b[0m\n\u001b[1;32m      4\u001b[0m \u001b[0mprint\u001b[0m\u001b[0;34m(\u001b[0m\u001b[0mword_vectors\u001b[0m\u001b[0;34m[\u001b[0m\u001b[0;34m'this'\u001b[0m\u001b[0;34m]\u001b[0m\u001b[0;34m)\u001b[0m\u001b[0;34m\u001b[0m\u001b[0;34m\u001b[0m\u001b[0m\n",
            "\u001b[0;31mAttributeError\u001b[0m: 'Word2VecKeyedVectors' object has no attribute 'index_to_key'"
          ]
        }
      ],
      "source": [
        "word_vectors = model.wv\n",
        "words = list(model.wv.index_to_key)\n",
        "print(words)\n",
        "print(word_vectors['this'])"
      ]
    },
    {
      "cell_type": "code",
      "execution_count": null,
      "metadata": {
        "colab": {
          "base_uri": "https://localhost:8080/"
        },
        "id": "5oVBrMq1zh67",
        "outputId": "c95f9a57-51c5-431a-984d-26a3b110633e"
      },
      "outputs": [
        {
          "output_type": "execute_result",
          "data": {
            "text/plain": [
              "[('for', 0.31441178917884827),\n",
              " ('the', 0.2851158082485199),\n",
              " ('one', 0.2125067412853241),\n",
              " ('and', 0.13708429038524628),\n",
              " ('this', 0.0634816586971283),\n",
              " ('is', -0.009840283542871475),\n",
              " ('second', -0.09837579727172852),\n",
              " ('word2vec', -0.10951593518257141),\n",
              " ('yet', -0.1684022843837738),\n",
              " ('final', -0.21255894005298615)]"
            ]
          },
          "metadata": {},
          "execution_count": 68
        }
      ],
      "source": [
        "w1 = \"sentence\"\n",
        "model.wv.most_similar(positive=w1)"
      ]
    },
    {
      "cell_type": "code",
      "execution_count": null,
      "metadata": {
        "colab": {
          "base_uri": "https://localhost:8080/",
          "height": 235
        },
        "id": "y_SM5TXXzqiJ",
        "outputId": "510d9b05-2b64-4faa-b76c-8922e0a0e894"
      },
      "outputs": [
        {
          "output_type": "error",
          "ename": "NameError",
          "evalue": "ignored",
          "traceback": [
            "\u001b[0;31m---------------------------------------------------------------------------\u001b[0m",
            "\u001b[0;31mNameError\u001b[0m                                 Traceback (most recent call last)",
            "\u001b[0;32m<ipython-input-69-c68ef774e448>\u001b[0m in \u001b[0;36m<module>\u001b[0;34m\u001b[0m\n\u001b[1;32m      3\u001b[0m \u001b[0;34m\u001b[0m\u001b[0m\n\u001b[1;32m      4\u001b[0m \u001b[0mX\u001b[0m \u001b[0;34m=\u001b[0m \u001b[0;34m[\u001b[0m\u001b[0;34m]\u001b[0m\u001b[0;34m\u001b[0m\u001b[0;34m\u001b[0m\u001b[0m\n\u001b[0;32m----> 5\u001b[0;31m \u001b[0;32mfor\u001b[0m \u001b[0mw\u001b[0m \u001b[0;32min\u001b[0m \u001b[0mwords\u001b[0m\u001b[0;34m:\u001b[0m\u001b[0;34m\u001b[0m\u001b[0;34m\u001b[0m\u001b[0m\n\u001b[0m\u001b[1;32m      6\u001b[0m     \u001b[0mX\u001b[0m\u001b[0;34m.\u001b[0m\u001b[0mappend\u001b[0m\u001b[0;34m(\u001b[0m\u001b[0mword_vectors\u001b[0m\u001b[0;34m[\u001b[0m\u001b[0mw\u001b[0m\u001b[0;34m]\u001b[0m\u001b[0;34m)\u001b[0m\u001b[0;34m\u001b[0m\u001b[0;34m\u001b[0m\u001b[0m\n\u001b[1;32m      7\u001b[0m \u001b[0mX\u001b[0m \u001b[0;34m=\u001b[0m \u001b[0mnp\u001b[0m\u001b[0;34m.\u001b[0m\u001b[0marray\u001b[0m\u001b[0;34m(\u001b[0m\u001b[0mX\u001b[0m\u001b[0;34m)\u001b[0m\u001b[0;34m\u001b[0m\u001b[0;34m\u001b[0m\u001b[0m\n",
            "\u001b[0;31mNameError\u001b[0m: name 'words' is not defined"
          ]
        }
      ],
      "source": [
        "from sklearn.decomposition import PCA\n",
        "from matplotlib import pyplot\n",
        "\n",
        "X = []\n",
        "for w in words:\n",
        "    X.append(word_vectors[w])\n",
        "X = np.array(X)\n",
        "print(X.shape)\n",
        "\n",
        "pca = PCA(n_components=2)\n",
        "result = pca.fit_transform(X)\n",
        "# create a scatter plot of the projection\n",
        "pyplot.scatter(result[:, 0], result[:, 1])\n",
        "#words = list(model.wv.vocab)\n",
        "for i, word in enumerate(words):\n",
        "\tpyplot.annotate(word, xy=(result[i, 0], result[i, 1]))\n",
        "pyplot.show()"
      ]
    },
    {
      "cell_type": "markdown",
      "metadata": {
        "id": "2JS3o55yRs7f"
      },
      "source": [
        "### Similarity between two words in the vocabulary\n",
        "Use the Word2Vec model to return the similarity between two words that are present in the vocabulary. There are many similarity measurement metric, one of them is `cosine_similarity` which is used by Gensim internally.\n",
        "\n",
        "Contextually related words should have higher similarity score and vice versa.\n",
        "\n",
        "**Exercise:** Check what happens if two words should be close according to you."
      ]
    },
    {
      "cell_type": "code",
      "execution_count": null,
      "metadata": {
        "colab": {
          "base_uri": "https://localhost:8080/",
          "height": 165
        },
        "id": "Isn9tfm4RvdP",
        "outputId": "3071de8d-eff1-41cc-9ede-c54e7ddc0a71"
      },
      "outputs": [
        {
          "output_type": "error",
          "ename": "NameError",
          "evalue": "ignored",
          "traceback": [
            "\u001b[0;31m---------------------------------------------------------------------------\u001b[0m",
            "\u001b[0;31mNameError\u001b[0m                                 Traceback (most recent call last)",
            "\u001b[0;32m<ipython-input-34-ab9fcfb7ed4b>\u001b[0m in \u001b[0;36m<module>\u001b[0;34m\u001b[0m\n\u001b[0;32m----> 1\u001b[0;31m \u001b[0mmodel\u001b[0m\u001b[0;34m.\u001b[0m\u001b[0mwv\u001b[0m\u001b[0;34m.\u001b[0m\u001b[0msimilarity\u001b[0m\u001b[0;34m(\u001b[0m\u001b[0mw1\u001b[0m\u001b[0;34m=\u001b[0m\u001b[0;34m\"second\"\u001b[0m\u001b[0;34m,\u001b[0m \u001b[0mw2\u001b[0m\u001b[0;34m=\u001b[0m\u001b[0;34m\"sentence\"\u001b[0m\u001b[0;34m)\u001b[0m\u001b[0;34m\u001b[0m\u001b[0;34m\u001b[0m\u001b[0m\n\u001b[0m",
            "\u001b[0;31mNameError\u001b[0m: name 'model' is not defined"
          ]
        }
      ],
      "source": [
        "model.wv.similarity(w1=\"second\", w2=\"sentence\")"
      ]
    },
    {
      "cell_type": "code",
      "execution_count": null,
      "metadata": {
        "id": "J-CgdpTsqw7B"
      },
      "outputs": [],
      "source": [
        "#Save Model\n",
        "model.save(\"word2vec.model\")\n",
        "\n",
        "#Load Model\n",
        "model = Word2Vec.load(\"word2vec.model\")"
      ]
    },
    {
      "cell_type": "markdown",
      "metadata": {
        "id": "Fd3h3aSDRzha"
      },
      "source": [
        "### Exercise:\n",
        "Try changing the size parameter and analyze it's effects in similarity score and other functions."
      ]
    },
    {
      "cell_type": "code",
      "execution_count": null,
      "metadata": {
        "colab": {
          "base_uri": "https://localhost:8080/",
          "height": 235
        },
        "id": "50gJPNXoRwUg",
        "outputId": "a18367a4-7eb7-46a2-e300-3772aa004a92"
      },
      "outputs": [
        {
          "output_type": "error",
          "ename": "NameError",
          "evalue": "ignored",
          "traceback": [
            "\u001b[0;31m---------------------------------------------------------------------------\u001b[0m",
            "\u001b[0;31mNameError\u001b[0m                                 Traceback (most recent call last)",
            "\u001b[0;32m<ipython-input-33-55fc46a740d1>\u001b[0m in \u001b[0;36m<module>\u001b[0;34m\u001b[0m\n\u001b[1;32m      1\u001b[0m \u001b[0;31m# Hint: redefine the model with appropriate parameters and train:\u001b[0m\u001b[0;34m\u001b[0m\u001b[0;34m\u001b[0m\u001b[0;34m\u001b[0m\u001b[0m\n\u001b[1;32m      2\u001b[0m \u001b[0mword_vector_size\u001b[0m \u001b[0;34m=\u001b[0m \u001b[0;36m50\u001b[0m\u001b[0;34m\u001b[0m\u001b[0;34m\u001b[0m\u001b[0m\n\u001b[0;32m----> 3\u001b[0;31m \u001b[0mw2v_model_new\u001b[0m \u001b[0;34m=\u001b[0m \u001b[0mWord2Vec\u001b[0m\u001b[0;34m(\u001b[0m\u001b[0msentences\u001b[0m\u001b[0;34m,\u001b[0m \u001b[0mvector_size\u001b[0m\u001b[0;34m=\u001b[0m\u001b[0mword_vector_size\u001b[0m\u001b[0;34m,\u001b[0m \u001b[0mwindow\u001b[0m\u001b[0;34m=\u001b[0m\u001b[0;36m10\u001b[0m\u001b[0;34m,\u001b[0m \u001b[0mmin_count\u001b[0m\u001b[0;34m=\u001b[0m\u001b[0;36m1\u001b[0m\u001b[0;34m,\u001b[0m \u001b[0mworkers\u001b[0m\u001b[0;34m=\u001b[0m\u001b[0;36m10\u001b[0m\u001b[0;34m)\u001b[0m\u001b[0;34m\u001b[0m\u001b[0;34m\u001b[0m\u001b[0m\n\u001b[0m\u001b[1;32m      4\u001b[0m \u001b[0;31m# w2v_model_new.train(documents, total_examples=len(documents), epochs=10)\u001b[0m\u001b[0;34m\u001b[0m\u001b[0;34m\u001b[0m\u001b[0;34m\u001b[0m\u001b[0m\n\u001b[1;32m      5\u001b[0m print(\"Redefined training complete with [word_vector_size] = {}.\"\n",
            "\u001b[0;31mNameError\u001b[0m: name 'Word2Vec' is not defined"
          ]
        }
      ],
      "source": [
        "# Hint: redefine the model with appropriate parameters and train:\n",
        "word_vector_size = 50\n",
        "w2v_model_new = Word2Vec(sentences, vector_size=word_vector_size, window=10, min_count=1, workers=10)\n",
        "# w2v_model_new.train(documents, total_examples=len(documents), epochs=10)\n",
        "print(\"Redefined training complete with [word_vector_size] = {}.\"\n",
        "      .format(word_vector_size))"
      ]
    },
    {
      "cell_type": "markdown",
      "metadata": {
        "id": "Hyv_U4iYV5b3"
      },
      "source": [
        "**Q: Compare the similarity values of two models**\n"
      ]
    },
    {
      "cell_type": "code",
      "execution_count": null,
      "metadata": {
        "id": "ad8FbspERwPp"
      },
      "outputs": [],
      "source": [
        "\n",
        "## Your code here to compare 2 models based on word similarity and other attributes:\n",
        "\n",
        "## Add any number of code blocks you deem necessary.\n"
      ]
    },
    {
      "cell_type": "markdown",
      "metadata": {
        "id": "Biiyd1q9SCK7"
      },
      "source": [
        "### Importing a pre-trained models\n",
        "\n",
        "Reference: https://radimrehurek.com/gensim/models/word2vec.html"
      ]
    },
    {
      "cell_type": "code",
      "execution_count": null,
      "metadata": {
        "id": "cdT9FxoHqw7F",
        "outputId": "487b1bfe-0c97-4b9f-94d0-b1c1c3033553"
      },
      "outputs": [
        {
          "name": "stdout",
          "output_type": "stream",
          "text": [
            "['fasttext-wiki-news-subwords-300', 'conceptnet-numberbatch-17-06-300', 'word2vec-ruscorpora-300', 'word2vec-google-news-300', 'glove-wiki-gigaword-50', 'glove-wiki-gigaword-100', 'glove-wiki-gigaword-200', 'glove-wiki-gigaword-300', 'glove-twitter-25', 'glove-twitter-50', 'glove-twitter-100', 'glove-twitter-200', '__testing_word2vec-matrix-synopsis']\n"
          ]
        }
      ],
      "source": [
        "import gensim.downloader\n",
        "print(list(gensim.downloader.info()['models'].keys()))"
      ]
    },
    {
      "cell_type": "code",
      "execution_count": null,
      "metadata": {
        "id": "3cs1Dlflqw7F"
      },
      "outputs": [],
      "source": [
        "glove_vectors = gensim.downloader.load('glove-twitter-25')"
      ]
    },
    {
      "cell_type": "code",
      "execution_count": null,
      "metadata": {
        "id": "yVP1bauTqw7F",
        "outputId": "fdf11d73-e397-4ab5-9ccf-b5406a5eb099"
      },
      "outputs": [
        {
          "data": {
            "text/plain": [
              "[('facebook', 0.948005199432373),\n",
              " ('tweet', 0.9403423070907593),\n",
              " ('fb', 0.9342359900474548),\n",
              " ('instagram', 0.9104824066162109),\n",
              " ('chat', 0.8964963555335999),\n",
              " ('hashtag', 0.8885936737060547),\n",
              " ('tweets', 0.8878158330917358),\n",
              " ('tl', 0.8778461217880249),\n",
              " ('link', 0.877821147441864),\n",
              " ('internet', 0.8753897547721863)]"
            ]
          },
          "execution_count": 62,
          "metadata": {},
          "output_type": "execute_result"
        }
      ],
      "source": [
        "glove_vectors.most_similar('twitter')"
      ]
    },
    {
      "cell_type": "code",
      "execution_count": null,
      "metadata": {
        "id": "CqT6ZN4xqw7G",
        "outputId": "490fea73-6f0c-4dc8-a555-98bde9676ba4"
      },
      "outputs": [
        {
          "data": {
            "text/plain": [
              "[('plot', 0.9004027843475342),\n",
              " ('evidence', 0.8979405760765076),\n",
              " ('spelling', 0.8934083580970764),\n",
              " ('sentences', 0.8700981736183167),\n",
              " ('false', 0.867972731590271),\n",
              " ('argument', 0.863446831703186),\n",
              " ('response', 0.8596455454826355),\n",
              " ('mistake', 0.8539903163909912),\n",
              " ('nonsense', 0.8459494709968567),\n",
              " ('letter', 0.8452234864234924)]"
            ]
          },
          "execution_count": 63,
          "metadata": {},
          "output_type": "execute_result"
        }
      ],
      "source": [
        "w1 = \"sentence\"\n",
        "glove_vectors.most_similar(positive=w1)"
      ]
    },
    {
      "cell_type": "code",
      "execution_count": null,
      "metadata": {
        "id": "wKp182Wfqw7G",
        "outputId": "791207af-95ef-4a3c-8af3-deae08a8658c"
      },
      "outputs": [
        {
          "data": {
            "text/plain": [
              "[('meets', 0.8841923475265503),\n",
              " ('prince', 0.832163393497467),\n",
              " ('queen', 0.8257461190223694),\n",
              " ('’s', 0.8174097537994385),\n",
              " ('crow', 0.813499391078949)]"
            ]
          },
          "execution_count": 64,
          "metadata": {},
          "output_type": "execute_result"
        }
      ],
      "source": [
        "glove_vectors.most_similar(positive=['king', 'woman'], negative=['man'], topn=5)"
      ]
    },
    {
      "cell_type": "markdown",
      "metadata": {
        "id": "GBDSCkyhqw7G"
      },
      "source": [
        "### Vectorize a sentence/text using Word2Vec vectors"
      ]
    },
    {
      "cell_type": "code",
      "execution_count": null,
      "metadata": {
        "id": "S4mA_5tzqw7G",
        "outputId": "ca73778a-bcee-4bee-8f00-058b2c59e309"
      },
      "outputs": [
        {
          "name": "stdout",
          "output_type": "stream",
          "text": [
            "['this', 'is', 'a', 'wonderful', 'day', '.']\n"
          ]
        }
      ],
      "source": [
        "vocab = list(glove_vectors.index_to_key)\n",
        "txt = \"this is a wonderful day.\"\n",
        "tokens = tokenize(txt.lower())\n",
        "#Replace unknown token by unk or some other token\n",
        "tokens = [tok if tok in vocab else 'unk' for tok in tokens]\n",
        "print(tokens)"
      ]
    },
    {
      "cell_type": "code",
      "execution_count": null,
      "metadata": {
        "id": "tk-d4Eo9qw7G",
        "outputId": "77202cb2-09ef-40f7-9835-68ec81b6b05d"
      },
      "outputs": [
        {
          "name": "stdout",
          "output_type": "stream",
          "text": [
            "(6, 25)\n",
            "(25,)\n",
            "[-2.9703000e-01 -2.3501297e-02  6.9806674e-03 -4.4920173e-02\n",
            "  3.3886647e-03  1.6265599e-01  1.4551970e+00  4.8615003e-01\n",
            " -6.8439001e-01 -2.6545668e-01 -2.3812501e-01 -3.4054980e-02\n",
            " -4.8202667e+00  3.3895168e-01  2.1106815e-01 -1.8316500e-01\n",
            "  9.3369663e-02 -4.3071661e-02 -5.8244830e-01 -8.6622335e-02\n",
            " -2.2096783e-01 -8.7960340e-02 -2.6976499e-01  2.9885635e-01\n",
            "  4.7841337e-02]\n"
          ]
        }
      ],
      "source": [
        "emb = glove_vectors[tokens]\n",
        "print(emb.shape)\n",
        "sent_vector = np.mean(emb, axis=0)\n",
        "print(sent_vector.shape)\n",
        "print(sent_vector)"
      ]
    },
    {
      "cell_type": "code",
      "execution_count": null,
      "metadata": {
        "id": "x6lJtwHXqw7G",
        "outputId": "b28145dc-2b79-45b9-905a-f3a7b3146b9e"
      },
      "outputs": [
        {
          "data": {
            "text/plain": [
              "array([[-0.73777 ,  1.2135  , -0.12689 ,  0.24241 , -0.40497 ,  0.14783 ,\n",
              "        -0.90617 ,  0.15438 ,  1.0792  , -0.2793  , -1.1988  ,  1.2473  ,\n",
              "        -1.0636  ,  0.029972,  0.22696 , -0.51281 , -0.052361, -0.091889,\n",
              "         0.34847 ,  0.34467 ,  0.68067 ,  0.15576 ,  0.050702, -0.083678,\n",
              "        -0.80964 ],\n",
              "       [-0.17895 ,  0.38406 ,  0.073035, -0.32363 , -0.092441, -0.40767 ,\n",
              "         2.1     , -0.11363 , -0.58784 , -0.17034 , -0.6433  ,  0.72388 ,\n",
              "        -5.7839  , -0.10406 ,  0.52152 , -0.11314 ,  0.59554 , -0.47587 ,\n",
              "        -0.4551  ,  0.084431, -0.4582  , -0.16727 ,  0.54594 ,  0.035478,\n",
              "        -0.16073 ]], dtype=float32)"
            ]
          },
          "execution_count": 67,
          "metadata": {},
          "output_type": "execute_result"
        }
      ],
      "source": [
        "glove_vectors[['unk', 'this']]"
      ]
    },
    {
      "cell_type": "markdown",
      "metadata": {
        "id": "8o1xkNNiSHgV"
      },
      "source": [
        "### Exercise:\n",
        "Vectorize each sentences of \"dataset\" and find the most similar sentences of the first one."
      ]
    },
    {
      "cell_type": "code",
      "execution_count": null,
      "metadata": {
        "colab": {
          "base_uri": "https://localhost:8080/",
          "height": 235
        },
        "id": "46bbYm0WRwFR",
        "outputId": "3ac16849-a6c5-4396-fe9f-93b3a8c1b986"
      },
      "outputs": [
        {
          "output_type": "error",
          "ename": "NameError",
          "evalue": "ignored",
          "traceback": [
            "\u001b[0;31m---------------------------------------------------------------------------\u001b[0m",
            "\u001b[0;31mNameError\u001b[0m                                 Traceback (most recent call last)",
            "\u001b[0;32m<ipython-input-32-252dabd6c8fd>\u001b[0m in \u001b[0;36m<module>\u001b[0;34m\u001b[0m\n\u001b[0;32m----> 1\u001b[0;31m \u001b[0mvocab\u001b[0m \u001b[0;34m=\u001b[0m \u001b[0mlist\u001b[0m\u001b[0;34m(\u001b[0m\u001b[0mglove_vectors\u001b[0m\u001b[0;34m.\u001b[0m\u001b[0mindex_to_key\u001b[0m\u001b[0;34m)\u001b[0m\u001b[0;34m\u001b[0m\u001b[0;34m\u001b[0m\u001b[0m\n\u001b[0m\u001b[1;32m      2\u001b[0m \u001b[0;34m\u001b[0m\u001b[0m\n\u001b[1;32m      3\u001b[0m \u001b[0;32mdef\u001b[0m \u001b[0mget_text_encoding\u001b[0m\u001b[0;34m(\u001b[0m\u001b[0mtxt\u001b[0m\u001b[0;34m)\u001b[0m\u001b[0;34m:\u001b[0m\u001b[0;34m\u001b[0m\u001b[0;34m\u001b[0m\u001b[0m\n\u001b[1;32m      4\u001b[0m     \u001b[0mtokens\u001b[0m \u001b[0;34m=\u001b[0m \u001b[0mtokenize\u001b[0m\u001b[0;34m(\u001b[0m\u001b[0mtxt\u001b[0m\u001b[0;34m.\u001b[0m\u001b[0mlower\u001b[0m\u001b[0;34m(\u001b[0m\u001b[0;34m)\u001b[0m\u001b[0;34m)\u001b[0m\u001b[0;34m\u001b[0m\u001b[0;34m\u001b[0m\u001b[0m\n\u001b[1;32m      5\u001b[0m     \u001b[0mtokens\u001b[0m \u001b[0;34m=\u001b[0m \u001b[0;34m[\u001b[0m\u001b[0mtok\u001b[0m \u001b[0;32mif\u001b[0m \u001b[0mtok\u001b[0m \u001b[0;32min\u001b[0m \u001b[0mvocab\u001b[0m \u001b[0;32melse\u001b[0m \u001b[0;34m'unk'\u001b[0m \u001b[0;32mfor\u001b[0m \u001b[0mtok\u001b[0m \u001b[0;32min\u001b[0m \u001b[0mtokens\u001b[0m\u001b[0;34m]\u001b[0m\u001b[0;34m\u001b[0m\u001b[0;34m\u001b[0m\u001b[0m\n",
            "\u001b[0;31mNameError\u001b[0m: name 'glove_vectors' is not defined"
          ]
        }
      ],
      "source": [
        "vocab = list(glove_vectors.index_to_key)\n",
        "\n",
        "def get_text_encoding(txt):\n",
        "    tokens = tokenize(txt.lower())\n",
        "    tokens = [tok if tok in vocab else 'unk' for tok in tokens]\n",
        "    emb = glove_vectors[tokens]\n",
        "    sent_vector = np.mean(emb, axis=0)\n",
        "    return sent_vector"
      ]
    },
    {
      "cell_type": "code",
      "execution_count": null,
      "metadata": {
        "id": "-c9ucYNJSdyj",
        "outputId": "28a93627-1d08-4780-9c03-807301779771"
      },
      "outputs": [
        {
          "name": "stdout",
          "output_type": "stream",
          "text": [
            "Query text :: Weather update - a cold front from Cuba that could pass over Haiti\n",
            "Most similar text :: Is the Hurricane over or is it not over\n"
          ]
        }
      ],
      "source": [
        "query_vector = get_text_encoding(dataset[0])\n",
        "vec = get_text_encoding(dataset[1])\n",
        "\n",
        "best_text = \"\"\n",
        "c_max = 0\n",
        "for i in range(1, len(dataset)):\n",
        "    vec = get_text_encoding(dataset[i])\n",
        "    c = np.dot(query_vector, vec)\n",
        "    if(c>c_max):\n",
        "        c_max = c\n",
        "        best_text = dataset[i]\n",
        "\n",
        "print(f\"Query text :: {dataset[0]}\")\n",
        "print(f\"Most similar text :: {best_text}\")"
      ]
    },
    {
      "cell_type": "markdown",
      "metadata": {
        "id": "rbwQHjZ4qw7H"
      },
      "source": [
        "## 5. Text Classification\n",
        "Dataset: https://archive.ics.uci.edu/ml/datasets/SMS+Spam+Collection"
      ]
    },
    {
      "cell_type": "code",
      "execution_count": null,
      "metadata": {
        "id": "Iz1-qhr5qw7H"
      },
      "outputs": [],
      "source": [
        "import urllib.request\n",
        "import zipfile\n",
        "import os\n",
        "\n",
        "#Download data\n",
        "url = 'https://archive.ics.uci.edu/ml/machine-learning-databases/00228/smsspamcollection.zip'\n",
        "filename = 'data.zip'\n",
        "urllib.request.urlretrieve(url, filename)\n",
        "\n",
        "#Extract data\n",
        "with zipfile.ZipFile(filename,\"r\") as zip_ref:\n",
        "    zip_ref.extractall(\"data\")"
      ]
    },
    {
      "cell_type": "code",
      "execution_count": null,
      "metadata": {
        "id": "lmI1SaW6qw7H"
      },
      "outputs": [],
      "source": [
        "filename = os.path.join(\"data\", \"SMSSpamCollection\")\n",
        "lines = []\n",
        "with open(filename, 'r') as f:\n",
        "    lines = f.readlines()"
      ]
    },
    {
      "cell_type": "code",
      "execution_count": null,
      "metadata": {
        "id": "gbQrfQ1eqw7I",
        "outputId": "5804e3e4-3fb4-4683-810b-fb763f090752"
      },
      "outputs": [
        {
          "name": "stdout",
          "output_type": "stream",
          "text": [
            "(500, 25)\n"
          ]
        }
      ],
      "source": [
        "#Prepare dataset\n",
        "max_len = 500\n",
        "X = np.zeros((max_len,25))\n",
        "y = []\n",
        "\n",
        "for i in range(max_len):\n",
        "    arr = lines[i].split(\"\\t\")\n",
        "    label = 1 if arr[0]==\"spam\" else 0\n",
        "    sent_vector = get_text_encoding(arr[1])\n",
        "    X[i] = sent_vector\n",
        "    y.append(label)\n",
        "print(X.shape)"
      ]
    },
    {
      "cell_type": "code",
      "execution_count": null,
      "metadata": {
        "id": "2Qod6Gjjqw7I"
      },
      "outputs": [],
      "source": [
        "#Training Model\n",
        "from sklearn.model_selection import train_test_split\n",
        "X_train, X_test, y_train, y_test = train_test_split(X, y, test_size=0.3, random_state=42)"
      ]
    },
    {
      "cell_type": "code",
      "execution_count": null,
      "metadata": {
        "id": "I5lUHoaeqw7I",
        "outputId": "8dd2f1c2-be82-4fcc-e4ec-9c9d5529e020"
      },
      "outputs": [
        {
          "name": "stdout",
          "output_type": "stream",
          "text": [
            "(350, 25)\n",
            "350\n",
            "(150, 25)\n",
            "150\n"
          ]
        }
      ],
      "source": [
        "print(X_train.shape)\n",
        "print(len(y_train))\n",
        "print(X_test.shape)\n",
        "print(len(y_test))"
      ]
    },
    {
      "cell_type": "code",
      "execution_count": null,
      "metadata": {
        "id": "CtHqhjGUqw7I"
      },
      "outputs": [],
      "source": [
        "from sklearn.linear_model import LogisticRegression\n",
        "from sklearn.metrics import classification_report\n",
        "\n",
        "clf = LogisticRegression(random_state=0).fit(X_train, y_train)"
      ]
    },
    {
      "cell_type": "code",
      "execution_count": null,
      "metadata": {
        "id": "GjsEZG0Kqw7I",
        "outputId": "6fe2cd02-23f3-4a2a-e76c-8027397944e3"
      },
      "outputs": [
        {
          "name": "stdout",
          "output_type": "stream",
          "text": [
            "Training Accuracy\n",
            "              precision    recall  f1-score   support\n",
            "\n",
            "           0       0.95      0.98      0.97       297\n",
            "           1       0.88      0.72      0.79        53\n",
            "\n",
            "    accuracy                           0.94       350\n",
            "   macro avg       0.92      0.85      0.88       350\n",
            "weighted avg       0.94      0.94      0.94       350\n",
            "\n"
          ]
        }
      ],
      "source": [
        "y_pred = clf.predict(X_train)\n",
        "print(\"Training Accuracy\")\n",
        "print(classification_report(y_train, y_pred))"
      ]
    },
    {
      "cell_type": "code",
      "execution_count": null,
      "metadata": {
        "id": "af7XFNf2qw7I",
        "outputId": "c410f200-1fe9-4bd9-dad7-fad6317dae26"
      },
      "outputs": [
        {
          "name": "stdout",
          "output_type": "stream",
          "text": [
            "Test Accuracy\n",
            "              precision    recall  f1-score   support\n",
            "\n",
            "           0       0.94      0.98      0.96       132\n",
            "           1       0.83      0.56      0.67        18\n",
            "\n",
            "    accuracy                           0.93       150\n",
            "   macro avg       0.89      0.77      0.81       150\n",
            "weighted avg       0.93      0.93      0.93       150\n",
            "\n"
          ]
        }
      ],
      "source": [
        "y_pred2 = clf.predict(X_test)\n",
        "print(\"Test Accuracy\")\n",
        "print(classification_report(y_test, y_pred2))"
      ]
    },
    {
      "cell_type": "code",
      "execution_count": null,
      "metadata": {
        "id": "n9PkVgg5qw7I"
      },
      "outputs": [],
      "source": []
    }
  ],
  "metadata": {
    "colab": {
      "provenance": []
    },
    "kernelspec": {
      "display_name": "aiet",
      "language": "python",
      "name": "aiet"
    },
    "language_info": {
      "codemirror_mode": {
        "name": "ipython",
        "version": 3
      },
      "file_extension": ".py",
      "mimetype": "text/x-python",
      "name": "python",
      "nbconvert_exporter": "python",
      "pygments_lexer": "ipython3",
      "version": "3.8.15"
    }
  },
  "nbformat": 4,
  "nbformat_minor": 0
}