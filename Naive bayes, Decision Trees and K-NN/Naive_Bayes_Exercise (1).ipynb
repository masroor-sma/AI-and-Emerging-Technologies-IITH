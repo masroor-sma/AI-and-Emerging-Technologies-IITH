{
  "cells": [
    {
      "cell_type": "markdown",
      "metadata": {
        "id": "MU40Hm_2eFqM"
      },
      "source": [
        "**Import the necessary libraries**"
      ]
    },
    {
      "cell_type": "code",
      "execution_count": null,
      "metadata": {
        "id": "DxdXnHV1eDwU",
        "vscode": {
          "languageId": "python"
        }
      },
      "outputs": [],
      "source": [
        "from sklearn import datasets\n",
        "import pandas as pd\n",
        "import numpy as np\n",
        "from sklearn.naive_bayes import GaussianNB"
      ]
    },
    {
      "cell_type": "markdown",
      "metadata": {
        "id": "RZWSe20QXZiD"
      },
      "source": [
        "\n",
        "**Data Exploration** "
      ]
    },
    {
      "cell_type": "code",
      "execution_count": null,
      "metadata": {
        "id": "ZQVun14fXjG7",
        "vscode": {
          "languageId": "python"
        }
      },
      "outputs": [],
      "source": [
        "iris = datasets.load_iris()\n",
        "iris.feature_names"
      ]
    },
    {
      "cell_type": "markdown",
      "metadata": {
        "id": "l4eA7EE_Xwg1"
      },
      "source": [
        "<a href=\"https://imgbb.com/\"><img src=\"https://i.ibb.co/mDC1KSt/petal-sepal.png\" alt=\"petal-sepal\" border=\"0\"></a>"
      ]
    },
    {
      "cell_type": "code",
      "execution_count": null,
      "metadata": {
        "id": "4u2WbWVLX31J",
        "vscode": {
          "languageId": "python"
        }
      },
      "outputs": [],
      "source": [
        "iris.target_names"
      ]
    },
    {
      "cell_type": "markdown",
      "metadata": {
        "id": "ryRF0X90YCnW"
      },
      "source": [
        "<a href=\"https://ibb.co/8sJhx0R\"><img src=\"https://i.ibb.co/h9kqdyn/iris.png\" alt=\"iris\" border=\"0\"></a>"
      ]
    },
    {
      "cell_type": "code",
      "execution_count": null,
      "metadata": {
        "id": "8aStmiKhiVKZ",
        "vscode": {
          "languageId": "python"
        }
      },
      "outputs": [],
      "source": [
        "len(iris.data)"
      ]
    },
    {
      "cell_type": "markdown",
      "metadata": {
        "id": "_nKYhLPLeYjc"
      },
      "source": [
        "**Loading and splitting the dataset into train and testsets**"
      ]
    },
    {
      "cell_type": "code",
      "execution_count": null,
      "metadata": {
        "id": "potkSmjEedRN",
        "vscode": {
          "languageId": "python"
        }
      },
      "outputs": [],
      "source": [
        "iris = datasets.load_iris()\n",
        "#Please fill in the below function which can be used to split the data in 80:20 ratio and return 4 numpy arrays- train_x, train_y,test_x,test_y\n",
        "# shapes- train_x: (0.8*len(iris.data),4), train_y : (0.8*len(iris.data),),test_x:(0.2*len(iris.data),4) , test_y:(0.2*len(iris.data),) \n",
        "def dataset_splitter(iris):\n",
        "  \n",
        "  # space for code\n",
        "  \n",
        "  return (train_x, train_y, test_x, test_y)"
      ]
    },
    {
      "cell_type": "markdown",
      "metadata": {
        "id": "29nwz-fhsV9Y"
      },
      "source": [
        "**Function to calculate mean and variance**"
      ]
    },
    {
      "cell_type": "code",
      "execution_count": null,
      "metadata": {
        "id": "Rywp-d8ahegq",
        "vscode": {
          "languageId": "python"
        }
      },
      "outputs": [],
      "source": [
        "#This function returns the mean and variance across all dimensions of the input\n",
        "# returns: 1.mean : shape- (4,) 2.variance : shape- (4,) \n",
        "def mean_var_calculator(data):\n",
        "  \n",
        "  mean = np.mean(data,axis=0)\n",
        "  var  = np.var(data,axis=0)\n",
        "  \n",
        "  return (mean, var)"
      ]
    },
    {
      "cell_type": "markdown",
      "metadata": {
        "id": "XWAiScgesb_M"
      },
      "source": [
        "**Calculating log posterior**"
      ]
    },
    {
      "cell_type": "markdown",
      "metadata": {
        "id": "arnjuE-OXhlG"
      },
      "source": [
        "\\begin{equation}\n",
        "Posterior(X|\\sigma_c^{2},\\mu_c,class label=C)\\sim\\Pi_{i=1}^{4} \\frac{1}{\\sqrt{2\\pi\\sigma_c^2}}e^{\\frac{-(x_i-\\mu_c)^2}{2\\sigma_c^2}}.P(C)\n",
        "\\end{equation}"
      ]
    },
    {
      "cell_type": "code",
      "execution_count": null,
      "metadata": {
        "id": "nQHmqYhFh2_s",
        "vscode": {
          "languageId": "python"
        }
      },
      "outputs": [],
      "source": [
        "# this function takes 3 parameters as input- \n",
        "#1. data sample for which the posterior is to be calculated\n",
        "#2. Mean, Variance of the gaussian w.r.t which posterior is to be estimated\n",
        "#Assume a Uniform Prior on the class labels\n",
        "#return the log of posterior calculated- shape: X.shape[0]\n",
        "def calc_log_posterior(x, mean, var):\n",
        "  \n",
        "  # space for code\n",
        "  \n",
        "  return (posterior)"
      ]
    },
    {
      "cell_type": "markdown",
      "metadata": {
        "id": "c0CLzcByUVZq"
      },
      "source": [
        "   **Making predictions using the model that we have**\n"
      ]
    },
    {
      "cell_type": "code",
      "execution_count": null,
      "metadata": {
        "id": "ybhBVS3aoGF6",
        "vscode": {
          "languageId": "python"
        }
      },
      "outputs": [],
      "source": [
        "#inputs: 1. x- datapoint to which the prediction is to be calculated\n",
        "#        2. set_0 - a tuple of mean and variance for training samples belonging to class:0\n",
        "#           set_1 - a tuple of mean and variance for training samples belonging to class:1\n",
        "#           set_2 - a tuple of mean and variance for training samples belonging to class:2   \n",
        "#        3. class_label: integer in range:{0,1,2}\n",
        "def predict(x, set_0, set_1, set_2):\n",
        "  \n",
        "  # space for code\n",
        "  \n",
        "  return (class_label)"
      ]
    },
    {
      "cell_type": "code",
      "execution_count": null,
      "metadata": {
        "id": "sShBOt2BfC5O",
        "vscode": {
          "languageId": "python"
        }
      },
      "outputs": [],
      "source": [
        "train_x, train_y, test_x, test_y = dataset_splitter(iris)\n",
        "samples_0=[]\n",
        "samples_1=[]\n",
        "samples_2=[]\n",
        "for i,row in enumerate(train_x):\n",
        "  if train_y[i]==0:    \n",
        "    samples_0.append(list(row))\n",
        "  elif train_y[i]==1:\n",
        "    samples_1.append(list(row))\n",
        "  elif train_y[i]==2:\n",
        "    samples_2.append(list(row))\n",
        "samples_0 = (np.array(samples_0),np.array([0]*len(samples_0)))  #data with only samples from class:0\n",
        "samples_1 = (np.array(samples_1),np.array([1]*len(samples_1))) #data with only samples from class:1\n",
        "samples_2 = (np.array(samples_2),np.array([2]*len(samples_2))) #data with only samples from class:2\n",
        "\n",
        "set_0, set_1, set_2 = mean_var_calculator(samples_0[0]),mean_var_calculator(samples_1[0]),mean_var_calculator(samples_2[0])\n",
        "y_pred=[]\n",
        "\n",
        "for i,row in enumerate(test_x):\n",
        "  y_pred.append(predict(row,set_0,set_1,set_2))\n",
        "y_pred=np.array(y_pred)\n",
        "print ('accuracy of the model is {}'.format((y_pred==test_y).mean()))"
      ]
    },
    {
      "cell_type": "markdown",
      "metadata": {
        "id": "m8RrMTaAN2tL"
      },
      "source": [
        "**Comparison with builtin model**"
      ]
    },
    {
      "cell_type": "code",
      "execution_count": null,
      "metadata": {
        "id": "FBYrIqppYMWi",
        "vscode": {
          "languageId": "python"
        }
      },
      "outputs": [],
      "source": [
        "gnb = GaussianNB()"
      ]
    },
    {
      "cell_type": "markdown",
      "metadata": {
        "id": "O4uDvk4EZpWG"
      },
      "source": [
        "**Steps:** \n",
        "  1. fit the model on the train_x\n",
        "  2. Make predictions using inbuilt functions and print the accuracy"
      ]
    },
    {
      "cell_type": "code",
      "execution_count": null,
      "metadata": {
        "id": "GqhelXaNaPVF",
        "vscode": {
          "languageId": "python"
        }
      },
      "outputs": [],
      "source": [
        "##### Your code hre ######"
      ]
    }
  ],
  "metadata": {
    "colab": {
      "collapsed_sections": [],
      "provenance": []
    },
    "kernelspec": {
      "display_name": "Python 3",
      "name": "python3"
    }
  },
  "nbformat": 4,
  "nbformat_minor": 0
}
