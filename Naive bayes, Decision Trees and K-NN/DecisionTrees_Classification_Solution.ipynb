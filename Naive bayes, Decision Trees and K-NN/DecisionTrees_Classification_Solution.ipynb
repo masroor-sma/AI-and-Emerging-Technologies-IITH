{
 "cells": [
  {
   "cell_type": "markdown",
   "metadata": {
    "colab_type": "text",
    "id": "4XElc7XH_MWa"
   },
   "source": [
    "# Lab #3: Classification Using Decision Trees"
   ]
  },
  {
   "cell_type": "markdown",
   "metadata": {
    "colab_type": "text",
    "id": "pWMzKVUNl58c"
   },
   "source": [
    "## Data Loading\n",
    "\n",
    "[Iris Flower Dataset](https://en.wikipedia.org/wiki/Iris_flower_data_set) or Fisher's Iris data set is a multivariate data set introduced by the British statistician and biologist Ronald Fisher in his 1936 paper."
   ]
  },
  {
   "cell_type": "code",
   "execution_count": 0,
   "metadata": {
    "colab": {},
    "colab_type": "code",
    "id": "i8AnzHBFj4qa"
   },
   "outputs": [],
   "source": [
    "from sklearn import datasets\n",
    "\n",
    "iris = datasets.load_iris()\n",
    "X = iris['data']\n",
    "y = iris['target']"
   ]
  },
  {
   "cell_type": "markdown",
   "metadata": {
    "colab_type": "text",
    "id": "qc2olBEi_MWj"
   },
   "source": [
    "## Data Exploration\n",
    "#### Features"
   ]
  },
  {
   "cell_type": "code",
   "execution_count": 0,
   "metadata": {
    "colab": {
     "base_uri": "https://localhost:8080/",
     "height": 85
    },
    "colab_type": "code",
    "executionInfo": {
     "elapsed": 1548,
     "status": "ok",
     "timestamp": 1559135924634,
     "user": {
      "displayName": "Akshay Chandra Lagandula",
      "photoUrl": "",
      "userId": "15844401287812705747"
     },
     "user_tz": -330
    },
    "id": "_ukuORaklboT",
    "outputId": "520ab08f-9f84-4fd8-b2f1-e72ee48d3ce4",
    "scrolled": true
   },
   "outputs": [
    {
     "data": {
      "text/plain": [
       "['sepal length (cm)',\n",
       " 'sepal width (cm)',\n",
       " 'petal length (cm)',\n",
       " 'petal width (cm)']"
      ]
     },
     "execution_count": 2,
     "metadata": {
      "tags": []
     },
     "output_type": "execute_result"
    }
   ],
   "source": [
    "iris.feature_names"
   ]
  },
  {
   "cell_type": "markdown",
   "metadata": {
    "colab_type": "text",
    "id": "e0yJ49dN_MWt"
   },
   "source": [
    "<a href=\"https://imgbb.com/\"><img src=\"https://i.ibb.co/mDC1KSt/petal-sepal.png\" alt=\"petal-sepal\" border=\"0\"></a>"
   ]
  },
  {
   "cell_type": "markdown",
   "metadata": {
    "colab_type": "text",
    "id": "DElAeagq_MWv"
   },
   "source": [
    "#### Target Labels"
   ]
  },
  {
   "cell_type": "code",
   "execution_count": 0,
   "metadata": {
    "colab": {
     "base_uri": "https://localhost:8080/",
     "height": 34
    },
    "colab_type": "code",
    "executionInfo": {
     "elapsed": 1534,
     "status": "ok",
     "timestamp": 1559135924636,
     "user": {
      "displayName": "Akshay Chandra Lagandula",
      "photoUrl": "",
      "userId": "15844401287812705747"
     },
     "user_tz": -330
    },
    "id": "yPLSXUgI_MWw",
    "outputId": "63f8052f-6583-49d9-dad7-c3ce425f5eb1"
   },
   "outputs": [
    {
     "data": {
      "text/plain": [
       "array(['setosa', 'versicolor', 'virginica'], dtype='<U10')"
      ]
     },
     "execution_count": 3,
     "metadata": {
      "tags": []
     },
     "output_type": "execute_result"
    }
   ],
   "source": [
    "iris.target_names"
   ]
  },
  {
   "cell_type": "markdown",
   "metadata": {
    "colab_type": "text",
    "id": "2G-fkQcY_MW1"
   },
   "source": [
    "<a href=\"https://ibb.co/8sJhx0R\"><img src=\"https://i.ibb.co/h9kqdyn/iris.png\" alt=\"iris\" border=\"0\"></a>"
   ]
  },
  {
   "cell_type": "markdown",
   "metadata": {
    "colab_type": "text",
    "id": "yWRXx4i__MW2"
   },
   "source": [
    "#### Dataset Size"
   ]
  },
  {
   "cell_type": "code",
   "execution_count": 0,
   "metadata": {
    "colab": {
     "base_uri": "https://localhost:8080/",
     "height": 34
    },
    "colab_type": "code",
    "executionInfo": {
     "elapsed": 1516,
     "status": "ok",
     "timestamp": 1559135924637,
     "user": {
      "displayName": "Akshay Chandra Lagandula",
      "photoUrl": "",
      "userId": "15844401287812705747"
     },
     "user_tz": -330
    },
    "id": "bJsSMJ4Y_MW3",
    "outputId": "c4279495-dcf9-467e-a5b6-349962998d2f"
   },
   "outputs": [
    {
     "data": {
      "text/plain": [
       "150"
      ]
     },
     "execution_count": 4,
     "metadata": {
      "tags": []
     },
     "output_type": "execute_result"
    }
   ],
   "source": [
    "len(iris.data)"
   ]
  },
  {
   "cell_type": "markdown",
   "metadata": {
    "colab_type": "text",
    "id": "GmRIz0Lo_MW7"
   },
   "source": [
    "#### Visualizations"
   ]
  },
  {
   "cell_type": "code",
   "execution_count": 0,
   "metadata": {
    "colab": {
     "base_uri": "https://localhost:8080/",
     "height": 315
    },
    "colab_type": "code",
    "executionInfo": {
     "elapsed": 2479,
     "status": "ok",
     "timestamp": 1559135925633,
     "user": {
      "displayName": "Akshay Chandra Lagandula",
      "photoUrl": "",
      "userId": "15844401287812705747"
     },
     "user_tz": -330
    },
    "id": "mr6cEwwtlHP9",
    "outputId": "d2a4dfe6-906c-4b14-90ad-37d506b7e81b"
   },
   "outputs": [
    {
     "data": {
      "image/png": "[encoded data removed]",
      "text/plain": [
       "<Figure size 1440x288 with 4 Axes>"
      ]
     },
     "metadata": {
      "tags": []
     },
     "output_type": "display_data"
    }
   ],
   "source": [
    "from matplotlib import pyplot as plt\n",
    "%matplotlib inline\n",
    "\n",
    "colors = ['r', 'y', 'b']\n",
    "fig, ax = plt.subplots(1, 4, figsize=(20,4))\n",
    "cols = [[0, 1], [2, 3], [0, 2], [1, 3]]\n",
    "\n",
    "for n in range(len(ax)):\n",
    "    for t in range(len(iris.target_names)):\n",
    "        ax[n].scatter([iris.data[i, cols[n][0]] for i,v in enumerate(iris.target) if v==t], \\\n",
    "                [iris.data[i, cols[n][1]] for i,v in enumerate(iris.target) if v==t], c=colors[t])\n",
    "    ax[n].set_title('{} Vs {}'.format(iris.feature_names[cols[n][0]], iris.feature_names[cols[n][1]]))\n",
    "    ax[n].set_xlabel(iris.feature_names[cols[n][0]])\n",
    "    ax[n].set_ylabel(iris.feature_names[cols[n][1]])\n",
    "\n",
    "fig.legend(labels=['setosa', 'versicolor', 'virginica'], ncol=1, loc='right', fontsize=15)\n",
    "plt.show()"
   ]
  },
  {
   "cell_type": "markdown",
   "metadata": {
    "colab_type": "text",
    "id": "Kuqt1xuh_MXB"
   },
   "source": [
    "## Modeling A Classifier\n",
    "\n",
    "### See [sklearn.tree.DecisionTreeClassifier](https://scikit-learn.org/stable/modules/generated/sklearn.tree.DecisionTreeClassifier.html#sklearn.tree.DecisionTreeClassifier) docs for parameter list, attributes etc. \n",
    "\n",
    "The most \"relevant\" parameters:\n",
    "* **criterion** : _The function to measure the quality of a split. Supported criteria are “gini” for the Gini impurity and “entropy” for the information gain. Default is \"gini\"._\n",
    "\n",
    "* **splitter** : _The strategy used to choose the split at each node. Supported strategies are “best” to choose the best split and “random” to choose the best random split. Default is \"best\"._\n",
    "\n",
    "* **max_depth** : _The maximum depth of the tree. If None, then nodes are expanded until all leaves are pure or until all leaves contain less than min_samples_split samples. Default is `None`._\n",
    "\n",
    "* **min_samples_split** : _The minimum number of samples required to split an internal node. Default = `2`._\n",
    "\n",
    "* **min_samples_leaf** : _The minimum number of samples required to be at a leaf node. A split point at any depth will only be considered if it leaves at least `min_samples_leaf` training samples in each of the left and right branches. This may have the effect of smoothing the model, especially in regression. Default is `1`_"
   ]
  },
  {
   "cell_type": "markdown",
   "metadata": {
    "colab_type": "text",
    "id": "wlrHPGAJ4q1d"
   },
   "source": [
    "## Train/Test The Data"
   ]
  },
  {
   "cell_type": "code",
   "execution_count": 0,
   "metadata": {
    "colab": {},
    "colab_type": "code",
    "id": "TlrZ9RWL4rAd"
   },
   "outputs": [],
   "source": [
    "from sklearn.model_selection import train_test_split\n",
    "\n",
    "X, y = iris.data, iris.target\n",
    "X_train, X_test, y_train, y_test = train_test_split(X, y, test_size = 0.2, random_state = 100)"
   ]
  },
  {
   "cell_type": "markdown",
   "metadata": {
    "colab_type": "text",
    "id": "WmyfmYl-4rVM"
   },
   "source": [
    "## Training"
   ]
  },
  {
   "cell_type": "code",
   "execution_count": 0,
   "metadata": {
    "colab": {},
    "colab_type": "code",
    "id": "ACp3DUz3j4su"
   },
   "outputs": [],
   "source": [
    "from sklearn import tree\n",
    "\n",
    "# Parameters\n",
    "criterion = 'gini'\n",
    "splitter = 'best'\n",
    "max_depth = None\n",
    "min_samples_split = 2\n",
    "min_samples_leaf = 1\n",
    "\n",
    "clf = tree.DecisionTreeClassifier(criterion=criterion, splitter=splitter, max_depth=max_depth,\\\n",
    "                                  min_samples_split=min_samples_split, min_samples_leaf=min_samples_leaf)\n",
    "clf = clf.fit(X_train, y_train)"
   ]
  },
  {
   "cell_type": "markdown",
   "metadata": {
    "colab_type": "text",
    "id": "MiO0MuUy40Tn"
   },
   "source": [
    "## Testing"
   ]
  },
  {
   "cell_type": "code",
   "execution_count": 0,
   "metadata": {
    "colab": {
     "base_uri": "https://localhost:8080/",
     "height": 238
    },
    "colab_type": "code",
    "executionInfo": {
     "elapsed": 3108,
     "status": "ok",
     "timestamp": 1559135926280,
     "user": {
      "displayName": "Akshay Chandra Lagandula",
      "photoUrl": "",
      "userId": "15844401287812705747"
     },
     "user_tz": -330
    },
    "id": "cTCETMR_4zji",
    "outputId": "c0b44b17-0c7c-4509-9196-d8c27bfe9096"
   },
   "outputs": [
    {
     "name": "stdout",
     "output_type": "stream",
     "text": [
      "Accuracy is 96.66666666666667\n",
      "\n",
      "Classification Report is:\n",
      "               precision    recall  f1-score   support\n",
      "\n",
      "      setosa       1.00      1.00      1.00        11\n",
      "  versicolor       1.00      0.83      0.91         6\n",
      "   virginica       0.93      1.00      0.96        13\n",
      "\n",
      "    accuracy                           0.97        30\n",
      "   macro avg       0.98      0.94      0.96        30\n",
      "weighted avg       0.97      0.97      0.97        30\n",
      "\n"
     ]
    }
   ],
   "source": [
    "from sklearn.metrics import accuracy_score, classification_report\n",
    "\n",
    "y_pred = clf.predict(X_test)\n",
    "print(\"Accuracy is {}\\n\".format(accuracy_score(y_test, y_pred)*100))\n",
    "print(\"Classification Report is:\\n {}\".format(classification_report(y_test, y_pred, target_names=iris.target_names)))"
   ]
  },
  {
   "cell_type": "markdown",
   "metadata": {
    "colab_type": "text",
    "id": "9A2v0TksDMlJ"
   },
   "source": [
    "## Visualizing The Decision Tree Learnt"
   ]
  },
  {
   "cell_type": "code",
   "execution_count": 0,
   "metadata": {
    "colab": {
     "base_uri": "https://localhost:8080/",
     "height": 916
    },
    "colab_type": "code",
    "executionInfo": {
     "elapsed": 3093,
     "status": "ok",
     "timestamp": 1559135926281,
     "user": {
      "displayName": "Akshay Chandra Lagandula",
      "photoUrl": "",
      "userId": "15844401287812705747"
     },
     "user_tz": -330
    },
    "id": "13VIByO3_MXY",
    "outputId": "63ee3983-9749-429d-c421-818ef2723e01"
   },
   "outputs": [
    {
     "data": {
      "image/svg+xml": [
       "<?xml version=\"1.0\" encoding=\"UTF-8\" standalone=\"no\"?>\n",
       "<!DOCTYPE svg PUBLIC \"-//W3C//DTD SVG 1.1//EN\"\n",
       " \"http://www.w3.org/Graphics/SVG/1.1/DTD/svg11.dtd\">\n",
       "<!-- Generated by graphviz version 2.40.1 (20161225.0304)\n",
       " -->\n",
       "<!-- Title: Tree Pages: 1 -->\n",
       "<svg width=\"634pt\" height=\"671pt\"\n",
       " viewBox=\"0.00 0.00 633.50 671.00\" xmlns=\"http://www.w3.org/2000/svg\" xmlns:xlink=\"http://www.w3.org/1999/xlink\">\n",
       "<g id=\"graph0\" class=\"graph\" transform=\"scale(1 1) rotate(0) translate(4 667)\">\n",
       "<title>Tree</title>\n",
       "<polygon fill=\"#ffffff\" stroke=\"transparent\" points=\"-4,4 -4,-667 629.5,-667 629.5,4 -4,4\"/>\n",
       "<!-- 0 -->\n",
       "<g id=\"node1\" class=\"node\">\n",
       "<title>0</title>\n",
       "<path fill=\"#f3fdf7\" stroke=\"#000000\" d=\"M299.5,-663C299.5,-663 170.5,-663 170.5,-663 164.5,-663 158.5,-657 158.5,-651 158.5,-651 158.5,-592 158.5,-592 158.5,-586 164.5,-580 170.5,-580 170.5,-580 299.5,-580 299.5,-580 305.5,-580 311.5,-586 311.5,-592 311.5,-592 311.5,-651 311.5,-651 311.5,-657 305.5,-663 299.5,-663\"/>\n",
       "<text text-anchor=\"start\" x=\"166.5\" y=\"-647.8\" font-family=\"Helvetica,sans-Serif\" font-size=\"14.00\" fill=\"#000000\">petal width (cm) ≤ 0.8</text>\n",
       "<text text-anchor=\"start\" x=\"197\" y=\"-632.8\" font-family=\"Helvetica,sans-Serif\" font-size=\"14.00\" fill=\"#000000\">gini = 0.665</text>\n",
       "<text text-anchor=\"start\" x=\"187\" y=\"-617.8\" font-family=\"Helvetica,sans-Serif\" font-size=\"14.00\" fill=\"#000000\">samples = 120</text>\n",
       "<text text-anchor=\"start\" x=\"173\" y=\"-602.8\" font-family=\"Helvetica,sans-Serif\" font-size=\"14.00\" fill=\"#000000\">value = [39, 44, 37]</text>\n",
       "<text text-anchor=\"start\" x=\"179\" y=\"-587.8\" font-family=\"Helvetica,sans-Serif\" font-size=\"14.00\" fill=\"#000000\">class = versicolor</text>\n",
       "</g>\n",
       "<!-- 1 -->\n",
       "<g id=\"node2\" class=\"node\">\n",
       "<title>1</title>\n",
       "<path fill=\"#e58139\" stroke=\"#000000\" d=\"M204.5,-536.5C204.5,-536.5 105.5,-536.5 105.5,-536.5 99.5,-536.5 93.5,-530.5 93.5,-524.5 93.5,-524.5 93.5,-480.5 93.5,-480.5 93.5,-474.5 99.5,-468.5 105.5,-468.5 105.5,-468.5 204.5,-468.5 204.5,-468.5 210.5,-468.5 216.5,-474.5 216.5,-480.5 216.5,-480.5 216.5,-524.5 216.5,-524.5 216.5,-530.5 210.5,-536.5 204.5,-536.5\"/>\n",
       "<text text-anchor=\"start\" x=\"125.5\" y=\"-521.3\" font-family=\"Helvetica,sans-Serif\" font-size=\"14.00\" fill=\"#000000\">gini = 0.0</text>\n",
       "<text text-anchor=\"start\" x=\"111\" y=\"-506.3\" font-family=\"Helvetica,sans-Serif\" font-size=\"14.00\" fill=\"#000000\">samples = 39</text>\n",
       "<text text-anchor=\"start\" x=\"101.5\" y=\"-491.3\" font-family=\"Helvetica,sans-Serif\" font-size=\"14.00\" fill=\"#000000\">value = [39, 0, 0]</text>\n",
       "<text text-anchor=\"start\" x=\"108\" y=\"-476.3\" font-family=\"Helvetica,sans-Serif\" font-size=\"14.00\" fill=\"#000000\">class = setosa</text>\n",
       "</g>\n",
       "<!-- 0&#45;&gt;1 -->\n",
       "<g id=\"edge1\" class=\"edge\">\n",
       "<title>0&#45;&gt;1</title>\n",
       "<path fill=\"none\" stroke=\"#000000\" d=\"M207.0199,-579.8796C199.4797,-568.6636 191.3113,-556.5131 183.7309,-545.2372\"/>\n",
       "<polygon fill=\"#000000\" stroke=\"#000000\" points=\"186.5527,-543.1612 178.0689,-536.8149 180.7434,-547.0667 186.5527,-543.1612\"/>\n",
       "<text text-anchor=\"middle\" x=\"173.2608\" y=\"-557.6482\" font-family=\"Helvetica,sans-Serif\" font-size=\"14.00\" fill=\"#000000\">True</text>\n",
       "</g>\n",
       "<!-- 2 -->\n",
       "<g id=\"node3\" class=\"node\">\n",
       "<title>2</title>\n",
       "<path fill=\"#e0fbeb\" stroke=\"#000000\" d=\"M383.5,-544C383.5,-544 246.5,-544 246.5,-544 240.5,-544 234.5,-538 234.5,-532 234.5,-532 234.5,-473 234.5,-473 234.5,-467 240.5,-461 246.5,-461 246.5,-461 383.5,-461 383.5,-461 389.5,-461 395.5,-467 395.5,-473 395.5,-473 395.5,-532 395.5,-532 395.5,-538 389.5,-544 383.5,-544\"/>\n",
       "<text text-anchor=\"start\" x=\"242.5\" y=\"-528.8\" font-family=\"Helvetica,sans-Serif\" font-size=\"14.00\" fill=\"#000000\">petal width (cm) ≤ 1.65</text>\n",
       "<text text-anchor=\"start\" x=\"277\" y=\"-513.8\" font-family=\"Helvetica,sans-Serif\" font-size=\"14.00\" fill=\"#000000\">gini = 0.496</text>\n",
       "<text text-anchor=\"start\" x=\"271\" y=\"-498.8\" font-family=\"Helvetica,sans-Serif\" font-size=\"14.00\" fill=\"#000000\">samples = 81</text>\n",
       "<text text-anchor=\"start\" x=\"257.5\" y=\"-483.8\" font-family=\"Helvetica,sans-Serif\" font-size=\"14.00\" fill=\"#000000\">value = [0, 44, 37]</text>\n",
       "<text text-anchor=\"start\" x=\"259\" y=\"-468.8\" font-family=\"Helvetica,sans-Serif\" font-size=\"14.00\" fill=\"#000000\">class = versicolor</text>\n",
       "</g>\n",
       "<!-- 0&#45;&gt;2 -->\n",
       "<g id=\"edge2\" class=\"edge\">\n",
       "<title>0&#45;&gt;2</title>\n",
       "<path fill=\"none\" stroke=\"#000000\" d=\"M262.9801,-579.8796C268.8531,-571.1434 275.1073,-561.8404 281.1679,-552.8253\"/>\n",
       "<polygon fill=\"#000000\" stroke=\"#000000\" points=\"284.2259,-554.5498 286.9005,-544.2981 278.4166,-550.6444 284.2259,-554.5498\"/>\n",
       "<text text-anchor=\"middle\" x=\"291.7085\" y=\"-565.1314\" font-family=\"Helvetica,sans-Serif\" font-size=\"14.00\" fill=\"#000000\">False</text>\n",
       "</g>\n",
       "<!-- 3 -->\n",
       "<g id=\"node4\" class=\"node\">\n",
       "<title>3</title>\n",
       "<path fill=\"#4be78d\" stroke=\"#000000\" d=\"M294.5,-425C294.5,-425 151.5,-425 151.5,-425 145.5,-425 139.5,-419 139.5,-413 139.5,-413 139.5,-354 139.5,-354 139.5,-348 145.5,-342 151.5,-342 151.5,-342 294.5,-342 294.5,-342 300.5,-342 306.5,-348 306.5,-354 306.5,-354 306.5,-413 306.5,-413 306.5,-419 300.5,-425 294.5,-425\"/>\n",
       "<text text-anchor=\"start\" x=\"147.5\" y=\"-409.8\" font-family=\"Helvetica,sans-Serif\" font-size=\"14.00\" fill=\"#000000\">petal length (cm) ≤ 4.95</text>\n",
       "<text text-anchor=\"start\" x=\"185\" y=\"-394.8\" font-family=\"Helvetica,sans-Serif\" font-size=\"14.00\" fill=\"#000000\">gini = 0.156</text>\n",
       "<text text-anchor=\"start\" x=\"179\" y=\"-379.8\" font-family=\"Helvetica,sans-Serif\" font-size=\"14.00\" fill=\"#000000\">samples = 47</text>\n",
       "<text text-anchor=\"start\" x=\"169.5\" y=\"-364.8\" font-family=\"Helvetica,sans-Serif\" font-size=\"14.00\" fill=\"#000000\">value = [0, 43, 4]</text>\n",
       "<text text-anchor=\"start\" x=\"167\" y=\"-349.8\" font-family=\"Helvetica,sans-Serif\" font-size=\"14.00\" fill=\"#000000\">class = versicolor</text>\n",
       "</g>\n",
       "<!-- 2&#45;&gt;3 -->\n",
       "<g id=\"edge3\" class=\"edge\">\n",
       "<title>2&#45;&gt;3</title>\n",
       "<path fill=\"none\" stroke=\"#000000\" d=\"M282.8229,-460.8796C275.9296,-451.9633 268.5798,-442.4565 261.4761,-433.268\"/>\n",
       "<polygon fill=\"#000000\" stroke=\"#000000\" points=\"264.1999,-431.0687 255.3145,-425.2981 258.6619,-435.3502 264.1999,-431.0687\"/>\n",
       "</g>\n",
       "<!-- 10 -->\n",
       "<g id=\"node11\" class=\"node\">\n",
       "<title>10</title>\n",
       "<path fill=\"#853fe6\" stroke=\"#000000\" d=\"M479.5,-425C479.5,-425 336.5,-425 336.5,-425 330.5,-425 324.5,-419 324.5,-413 324.5,-413 324.5,-354 324.5,-354 324.5,-348 330.5,-342 336.5,-342 336.5,-342 479.5,-342 479.5,-342 485.5,-342 491.5,-348 491.5,-354 491.5,-354 491.5,-413 491.5,-413 491.5,-419 485.5,-425 479.5,-425\"/>\n",
       "<text text-anchor=\"start\" x=\"332.5\" y=\"-409.8\" font-family=\"Helvetica,sans-Serif\" font-size=\"14.00\" fill=\"#000000\">petal length (cm) ≤ 4.85</text>\n",
       "<text text-anchor=\"start\" x=\"370\" y=\"-394.8\" font-family=\"Helvetica,sans-Serif\" font-size=\"14.00\" fill=\"#000000\">gini = 0.057</text>\n",
       "<text text-anchor=\"start\" x=\"364\" y=\"-379.8\" font-family=\"Helvetica,sans-Serif\" font-size=\"14.00\" fill=\"#000000\">samples = 34</text>\n",
       "<text text-anchor=\"start\" x=\"354.5\" y=\"-364.8\" font-family=\"Helvetica,sans-Serif\" font-size=\"14.00\" fill=\"#000000\">value = [0, 1, 33]</text>\n",
       "<text text-anchor=\"start\" x=\"356.5\" y=\"-349.8\" font-family=\"Helvetica,sans-Serif\" font-size=\"14.00\" fill=\"#000000\">class = virginica</text>\n",
       "</g>\n",
       "<!-- 2&#45;&gt;10 -->\n",
       "<g id=\"edge10\" class=\"edge\">\n",
       "<title>2&#45;&gt;10</title>\n",
       "<path fill=\"none\" stroke=\"#000000\" d=\"M347.5269,-460.8796C354.4951,-451.9633 361.9247,-442.4565 369.1056,-433.268\"/>\n",
       "<polygon fill=\"#000000\" stroke=\"#000000\" points=\"371.9343,-435.3326 375.3343,-425.2981 366.4188,-431.0221 371.9343,-435.3326\"/>\n",
       "</g>\n",
       "<!-- 4 -->\n",
       "<g id=\"node5\" class=\"node\">\n",
       "<title>4</title>\n",
       "<path fill=\"#39e581\" stroke=\"#000000\" d=\"M116,-298.5C116,-298.5 12,-298.5 12,-298.5 6,-298.5 0,-292.5 0,-286.5 0,-286.5 0,-242.5 0,-242.5 0,-236.5 6,-230.5 12,-230.5 12,-230.5 116,-230.5 116,-230.5 122,-230.5 128,-236.5 128,-242.5 128,-242.5 128,-286.5 128,-286.5 128,-292.5 122,-298.5 116,-298.5\"/>\n",
       "<text text-anchor=\"start\" x=\"34.5\" y=\"-283.3\" font-family=\"Helvetica,sans-Serif\" font-size=\"14.00\" fill=\"#000000\">gini = 0.0</text>\n",
       "<text text-anchor=\"start\" x=\"20\" y=\"-268.3\" font-family=\"Helvetica,sans-Serif\" font-size=\"14.00\" fill=\"#000000\">samples = 42</text>\n",
       "<text text-anchor=\"start\" x=\"10.5\" y=\"-253.3\" font-family=\"Helvetica,sans-Serif\" font-size=\"14.00\" fill=\"#000000\">value = [0, 42, 0]</text>\n",
       "<text text-anchor=\"start\" x=\"8\" y=\"-238.3\" font-family=\"Helvetica,sans-Serif\" font-size=\"14.00\" fill=\"#000000\">class = versicolor</text>\n",
       "</g>\n",
       "<!-- 3&#45;&gt;4 -->\n",
       "<g id=\"edge4\" class=\"edge\">\n",
       "<title>3&#45;&gt;4</title>\n",
       "<path fill=\"none\" stroke=\"#000000\" d=\"M167.3895,-341.8796C151.2987,-329.8368 133.7685,-316.7167 117.7909,-304.7586\"/>\n",
       "<polygon fill=\"#000000\" stroke=\"#000000\" points=\"119.6962,-301.8129 109.593,-298.623 115.5018,-307.4171 119.6962,-301.8129\"/>\n",
       "</g>\n",
       "<!-- 5 -->\n",
       "<g id=\"node6\" class=\"node\">\n",
       "<title>5</title>\n",
       "<path fill=\"#a06aec\" stroke=\"#000000\" d=\"M295.5,-306C295.5,-306 158.5,-306 158.5,-306 152.5,-306 146.5,-300 146.5,-294 146.5,-294 146.5,-235 146.5,-235 146.5,-229 152.5,-223 158.5,-223 158.5,-223 295.5,-223 295.5,-223 301.5,-223 307.5,-229 307.5,-235 307.5,-235 307.5,-294 307.5,-294 307.5,-300 301.5,-306 295.5,-306\"/>\n",
       "<text text-anchor=\"start\" x=\"154.5\" y=\"-290.8\" font-family=\"Helvetica,sans-Serif\" font-size=\"14.00\" fill=\"#000000\">petal width (cm) ≤ 1.55</text>\n",
       "<text text-anchor=\"start\" x=\"193.5\" y=\"-275.8\" font-family=\"Helvetica,sans-Serif\" font-size=\"14.00\" fill=\"#000000\">gini = 0.32</text>\n",
       "<text text-anchor=\"start\" x=\"187.5\" y=\"-260.8\" font-family=\"Helvetica,sans-Serif\" font-size=\"14.00\" fill=\"#000000\">samples = 5</text>\n",
       "<text text-anchor=\"start\" x=\"177.5\" y=\"-245.8\" font-family=\"Helvetica,sans-Serif\" font-size=\"14.00\" fill=\"#000000\">value = [0, 1, 4]</text>\n",
       "<text text-anchor=\"start\" x=\"175.5\" y=\"-230.8\" font-family=\"Helvetica,sans-Serif\" font-size=\"14.00\" fill=\"#000000\">class = virginica</text>\n",
       "</g>\n",
       "<!-- 3&#45;&gt;5 -->\n",
       "<g id=\"edge5\" class=\"edge\">\n",
       "<title>3&#45;&gt;5</title>\n",
       "<path fill=\"none\" stroke=\"#000000\" d=\"M224.399,-341.8796C224.6745,-333.6838 224.9668,-324.9891 225.2521,-316.5013\"/>\n",
       "<polygon fill=\"#000000\" stroke=\"#000000\" points=\"228.757,-316.41 225.595,-306.2981 221.761,-316.1748 228.757,-316.41\"/>\n",
       "</g>\n",
       "<!-- 6 -->\n",
       "<g id=\"node7\" class=\"node\">\n",
       "<title>6</title>\n",
       "<path fill=\"#8139e5\" stroke=\"#000000\" d=\"M118.5,-179.5C118.5,-179.5 23.5,-179.5 23.5,-179.5 17.5,-179.5 11.5,-173.5 11.5,-167.5 11.5,-167.5 11.5,-123.5 11.5,-123.5 11.5,-117.5 17.5,-111.5 23.5,-111.5 23.5,-111.5 118.5,-111.5 118.5,-111.5 124.5,-111.5 130.5,-117.5 130.5,-123.5 130.5,-123.5 130.5,-167.5 130.5,-167.5 130.5,-173.5 124.5,-179.5 118.5,-179.5\"/>\n",
       "<text text-anchor=\"start\" x=\"41.5\" y=\"-164.3\" font-family=\"Helvetica,sans-Serif\" font-size=\"14.00\" fill=\"#000000\">gini = 0.0</text>\n",
       "<text text-anchor=\"start\" x=\"31.5\" y=\"-149.3\" font-family=\"Helvetica,sans-Serif\" font-size=\"14.00\" fill=\"#000000\">samples = 3</text>\n",
       "<text text-anchor=\"start\" x=\"21.5\" y=\"-134.3\" font-family=\"Helvetica,sans-Serif\" font-size=\"14.00\" fill=\"#000000\">value = [0, 0, 3]</text>\n",
       "<text text-anchor=\"start\" x=\"19.5\" y=\"-119.3\" font-family=\"Helvetica,sans-Serif\" font-size=\"14.00\" fill=\"#000000\">class = virginica</text>\n",
       "</g>\n",
       "<!-- 5&#45;&gt;6 -->\n",
       "<g id=\"edge6\" class=\"edge\">\n",
       "<title>5&#45;&gt;6</title>\n",
       "<path fill=\"none\" stroke=\"#000000\" d=\"M172.4388,-222.8796C156.6516,-210.8368 139.4521,-197.7167 123.7759,-185.7586\"/>\n",
       "<polygon fill=\"#000000\" stroke=\"#000000\" points=\"125.8063,-182.9053 115.7327,-179.623 121.5608,-188.4709 125.8063,-182.9053\"/>\n",
       "</g>\n",
       "<!-- 7 -->\n",
       "<g id=\"node8\" class=\"node\">\n",
       "<title>7</title>\n",
       "<path fill=\"#ffffff\" stroke=\"#000000\" d=\"M301.5,-187C301.5,-187 160.5,-187 160.5,-187 154.5,-187 148.5,-181 148.5,-175 148.5,-175 148.5,-116 148.5,-116 148.5,-110 154.5,-104 160.5,-104 160.5,-104 301.5,-104 301.5,-104 307.5,-104 313.5,-110 313.5,-116 313.5,-116 313.5,-175 313.5,-175 313.5,-181 307.5,-187 301.5,-187\"/>\n",
       "<text text-anchor=\"start\" x=\"156.5\" y=\"-171.8\" font-family=\"Helvetica,sans-Serif\" font-size=\"14.00\" fill=\"#000000\">sepal width (cm) ≤ 2.85</text>\n",
       "<text text-anchor=\"start\" x=\"201.5\" y=\"-156.8\" font-family=\"Helvetica,sans-Serif\" font-size=\"14.00\" fill=\"#000000\">gini = 0.5</text>\n",
       "<text text-anchor=\"start\" x=\"191.5\" y=\"-141.8\" font-family=\"Helvetica,sans-Serif\" font-size=\"14.00\" fill=\"#000000\">samples = 2</text>\n",
       "<text text-anchor=\"start\" x=\"181.5\" y=\"-126.8\" font-family=\"Helvetica,sans-Serif\" font-size=\"14.00\" fill=\"#000000\">value = [0, 1, 1]</text>\n",
       "<text text-anchor=\"start\" x=\"175\" y=\"-111.8\" font-family=\"Helvetica,sans-Serif\" font-size=\"14.00\" fill=\"#000000\">class = versicolor</text>\n",
       "</g>\n",
       "<!-- 5&#45;&gt;7 -->\n",
       "<g id=\"edge7\" class=\"edge\">\n",
       "<title>5&#45;&gt;7</title>\n",
       "<path fill=\"none\" stroke=\"#000000\" d=\"M228.399,-222.8796C228.6745,-214.6838 228.9668,-205.9891 229.2521,-197.5013\"/>\n",
       "<polygon fill=\"#000000\" stroke=\"#000000\" points=\"232.757,-197.41 229.595,-187.2981 225.761,-197.1748 232.757,-197.41\"/>\n",
       "</g>\n",
       "<!-- 8 -->\n",
       "<g id=\"node9\" class=\"node\">\n",
       "<title>8</title>\n",
       "<path fill=\"#39e581\" stroke=\"#000000\" d=\"M212,-68C212,-68 108,-68 108,-68 102,-68 96,-62 96,-56 96,-56 96,-12 96,-12 96,-6 102,0 108,0 108,0 212,0 212,0 218,0 224,-6 224,-12 224,-12 224,-56 224,-56 224,-62 218,-68 212,-68\"/>\n",
       "<text text-anchor=\"start\" x=\"130.5\" y=\"-52.8\" font-family=\"Helvetica,sans-Serif\" font-size=\"14.00\" fill=\"#000000\">gini = 0.0</text>\n",
       "<text text-anchor=\"start\" x=\"120.5\" y=\"-37.8\" font-family=\"Helvetica,sans-Serif\" font-size=\"14.00\" fill=\"#000000\">samples = 1</text>\n",
       "<text text-anchor=\"start\" x=\"110.5\" y=\"-22.8\" font-family=\"Helvetica,sans-Serif\" font-size=\"14.00\" fill=\"#000000\">value = [0, 1, 0]</text>\n",
       "<text text-anchor=\"start\" x=\"104\" y=\"-7.8\" font-family=\"Helvetica,sans-Serif\" font-size=\"14.00\" fill=\"#000000\">class = versicolor</text>\n",
       "</g>\n",
       "<!-- 7&#45;&gt;8 -->\n",
       "<g id=\"edge8\" class=\"edge\">\n",
       "<title>7&#45;&gt;8</title>\n",
       "<path fill=\"none\" stroke=\"#000000\" d=\"M204.5622,-103.9815C198.944,-95.1585 193.0012,-85.8258 187.3497,-76.9506\"/>\n",
       "<polygon fill=\"#000000\" stroke=\"#000000\" points=\"190.1416,-74.8188 181.8181,-68.2637 184.2371,-78.5787 190.1416,-74.8188\"/>\n",
       "</g>\n",
       "<!-- 9 -->\n",
       "<g id=\"node10\" class=\"node\">\n",
       "<title>9</title>\n",
       "<path fill=\"#8139e5\" stroke=\"#000000\" d=\"M349.5,-68C349.5,-68 254.5,-68 254.5,-68 248.5,-68 242.5,-62 242.5,-56 242.5,-56 242.5,-12 242.5,-12 242.5,-6 248.5,0 254.5,0 254.5,0 349.5,0 349.5,0 355.5,0 361.5,-6 361.5,-12 361.5,-12 361.5,-56 361.5,-56 361.5,-62 355.5,-68 349.5,-68\"/>\n",
       "<text text-anchor=\"start\" x=\"272.5\" y=\"-52.8\" font-family=\"Helvetica,sans-Serif\" font-size=\"14.00\" fill=\"#000000\">gini = 0.0</text>\n",
       "<text text-anchor=\"start\" x=\"262.5\" y=\"-37.8\" font-family=\"Helvetica,sans-Serif\" font-size=\"14.00\" fill=\"#000000\">samples = 1</text>\n",
       "<text text-anchor=\"start\" x=\"252.5\" y=\"-22.8\" font-family=\"Helvetica,sans-Serif\" font-size=\"14.00\" fill=\"#000000\">value = [0, 0, 1]</text>\n",
       "<text text-anchor=\"start\" x=\"250.5\" y=\"-7.8\" font-family=\"Helvetica,sans-Serif\" font-size=\"14.00\" fill=\"#000000\">class = virginica</text>\n",
       "</g>\n",
       "<!-- 7&#45;&gt;9 -->\n",
       "<g id=\"edge9\" class=\"edge\">\n",
       "<title>7&#45;&gt;9</title>\n",
       "<path fill=\"none\" stroke=\"#000000\" d=\"M257.4378,-103.9815C263.056,-95.1585 268.9988,-85.8258 274.6503,-76.9506\"/>\n",
       "<polygon fill=\"#000000\" stroke=\"#000000\" points=\"277.7629,-78.5787 280.1819,-68.2637 271.8584,-74.8188 277.7629,-78.5787\"/>\n",
       "</g>\n",
       "<!-- 11 -->\n",
       "<g id=\"node12\" class=\"node\">\n",
       "<title>11</title>\n",
       "<path fill=\"#ab7bee\" stroke=\"#000000\" d=\"M472.5,-306C472.5,-306 339.5,-306 339.5,-306 333.5,-306 327.5,-300 327.5,-294 327.5,-294 327.5,-235 327.5,-235 327.5,-229 333.5,-223 339.5,-223 339.5,-223 472.5,-223 472.5,-223 478.5,-223 484.5,-229 484.5,-235 484.5,-235 484.5,-294 484.5,-294 484.5,-300 478.5,-306 472.5,-306\"/>\n",
       "<text text-anchor=\"start\" x=\"335.5\" y=\"-290.8\" font-family=\"Helvetica,sans-Serif\" font-size=\"14.00\" fill=\"#000000\">sepal width (cm) ≤ 3.1</text>\n",
       "<text text-anchor=\"start\" x=\"368\" y=\"-275.8\" font-family=\"Helvetica,sans-Serif\" font-size=\"14.00\" fill=\"#000000\">gini = 0.375</text>\n",
       "<text text-anchor=\"start\" x=\"366.5\" y=\"-260.8\" font-family=\"Helvetica,sans-Serif\" font-size=\"14.00\" fill=\"#000000\">samples = 4</text>\n",
       "<text text-anchor=\"start\" x=\"356.5\" y=\"-245.8\" font-family=\"Helvetica,sans-Serif\" font-size=\"14.00\" fill=\"#000000\">value = [0, 1, 3]</text>\n",
       "<text text-anchor=\"start\" x=\"354.5\" y=\"-230.8\" font-family=\"Helvetica,sans-Serif\" font-size=\"14.00\" fill=\"#000000\">class = virginica</text>\n",
       "</g>\n",
       "<!-- 10&#45;&gt;11 -->\n",
       "<g id=\"edge11\" class=\"edge\">\n",
       "<title>10&#45;&gt;11</title>\n",
       "<path fill=\"none\" stroke=\"#000000\" d=\"M407.3005,-341.8796C407.1628,-333.6838 407.0166,-324.9891 406.874,-316.5013\"/>\n",
       "<polygon fill=\"#000000\" stroke=\"#000000\" points=\"410.3701,-316.2378 406.7025,-306.2981 403.3711,-316.3555 410.3701,-316.2378\"/>\n",
       "</g>\n",
       "<!-- 14 -->\n",
       "<g id=\"node15\" class=\"node\">\n",
       "<title>14</title>\n",
       "<path fill=\"#8139e5\" stroke=\"#000000\" d=\"M613.5,-298.5C613.5,-298.5 514.5,-298.5 514.5,-298.5 508.5,-298.5 502.5,-292.5 502.5,-286.5 502.5,-286.5 502.5,-242.5 502.5,-242.5 502.5,-236.5 508.5,-230.5 514.5,-230.5 514.5,-230.5 613.5,-230.5 613.5,-230.5 619.5,-230.5 625.5,-236.5 625.5,-242.5 625.5,-242.5 625.5,-286.5 625.5,-286.5 625.5,-292.5 619.5,-298.5 613.5,-298.5\"/>\n",
       "<text text-anchor=\"start\" x=\"534.5\" y=\"-283.3\" font-family=\"Helvetica,sans-Serif\" font-size=\"14.00\" fill=\"#000000\">gini = 0.0</text>\n",
       "<text text-anchor=\"start\" x=\"520\" y=\"-268.3\" font-family=\"Helvetica,sans-Serif\" font-size=\"14.00\" fill=\"#000000\">samples = 30</text>\n",
       "<text text-anchor=\"start\" x=\"510.5\" y=\"-253.3\" font-family=\"Helvetica,sans-Serif\" font-size=\"14.00\" fill=\"#000000\">value = [0, 0, 30]</text>\n",
       "<text text-anchor=\"start\" x=\"512.5\" y=\"-238.3\" font-family=\"Helvetica,sans-Serif\" font-size=\"14.00\" fill=\"#000000\">class = virginica</text>\n",
       "</g>\n",
       "<!-- 10&#45;&gt;14 -->\n",
       "<g id=\"edge14\" class=\"edge\">\n",
       "<title>10&#45;&gt;14</title>\n",
       "<path fill=\"none\" stroke=\"#000000\" d=\"M462.5612,-341.8796C478.3484,-329.8368 495.5479,-316.7167 511.2241,-304.7586\"/>\n",
       "<polygon fill=\"#000000\" stroke=\"#000000\" points=\"513.4392,-307.4709 519.2673,-298.623 509.1937,-301.9053 513.4392,-307.4709\"/>\n",
       "</g>\n",
       "<!-- 12 -->\n",
       "<g id=\"node13\" class=\"node\">\n",
       "<title>12</title>\n",
       "<path fill=\"#8139e5\" stroke=\"#000000\" d=\"M450.5,-179.5C450.5,-179.5 355.5,-179.5 355.5,-179.5 349.5,-179.5 343.5,-173.5 343.5,-167.5 343.5,-167.5 343.5,-123.5 343.5,-123.5 343.5,-117.5 349.5,-111.5 355.5,-111.5 355.5,-111.5 450.5,-111.5 450.5,-111.5 456.5,-111.5 462.5,-117.5 462.5,-123.5 462.5,-123.5 462.5,-167.5 462.5,-167.5 462.5,-173.5 456.5,-179.5 450.5,-179.5\"/>\n",
       "<text text-anchor=\"start\" x=\"373.5\" y=\"-164.3\" font-family=\"Helvetica,sans-Serif\" font-size=\"14.00\" fill=\"#000000\">gini = 0.0</text>\n",
       "<text text-anchor=\"start\" x=\"363.5\" y=\"-149.3\" font-family=\"Helvetica,sans-Serif\" font-size=\"14.00\" fill=\"#000000\">samples = 3</text>\n",
       "<text text-anchor=\"start\" x=\"353.5\" y=\"-134.3\" font-family=\"Helvetica,sans-Serif\" font-size=\"14.00\" fill=\"#000000\">value = [0, 0, 3]</text>\n",
       "<text text-anchor=\"start\" x=\"351.5\" y=\"-119.3\" font-family=\"Helvetica,sans-Serif\" font-size=\"14.00\" fill=\"#000000\">class = virginica</text>\n",
       "</g>\n",
       "<!-- 11&#45;&gt;12 -->\n",
       "<g id=\"edge12\" class=\"edge\">\n",
       "<title>11&#45;&gt;12</title>\n",
       "<path fill=\"none\" stroke=\"#000000\" d=\"M404.9507,-222.8796C404.6818,-212.2134 404.3916,-200.7021 404.1194,-189.9015\"/>\n",
       "<polygon fill=\"#000000\" stroke=\"#000000\" points=\"407.6161,-189.7235 403.8651,-179.8149 400.6183,-189.9 407.6161,-189.7235\"/>\n",
       "</g>\n",
       "<!-- 13 -->\n",
       "<g id=\"node14\" class=\"node\">\n",
       "<title>13</title>\n",
       "<path fill=\"#39e581\" stroke=\"#000000\" d=\"M597,-179.5C597,-179.5 493,-179.5 493,-179.5 487,-179.5 481,-173.5 481,-167.5 481,-167.5 481,-123.5 481,-123.5 481,-117.5 487,-111.5 493,-111.5 493,-111.5 597,-111.5 597,-111.5 603,-111.5 609,-117.5 609,-123.5 609,-123.5 609,-167.5 609,-167.5 609,-173.5 603,-179.5 597,-179.5\"/>\n",
       "<text text-anchor=\"start\" x=\"515.5\" y=\"-164.3\" font-family=\"Helvetica,sans-Serif\" font-size=\"14.00\" fill=\"#000000\">gini = 0.0</text>\n",
       "<text text-anchor=\"start\" x=\"505.5\" y=\"-149.3\" font-family=\"Helvetica,sans-Serif\" font-size=\"14.00\" fill=\"#000000\">samples = 1</text>\n",
       "<text text-anchor=\"start\" x=\"495.5\" y=\"-134.3\" font-family=\"Helvetica,sans-Serif\" font-size=\"14.00\" fill=\"#000000\">value = [0, 1, 0]</text>\n",
       "<text text-anchor=\"start\" x=\"489\" y=\"-119.3\" font-family=\"Helvetica,sans-Serif\" font-size=\"14.00\" fill=\"#000000\">class = versicolor</text>\n",
       "</g>\n",
       "<!-- 11&#45;&gt;13 -->\n",
       "<g id=\"edge13\" class=\"edge\">\n",
       "<title>11&#45;&gt;13</title>\n",
       "<path fill=\"none\" stroke=\"#000000\" d=\"M454.6155,-222.8796C468.3587,-211.1138 483.3031,-198.3197 497.0093,-186.5855\"/>\n",
       "<polygon fill=\"#000000\" stroke=\"#000000\" points=\"499.5976,-188.9771 504.9178,-179.8149 495.0452,-183.6596 499.5976,-188.9771\"/>\n",
       "</g>\n",
       "</g>\n",
       "</svg>\n"
      ],
      "text/plain": [
       "<graphviz.files.Source at 0x7fba726ffcf8>"
      ]
     },
     "execution_count": 9,
     "metadata": {
      "tags": []
     },
     "output_type": "execute_result"
    }
   ],
   "source": [
    "import graphviz\n",
    "dot_data = tree.export_graphviz(clf, out_file=None, \n",
    "                      feature_names=iris.feature_names,  \n",
    "                      class_names=iris.target_names,  \n",
    "                      filled=True, rounded=True,  \n",
    "                      special_characters=True)  \n",
    "graph = graphviz.Source(dot_data)  \n",
    "graph "
   ]
  },
  {
   "cell_type": "markdown",
   "metadata": {
    "colab_type": "text",
    "id": "C5xcixa8Ej3C"
   },
   "source": [
    "## Decision Boundary Visualization"
   ]
  },
  {
   "cell_type": "code",
   "execution_count": 0,
   "metadata": {
    "colab": {
     "base_uri": "https://localhost:8080/",
     "height": 285
    },
    "colab_type": "code",
    "executionInfo": {
     "elapsed": 4657,
     "status": "ok",
     "timestamp": 1559135927868,
     "user": {
      "displayName": "Akshay Chandra Lagandula",
      "photoUrl": "",
      "userId": "15844401287812705747"
     },
     "user_tz": -330
    },
    "id": "famthVBJCPVV",
    "outputId": "9f91f4ee-1d5c-4bdd-ab0d-851c29c03a21"
   },
   "outputs": [
    {
     "name": "stdout",
     "output_type": "stream",
     "text": [
      "Automatically created module for IPython interactive environment\n"
     ]
    },
    {
     "data": {
      "image/png": "[encoded data removed]",
      "text/plain": [
       "<Figure size 1152x288 with 4 Axes>"
      ]
     },
     "metadata": {
      "tags": []
     },
     "output_type": "display_data"
    }
   ],
   "source": [
    "print(__doc__)\n",
    "\n",
    "import numpy as np\n",
    "import matplotlib.pyplot as plt\n",
    "from sklearn.datasets import load_iris\n",
    "import numpy as np\n",
    "\n",
    "# Hyper-parameters\n",
    "criterion = 'entropy'\n",
    "\n",
    "# Parameters\n",
    "n_classes = 3\n",
    "plot_colors = \"ryb\"\n",
    "plot_step = 0.02\n",
    "plt.figure(figsize=(16, 4))\n",
    "\n",
    "for pairidx, pair in enumerate([[0, 1], [2, 3], [0, 2], [1, 3]]):\n",
    "    # We only take the two corresponding features\n",
    "    X = iris.data[:, pair]\n",
    "    y = iris.target\n",
    "    \n",
    "    # Train\n",
    "    clf = tree.DecisionTreeClassifier(criterion=criterion).fit(X, y)\n",
    "    \n",
    "    # Plot the decision boundary\n",
    "    plt.subplot(1, 4, pairidx + 1)\n",
    "    \n",
    "\n",
    "    x_min, x_max = X[:, 0].min() - 1, X[:, 0].max() + 1\n",
    "    y_min, y_max = X[:, 1].min() - 1, X[:, 1].max() + 1\n",
    "    xx, yy = np.meshgrid(np.arange(x_min, x_max, plot_step),\n",
    "                         np.arange(y_min, y_max, plot_step))\n",
    "    plt.tight_layout(h_pad=0.5, w_pad=0.5, pad=2.5)\n",
    "\n",
    "    Z = clf.predict(np.c_[xx.ravel(), yy.ravel()])\n",
    "    Z = Z.reshape(xx.shape)\n",
    "    cs = plt.contourf(xx, yy, Z, cmap=plt.cm.RdYlBu)\n",
    "\n",
    "    plt.xlabel(iris.feature_names[pair[0]])\n",
    "    plt.ylabel(iris.feature_names[pair[1]])\n",
    "\n",
    "    # Plot the training points\n",
    "    for i, color in zip(range(n_classes), plot_colors):\n",
    "        idx = np.where(y == i)\n",
    "        plt.scatter(X[idx, 0], X[idx, 1], c=color, label=iris.target_names[i],\n",
    "                    cmap=plt.cm.RdYlBu, edgecolor='black', s=15)"
   ]
  },
  {
   "cell_type": "markdown",
   "metadata": {
    "colab_type": "text",
    "id": "UPy1uLlcCTyT"
   },
   "source": [
    "# Exercises"
   ]
  },
  {
   "cell_type": "markdown",
   "metadata": {
    "colab_type": "text",
    "id": "NSTEHwPcH6Sg"
   },
   "source": [
    "## Implement Gini-Index From Scratch"
   ]
  },
  {
   "cell_type": "markdown",
   "metadata": {
    "colab_type": "text",
    "id": "DJGwLJlNH6Ve"
   },
   "source": [
    "In this exercise, you will write a method that outputs Gini-index given a split of a toy dataset. "
   ]
  },
  {
   "cell_type": "markdown",
   "metadata": {
    "colab_type": "text",
    "id": "Kcy2i2hCH6ay"
   },
   "source": [
    "### Visualizing The Toy-Data"
   ]
  },
  {
   "cell_type": "code",
   "execution_count": 148,
   "metadata": {
    "colab": {
     "base_uri": "https://localhost:8080/",
     "height": 286
    },
    "colab_type": "code",
    "executionInfo": {
     "elapsed": 1058,
     "status": "ok",
     "timestamp": 1559144765899,
     "user": {
      "displayName": "Akshay Chandra Lagandula",
      "photoUrl": "",
      "userId": "15844401287812705747"
     },
     "user_tz": -330
    },
    "id": "XGz-UF9R9JBz",
    "outputId": "eed0c03d-096d-4dcb-b497-c8274087720e"
   },
   "outputs": [
    {
     "data": {
      "text/plain": [
       "<matplotlib.collections.PathCollection at 0x7fba65363cc0>"
      ]
     },
     "execution_count": 148,
     "metadata": {
      "tags": []
     },
     "output_type": "execute_result"
    },
    {
     "data": {
      "image/png": "[encoded data removed]",
      "text/plain": [
       "<Figure size 432x288 with 1 Axes>"
      ]
     },
     "metadata": {
      "tags": []
     },
     "output_type": "display_data"
    }
   ],
   "source": [
    "toy_data = [[4.484812507,3.4983517180,0],\n",
    "            [3.442139098,2.883329202,0],\n",
    "            [5.391887635,4.526381359,0],\n",
    "            [5.674611146,4.333518109,0],\n",
    "            [4.712776711,3.922582001,0],\n",
    "            [9.211113656,4.876521335,1],\n",
    "            [10.71577104,5.052614977,1],\n",
    "            [9.158110115,2.190251164,1],\n",
    "            [11.83850681,4.948118771,1],\n",
    "            [8.355855140,5.033551554,1]]\n",
    "\n",
    "import pandas as pd\n",
    "\n",
    "toy_data_pd = pd.DataFrame(toy_data, columns=['x1', 'x2', 'class_id'])\n",
    "plt.scatter(toy_data_pd.x1[toy_data_pd.class_id == 0], toy_data_pd.x2[toy_data_pd.class_id == 0], c='r')\n",
    "plt.scatter(toy_data_pd.x1[toy_data_pd.class_id == 1], toy_data_pd.x2[toy_data_pd.class_id == 1], c='b')"
   ]
  },
  {
   "cell_type": "markdown",
   "metadata": {
    "colab_type": "text",
    "id": "IdFaTxcEcfHP"
   },
   "source": [
    "`data_split` takes the dataset and splits it at provided `index` if data less than `value`.  "
   ]
  },
  {
   "cell_type": "code",
   "execution_count": 0,
   "metadata": {
    "colab": {},
    "colab_type": "code",
    "id": "Rej1srzVvQGN"
   },
   "outputs": [],
   "source": [
    "# A method that does the split\n",
    "def data_split(index, value, dataset):\n",
    "  left, right = list(), list()\n",
    "  for row in dataset:\n",
    "    if row[index] < value:\n",
    "      left.append(row)\n",
    "    else:\n",
    "      right.append(row)\n",
    "  return left, right\n",
    " \n",
    "# Calculate the Gini index for a split dataset\n",
    "def gini_index(groups, classes):\n",
    "  sample_count = sum([len(group) for group in groups])\n",
    "  gini_groups = []\n",
    "  for group in groups:\n",
    "    gini_group = 0.0\n",
    "    group_size = len(group)\n",
    "    for class_value in classes:\n",
    "      if group_size == 0:\n",
    "        continue\n",
    "      proportion = [row[-1] for row in group].count(class_value) / \\\n",
    "                         float(group_size)\n",
    "      gini_group += (proportion * (1.0 - proportion))\n",
    "    partition_weight = group_size / sample_count\n",
    "    gini_groups.append(partition_weight * gini_group)\n",
    "  return sum(gini_groups)\n",
    "\n",
    "# Select the best split point for a dataset\n",
    "def get_best_split(dataset):\n",
    "  class_values = list(set(row[-1] for row in dataset))\n",
    "  best_index, best_value, best_score, best_groups = 999, 999, 999, None\n",
    "  for index in range(len(dataset[0])-1):\n",
    "    for row in dataset:\n",
    "      groups = data_split(index, row[index], dataset)\n",
    "      gini = gini_index(groups, class_values)\n",
    "      # print('X%d < %.3f Gini=%.3f' % ((index+1), row[index], gini))\n",
    "      if gini < best_score:\n",
    "        best_index, best_value, best_score, best_groups = index, row[index], gini, groups\n",
    "  return {'index':best_index, 'value':best_value, 'groups':best_groups}"
   ]
  },
  {
   "cell_type": "code",
   "execution_count": 141,
   "metadata": {
    "colab": {
     "base_uri": "https://localhost:8080/",
     "height": 34
    },
    "colab_type": "code",
    "executionInfo": {
     "elapsed": 787,
     "status": "ok",
     "timestamp": 1559144150389,
     "user": {
      "displayName": "Akshay Chandra Lagandula",
      "photoUrl": "",
      "userId": "15844401287812705747"
     },
     "user_tz": -330
    },
    "id": "JF18gfFKxKhn",
    "outputId": "3b28eb87-f2a4-42bb-de8d-1d621597c2f9"
   },
   "outputs": [
    {
     "name": "stdout",
     "output_type": "stream",
     "text": [
      "Split: [X1 < 8.356]\n"
     ]
    }
   ],
   "source": [
    "split = get_best_split(toy_data)\n",
    "print('Split: [X%d < %.3f]' % ((split['index']+1), split['value']))"
   ]
  },
  {
   "cell_type": "code",
   "execution_count": 150,
   "metadata": {
    "colab": {
     "base_uri": "https://localhost:8080/",
     "height": 269
    },
    "colab_type": "code",
    "executionInfo": {
     "elapsed": 917,
     "status": "ok",
     "timestamp": 1559144793283,
     "user": {
      "displayName": "Akshay Chandra Lagandula",
      "photoUrl": "",
      "userId": "15844401287812705747"
     },
     "user_tz": -330
    },
    "id": "_WK0Y8PgI_ie",
    "outputId": "f99f191e-51d6-4b10-a06c-7f067c384690"
   },
   "outputs": [
    {
     "data": {
      "image/png": "[encoded data removed]",
      "text/plain": [
       "<Figure size 432x288 with 1 Axes>"
      ]
     },
     "metadata": {
      "tags": []
     },
     "output_type": "display_data"
    }
   ],
   "source": [
    "plt.scatter(toy_data_pd.x1[toy_data_pd.class_id == 0], toy_data_pd.x2[toy_data_pd.class_id == 0], c='r')\n",
    "plt.scatter(toy_data_pd.x1[toy_data_pd.class_id == 1], toy_data_pd.x2[toy_data_pd.class_id == 1], c='b')\n",
    "# If split on X1, uncomment next line.\n",
    "plt.axvline(x=split['value'])\n",
    "# If split on X2, uncomment next line.\n",
    "# plt.axhline(y=split['value'])\n",
    "plt.show()"
   ]
  }
 ],
 "metadata": {
  "colab": {
   "collapsed_sections": [],
   "name": "DecisionTrees_Classification_Solution.ipynb",
   "provenance": [],
   "version": "0.3.2"
  },
  "kernelspec": {
   "display_name": "Python 3",
   "language": "python",
   "name": "python3"
  },
  "language_info": {
   "codemirror_mode": {
    "name": "ipython",
    "version": 3
   },
   "file_extension": ".py",
   "mimetype": "text/x-python",
   "name": "python",
   "nbconvert_exporter": "python",
   "pygments_lexer": "ipython3",
   "version": "3.7.3"
  }
 },
 "nbformat": 4,
 "nbformat_minor": 1
}
