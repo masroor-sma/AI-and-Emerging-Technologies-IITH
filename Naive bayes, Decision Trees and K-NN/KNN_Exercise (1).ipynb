{
  "nbformat": 4,
  "nbformat_minor": 0,
  "metadata": {
    "colab": {
      "name": "KNN.ipynb",
      "provenance": [],
      "collapsed_sections": []
    },
    "kernelspec": {
      "name": "python3",
      "display_name": "Python 3"
    }
  },
  "cells": [
    {
      "cell_type": "markdown",
      "metadata": {
        "id": "doCf_4w_ZGM5",
        "colab_type": "text"
      },
      "source": [
        "### K-Nearest Neighbor implementation on IRIS dataset\n",
        "\n",
        "This tutorial is largely based on CS231n Blog post on [KNN](https://cs231n.github.io/classification/). We encourage the students to try and implement the function below before looking it up in the above mentioned resource"
      ]
    },
    {
      "cell_type": "code",
      "metadata": {
        "id": "yLYCIaEhXKcd",
        "colab_type": "code",
        "colab": {}
      },
      "source": [
        "import sklearn.datasets as datasets"
      ],
      "execution_count": null,
      "outputs": []
    },
    {
      "cell_type": "code",
      "metadata": {
        "id": "O-iGyY3hXw0S",
        "colab_type": "code",
        "colab": {}
      },
      "source": [
        "iris = datasets.load_iris()\n",
        "# Please fill in the below function which can be used to split the data in 80:20 ratio and return 4 numpy arrays- train_x, train_y, test_x, test_y\n",
        "# shapes- train_x: (0.8*len(iris.data),4), train_y : (0.8*len(iris.data),),test_x:(0.2*len(iris.data),4) , test_y:(0.2*len(iris.data),) \n",
        "def dataset_splitter(iris):\n",
        "  \n",
        "  return (train_x,train_y,test_x,test_y)"
      ],
      "execution_count": null,
      "outputs": []
    },
    {
      "cell_type": "code",
      "metadata": {
        "id": "YRF-g-gDX9Bu",
        "colab_type": "code",
        "colab": {}
      },
      "source": [
        "import numpy as np\n",
        "\n",
        "# This function is taken from CS231n tutorial. Source: https://cs231n.github.io/classification/\n",
        "class NearestNeighbor(object):\n",
        "  def __init__(self):\n",
        "    pass\n",
        "\n",
        "  def train(self, X, y):\n",
        "    \"\"\" X is N x D where each row is an example. Y is 1-dimension of size N \"\"\"\n",
        "\n",
        "\n",
        "  def predict(self, X):\n",
        "    \"\"\" X is N x D where each row is an example we wish to predict label for \"\"\"\n",
        "    num_test = X.shape[0]\n",
        "\n",
        "    return Ypred"
      ],
      "execution_count": null,
      "outputs": []
    },
    {
      "cell_type": "code",
      "metadata": {
        "id": "j8fpz6v-bBh4",
        "colab_type": "code",
        "colab": {}
      },
      "source": [
        "Xtr, Ytr, Xte, Yte = dataset_splitter(iris)"
      ],
      "execution_count": null,
      "outputs": []
    },
    {
      "cell_type": "code",
      "metadata": {
        "id": "DvG5IctdYHjj",
        "colab_type": "code",
        "colab": {
          "base_uri": "https://localhost:8080/",
          "height": 34
        },
        "outputId": "cb8f2ade-4056-4ae1-d6f6-25edb6961db8"
      },
      "source": [
        "nn = # create a Nearest Neighbor classifier class\n",
        "# train the classifier on the training images and labels\n",
        "Yte_predict =  # predict labels on the test images\n",
        "# and now print the classification accuracy, which is the average number\n",
        "# of examples that are correctly predicted (i.e. label matches)\n",
        "print('Accuracy: %f' % ( np.mean(Yte_predict == Yte) ))"
      ],
      "execution_count": null,
      "outputs": [
        {
          "output_type": "stream",
          "text": [
            "Accuracy: 1.000000\n"
          ],
          "name": "stdout"
        }
      ]
    },
    {
      "cell_type": "markdown",
      "metadata": {
        "id": "m8gsw6JVdWsP",
        "colab_type": "text"
      },
      "source": [
        "#### KNN using sklearn"
      ]
    },
    {
      "cell_type": "code",
      "metadata": {
        "id": "rfKUK_l-biQH",
        "colab_type": "code",
        "colab": {
          "base_uri": "https://localhost:8080/",
          "height": 34
        },
        "outputId": "1305a240-c7aa-45dd-a467-2c3a941070ce"
      },
      "source": [
        "\n",
        "print('accuracy: %f' % ( np.mean(Yte_predict == Yte) ))"
      ],
      "execution_count": null,
      "outputs": [
        {
          "output_type": "stream",
          "text": [
            "accuracy: 1.000000\n"
          ],
          "name": "stdout"
        }
      ]
    },
    {
      "cell_type": "code",
      "metadata": {
        "id": "reS3XbmddFdE",
        "colab_type": "code",
        "colab": {}
      },
      "source": [
        ""
      ],
      "execution_count": null,
      "outputs": []
    }
  ]
}