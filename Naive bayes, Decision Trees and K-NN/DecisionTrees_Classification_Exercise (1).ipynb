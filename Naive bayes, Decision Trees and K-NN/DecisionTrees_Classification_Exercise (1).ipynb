{
 "cells": [
  {
   "cell_type": "markdown",
   "metadata": {
    "colab_type": "text",
    "id": "4XElc7XH_MWa"
   },
   "source": [
    "# Lab #3: Classification Using Decision Trees"
   ]
  },
  {
   "cell_type": "markdown",
   "metadata": {
    "colab_type": "text",
    "id": "pWMzKVUNl58c"
   },
   "source": [
    "## Data Loading\n",
    "\n",
    "[Iris Flower Dataset](https://en.wikipedia.org/wiki/Iris_flower_data_set) or Fisher's Iris data set is a multivariate data set introduced by the British statistician and biologist Ronald Fisher in his 1936 paper."
   ]
  },
  {
   "cell_type": "code",
   "execution_count": 0,
   "metadata": {
    "colab": {},
    "colab_type": "code",
    "id": "i8AnzHBFj4qa"
   },
   "outputs": [],
   "source": [
    "from sklearn import datasets\n",
    "\n",
    "iris = datasets.load_iris()\n",
    "X = iris['data']\n",
    "y = iris['target']"
   ]
  },
  {
   "cell_type": "markdown",
   "metadata": {
    "colab_type": "text",
    "id": "qc2olBEi_MWj"
   },
   "source": [
    "## Data Exploration\n",
    "#### Features"
   ]
  },
  {
   "cell_type": "code",
   "execution_count": 0,
   "metadata": {
    "colab": {
     "base_uri": "https://localhost:8080/",
     "height": 85
    },
    "colab_type": "code",
    "executionInfo": {
     "elapsed": 1548,
     "status": "ok",
     "timestamp": 1559135924634,
     "user": {
      "displayName": "Akshay Chandra Lagandula",
      "photoUrl": "",
      "userId": "15844401287812705747"
     },
     "user_tz": -330
    },
    "id": "_ukuORaklboT",
    "outputId": "520ab08f-9f84-4fd8-b2f1-e72ee48d3ce4",
    "scrolled": true
   },
   "outputs": [
    {
     "data": {
      "text/plain": [
       "['sepal length (cm)',\n",
       " 'sepal width (cm)',\n",
       " 'petal length (cm)',\n",
       " 'petal width (cm)']"
      ]
     },
     "execution_count": 2,
     "metadata": {
      "tags": []
     },
     "output_type": "execute_result"
    }
   ],
   "source": [
    "iris.feature_names"
   ]
  },
  {
   "cell_type": "markdown",
   "metadata": {
    "colab_type": "text",
    "id": "e0yJ49dN_MWt"
   },
   "source": [
    "<a href=\"https://imgbb.com/\"><img src=\"https://i.ibb.co/mDC1KSt/petal-sepal.png\" alt=\"petal-sepal\" border=\"0\"></a>"
   ]
  },
  {
   "cell_type": "markdown",
   "metadata": {
    "colab_type": "text",
    "id": "DElAeagq_MWv"
   },
   "source": [
    "#### Target Labels"
   ]
  },
  {
   "cell_type": "code",
   "execution_count": 0,
   "metadata": {
    "colab": {
     "base_uri": "https://localhost:8080/",
     "height": 34
    },
    "colab_type": "code",
    "executionInfo": {
     "elapsed": 1534,
     "status": "ok",
     "timestamp": 1559135924636,
     "user": {
      "displayName": "Akshay Chandra Lagandula",
      "photoUrl": "",
      "userId": "15844401287812705747"
     },
     "user_tz": -330
    },
    "id": "yPLSXUgI_MWw",
    "outputId": "63f8052f-6583-49d9-dad7-c3ce425f5eb1"
   },
   "outputs": [
    {
     "data": {
      "text/plain": [
       "array(['setosa', 'versicolor', 'virginica'], dtype='<U10')"
      ]
     },
     "execution_count": 3,
     "metadata": {
      "tags": []
     },
     "output_type": "execute_result"
    }
   ],
   "source": [
    "iris.target_names"
   ]
  },
  {
   "cell_type": "markdown",
   "metadata": {
    "colab_type": "text",
    "id": "2G-fkQcY_MW1"
   },
   "source": [
    "<a href=\"https://ibb.co/8sJhx0R\"><img src=\"https://i.ibb.co/h9kqdyn/iris.png\" alt=\"iris\" border=\"0\"></a>"
   ]
  },
  {
   "cell_type": "markdown",
   "metadata": {
    "colab_type": "text",
    "id": "yWRXx4i__MW2"
   },
   "source": [
    "#### Dataset Size"
   ]
  },
  {
   "cell_type": "code",
   "execution_count": 0,
   "metadata": {
    "colab": {
     "base_uri": "https://localhost:8080/",
     "height": 34
    },
    "colab_type": "code",
    "executionInfo": {
     "elapsed": 1516,
     "status": "ok",
     "timestamp": 1559135924637,
     "user": {
      "displayName": "Akshay Chandra Lagandula",
      "photoUrl": "",
      "userId": "15844401287812705747"
     },
     "user_tz": -330
    },
    "id": "bJsSMJ4Y_MW3",
    "outputId": "c4279495-dcf9-467e-a5b6-349962998d2f"
   },
   "outputs": [
    {
     "data": {
      "text/plain": [
       "150"
      ]
     },
     "execution_count": 4,
     "metadata": {
      "tags": []
     },
     "output_type": "execute_result"
    }
   ],
   "source": [
    "len(iris.data)"
   ]
  },
  {
   "cell_type": "markdown",
   "metadata": {
    "colab_type": "text",
    "id": "GmRIz0Lo_MW7"
   },
   "source": [
    "#### Visualizations"
   ]
  },
  {
   "cell_type": "code",
   "execution_count": 0,
   "metadata": {
    "colab": {
     "base_uri": "https://localhost:8080/",
     "height": 315
    },
    "colab_type": "code",
    "executionInfo": {
     "elapsed": 2479,
     "status": "ok",
     "timestamp": 1559135925633,
     "user": {
      "displayName": "Akshay Chandra Lagandula",
      "photoUrl": "",
      "userId": "15844401287812705747"
     },
     "user_tz": -330
    },
    "id": "mr6cEwwtlHP9",
    "outputId": "d2a4dfe6-906c-4b14-90ad-37d506b7e81b"
   },
   "outputs": [
    {
     "data": {
      "image/png": "[encoded data removed]",
      "text/plain": [
       "<Figure size 1440x288 with 4 Axes>"
      ]
     },
     "metadata": {
      "tags": []
     },
     "output_type": "display_data"
    }
   ],
   "source": [
    "from matplotlib import pyplot as plt\n",
    "%matplotlib inline\n",
    "\n",
    "colors = ['r', 'y', 'b']\n",
    "fig, ax = plt.subplots(1, 4, figsize=(20,4))\n",
    "cols = [[0, 1], [2, 3], [0, 2], [1, 3]]\n",
    "\n",
    "for n in range(len(ax)):\n",
    "    for t in range(len(iris.target_names)):\n",
    "        ax[n].scatter([iris.data[i, cols[n][0]] for i,v in enumerate(iris.target) if v==t], \\\n",
    "                [iris.data[i, cols[n][1]] for i,v in enumerate(iris.target) if v==t], c=colors[t])\n",
    "    ax[n].set_title('{} Vs {}'.format(iris.feature_names[cols[n][0]], iris.feature_names[cols[n][1]]))\n",
    "    ax[n].set_xlabel(iris.feature_names[cols[n][0]])\n",
    "    ax[n].set_ylabel(iris.feature_names[cols[n][1]])\n",
    "\n",
    "fig.legend(labels=['setosa', 'versicolor', 'virginica'], ncol=1, loc='right', fontsize=15)\n",
    "plt.show()"
   ]
  },
  {
   "cell_type": "markdown",
   "metadata": {
    "colab_type": "text",
    "id": "Kuqt1xuh_MXB"
   },
   "source": [
    "## Modeling A Classifier\n",
    "\n",
    "### See [sklearn.tree.DecisionTreeClassifier](https://scikit-learn.org/stable/modules/generated/sklearn.tree.DecisionTreeClassifier.html#sklearn.tree.DecisionTreeClassifier) docs for parameter list, attributes etc. \n",
    "\n",
    "The most \"relevant\" parameters:\n",
    "* **criterion** : _The function to measure the quality of a split. Supported criteria are “gini” for the Gini impurity and “entropy” for the information gain. Default is \"gini\"._\n",
    "\n",
    "* **splitter** : _The strategy used to choose the split at each node. Supported strategies are “best” to choose the best split and “random” to choose the best random split. Default is \"best\"._\n",
    "\n",
    "* **max_depth** : _The maximum depth of the tree. If None, then nodes are expanded until all leaves are pure or until all leaves contain less than min_samples_split samples. Default is `None`._\n",
    "\n",
    "* **min_samples_split** : _The minimum number of samples required to split an internal node. Default = `2`._\n",
    "\n",
    "* **min_samples_leaf** : _The minimum number of samples required to be at a leaf node. A split point at any depth will only be considered if it leaves at least `min_samples_leaf` training samples in each of the left and right branches. This may have the effect of smoothing the model, especially in regression. Default is `1`_"
   ]
  },
  {
   "cell_type": "markdown",
   "metadata": {
    "colab_type": "text",
    "id": "wlrHPGAJ4q1d"
   },
   "source": [
    "## TO DO: Train/Test The Data"
   ]
  },
  {
   "cell_type": "code",
   "execution_count": 0,
   "metadata": {
    "colab": {},
    "colab_type": "code",
    "id": "TlrZ9RWL4rAd"
   },
   "outputs": [],
   "source": [
    "# TO DO: Split the data into test (20%) and train sets.\n",
    "############ Your code goes here ############\n"
   ]
  },
  {
   "cell_type": "markdown",
   "metadata": {
    "colab_type": "text",
    "id": "WmyfmYl-4rVM"
   },
   "source": [
    "## TO DO: Training"
   ]
  },
  {
   "cell_type": "code",
   "execution_count": 0,
   "metadata": {
    "colab": {},
    "colab_type": "code",
    "id": "ACp3DUz3j4su"
   },
   "outputs": [],
   "source": [
    "# TO DO: Train a DecisionTreeClassifier model on train set.\n",
    "\n",
    "# Parameters\n",
    "criterion = 'gini'\n",
    "splitter = 'best'\n",
    "max_depth = None\n",
    "min_samples_split = 2\n",
    "min_samples_leaf = 1\n",
    "\n",
    "############ Your code goes here ############\n"
   ]
  },
  {
   "cell_type": "markdown",
   "metadata": {
    "colab_type": "text",
    "id": "MiO0MuUy40Tn"
   },
   "source": [
    "## TO DO: Testing"
   ]
  },
  {
   "cell_type": "code",
   "execution_count": 0,
   "metadata": {
    "colab": {},
    "colab_type": "code",
    "id": "cTCETMR_4zji"
   },
   "outputs": [],
   "source": [
    "# TO DO: Test the performance of the model trained on the test set - both accuracy score and classification report should be printed.\n",
    "############ Your code goes here ############"
   ]
  },
  {
   "cell_type": "markdown",
   "metadata": {
    "colab_type": "text",
    "id": "9A2v0TksDMlJ"
   },
   "source": [
    "## Visualizing The Decision Tree Learnt"
   ]
  },
  {
   "cell_type": "code",
   "execution_count": 0,
   "metadata": {
    "colab": {},
    "colab_type": "code",
    "id": "XGrX6shf1XC9"
   },
   "outputs": [],
   "source": [
    "import graphviz\n",
    "\n",
    "model = # Your model variable\n",
    "dot_data = tree.export_graphviz(model, out_file=None, \n",
    "                      feature_names=iris.feature_names,  \n",
    "                      class_names=iris.target_names,  \n",
    "                      filled=True, rounded=True,  \n",
    "                      special_characters=True)  \n",
    "graph = graphviz.Source(dot_data)  \n",
    "graph "
   ]
  },
  {
   "cell_type": "markdown",
   "metadata": {
    "colab_type": "text",
    "id": "C5xcixa8Ej3C"
   },
   "source": [
    "## TO DO: Decision Boundary Visualization\n",
    "\n",
    "Write training code missing in the cell"
   ]
  },
  {
   "cell_type": "code",
   "execution_count": 0,
   "metadata": {
    "colab": {},
    "colab_type": "code",
    "id": "famthVBJCPVV"
   },
   "outputs": [],
   "source": [
    "print(__doc__)\n",
    "\n",
    "import numpy as np\n",
    "import matplotlib.pyplot as plt\n",
    "from sklearn.datasets import load_iris\n",
    "import numpy as np\n",
    "\n",
    "# Hyper-parameters\n",
    "criterion = 'gini'\n",
    "splitter = 'best'\n",
    "max_depth = None\n",
    "min_samples_split = 2\n",
    "min_samples_leaf = 1\n",
    "\n",
    "# Parameters\n",
    "n_classes = 3\n",
    "plot_colors = \"ryb\"\n",
    "plot_step = 0.02\n",
    "plt.figure(figsize=(16, 4))\n",
    "\n",
    "for pairidx, pair in enumerate([[0, 1], [2, 3], [0, 2], [1, 3]]):\n",
    "    # Considers only pairs of features for 2D plotting\n",
    "    X = iris.data[:, pair]\n",
    "    y = iris.target\n",
    "    \n",
    "    # Training Code\n",
    "    ############ Your code goes here ############\n",
    "    \n",
    "    \n",
    "    # Plot the decision boundary\n",
    "    plt.subplot(1, 4, pairidx + 1)\n",
    "    \n",
    "\n",
    "    x_min, x_max = X[:, 0].min() - 1, X[:, 0].max() + 1\n",
    "    y_min, y_max = X[:, 1].min() - 1, X[:, 1].max() + 1\n",
    "    xx, yy = np.meshgrid(np.arange(x_min, x_max, plot_step),\n",
    "                         np.arange(y_min, y_max, plot_step))\n",
    "    plt.tight_layout(h_pad=0.5, w_pad=0.5, pad=2.5)\n",
    "\n",
    "    Z = clf.predict(np.c_[xx.ravel(), yy.ravel()])\n",
    "    Z = Z.reshape(xx.shape)\n",
    "    cs = plt.contourf(xx, yy, Z, cmap=plt.cm.RdYlBu)\n",
    "\n",
    "    plt.xlabel(iris.feature_names[pair[0]])\n",
    "    plt.ylabel(iris.feature_names[pair[1]])\n",
    "\n",
    "    # Plot the training points\n",
    "    for i, color in zip(range(n_classes), plot_colors):\n",
    "        idx = np.where(y == i)\n",
    "        plt.scatter(X[idx, 0], X[idx, 1], c=color, label=iris.target_names[i],\n",
    "                    cmap=plt.cm.RdYlBu, edgecolor='black', s=15)"
   ]
  },
  {
   "cell_type": "markdown",
   "metadata": {
    "colab_type": "text",
    "id": "NSTEHwPcH6Sg"
   },
   "source": [
    "## TO DO: Implement Gini-Index From Scratch"
   ]
  },
  {
   "cell_type": "markdown",
   "metadata": {
    "colab_type": "text",
    "id": "DJGwLJlNH6Ve"
   },
   "source": [
    "In this exercise, you will get your hands dirty and write a method that outputs Gini-index given a split of a toy dataset. "
   ]
  },
  {
   "cell_type": "markdown",
   "metadata": {
    "colab_type": "text",
    "id": "Kcy2i2hCH6ay"
   },
   "source": [
    "### Visualizing The Toy-Data"
   ]
  },
  {
   "cell_type": "code",
   "execution_count": 0,
   "metadata": {
    "colab": {},
    "colab_type": "code",
    "id": "XGz-UF9R9JBz"
   },
   "outputs": [],
   "source": [
    "import pandas as pd\n",
    "\n",
    "toy_data = [[4.484812507,3.4983517180,0],\n",
    "            [3.442139098,2.883329202,0],\n",
    "            [5.391887635,4.526381359,0],\n",
    "            [5.674611146,4.333518109,0],\n",
    "            [4.712776711,3.922582001,0],\n",
    "            [9.211113656,4.876521335,1],\n",
    "            [10.71577104,5.052614977,1],\n",
    "            [9.158110115,2.190251164,1],\n",
    "            [11.83850681,4.948118771,1],\n",
    "            [8.355855140,5.033551554,1]]\n",
    "\n",
    "toy_data_pd = pd.DataFrame(toy_data, columns=['x1', 'x2', 'class_id'])\n",
    "plt.scatter(toy_data_pd.x1[toy_data_pd.class_id == 0], toy_data_pd.x2[toy_data_pd.class_id == 0], c='r')\n",
    "plt.scatter(toy_data_pd.x1[toy_data_pd.class_id == 1], toy_data_pd.x2[toy_data_pd.class_id == 1], c='b')\n",
    "plt.xlabel('X1')\n",
    "plt.ylabel('X2')\n",
    "plt.legend(labels=[0,1])"
   ]
  },
  {
   "cell_type": "markdown",
   "metadata": {
    "colab_type": "text",
    "id": "IdFaTxcEcfHP"
   },
   "source": [
    "### 1. Method `data_split` takes the dataset and splits it at provided `index` if data less than `value`.  \n",
    "\n",
    "### 2. Method `get_best_split` is a driver method that calclulates `gini_index` on every possible split.\n",
    "\n",
    "### 3. (TO DO) Method `gini_index`, takes `groups` and `classes` info and calculates Gini-index.\n",
    "\n",
    "If a target is a classification outcome taking on values 0,1,…,K-1, for node , representing a region  with observations, let\n",
    "\n",
    ">$p_{mk} = \\frac{1}{N_m} \\sum_{x_i \\in R_m} I(y_i = k)$\n",
    "  \n",
    "be the proportion of class $k$ observations in node $m$.\n",
    "Common measures of impurity are:\n",
    "\n",
    "* Gini\n",
    ">$H(X_m) = \\sum_k p_{mk} (1 - p_{mk})$\n",
    "\n",
    "* Entropy\n",
    ">$H(X_m) = - \\sum_k p_{mk} \\log(p_{mk})$\n",
    "\n",
    "\n",
    "Weighting the impurity across $k$ classes:\n",
    ">$G(Q) = \\frac{n_{left}}{N_m} H(Q_{left})\n",
    "   + \\frac{n_{right}}{N_m} H(Q_{right})$"
   ]
  },
  {
   "cell_type": "code",
   "execution_count": 0,
   "metadata": {
    "colab": {},
    "colab_type": "code",
    "id": "Rej1srzVvQGN"
   },
   "outputs": [],
   "source": [
    "# A method that does the array split\n",
    "def data_split(index, value, data):\n",
    "  left, right = list(), list()\n",
    "  for row in data:\n",
    "    if row[index] < value:\n",
    "      left.append(row)\n",
    "    else:\n",
    "      right.append(row)\n",
    "  return left, right\n",
    "\n",
    "# Output the best split point for the data\n",
    "def get_best_split(data):\n",
    "  class_values = list(set(row[-1] for row in data))\n",
    "  best_index, best_value, best_score, best_groups = 999, 999, 999, None\n",
    "  for index in range(len(dataset[0])-1):\n",
    "    for row in data:\n",
    "      groups = data_split(index, row[index], data)\n",
    "      gini = gini_index(groups, class_values)\n",
    "      print('X%d < %.3f Gini=%.3f' % ((index+1), row[index], gini))\n",
    "      if gini < best_score:\n",
    "        best_index, best_value, best_score, best_groups = index, row[index], gini, groups\n",
    "  return {'index':best_index, 'value':best_value, 'groups':best_groups}\\\n",
    "\n",
    "# (TO DO) Calculate the Gini index for a split dataset\n",
    "def gini_index(groups, classes):\n",
    "  ############ Your code goes here ############\n",
    "  \n",
    "  return gini_value\n",
    "\n"
   ]
  },
  {
   "cell_type": "code",
   "execution_count": 0,
   "metadata": {
    "colab": {},
    "colab_type": "code",
    "id": "JF18gfFKxKhn"
   },
   "outputs": [],
   "source": [
    "split = get_best_split(toy_data)\n",
    "print('Best Split: [X%d < %.3f]' % ((split['index']+1), split['value']))"
   ]
  },
  {
   "cell_type": "code",
   "execution_count": 0,
   "metadata": {
    "colab": {},
    "colab_type": "code",
    "id": "_WK0Y8PgI_ie"
   },
   "outputs": [],
   "source": [
    "plt.scatter(toy_data_pd.x1[toy_data_pd.class_id == 0], toy_data_pd.x2[toy_data_pd.class_id == 0], c='r')\n",
    "plt.scatter(toy_data_pd.x1[toy_data_pd.class_id == 1], toy_data_pd.x2[toy_data_pd.class_id == 1], c='b')\n",
    "# If best split is on X1, uncomment next line.\n",
    "plt.axvline(x=split['value'])\n",
    "# If best split is on X2, uncomment next line.\n",
    "# plt.axhline(y=split['value'])\n",
    "plt.show()"
   ]
  }
 ],
 "metadata": {
  "colab": {
   "collapsed_sections": [
    "pWMzKVUNl58c",
    "Kuqt1xuh_MXB"
   ],
   "name": "DecisionTrees_Classification_Exercise.ipynb",
   "provenance": [
    {
     "file_id": "1Otbqmf4vVuudt9jnJUMFRCCe9BhCAe12",
     "timestamp": 1559153797207
    }
   ],
   "version": "0.3.2"
  },
  "kernelspec": {
   "display_name": "Python 3",
   "language": "python",
   "name": "python3"
  },
  "language_info": {
   "codemirror_mode": {
    "name": "ipython",
    "version": 3
   },
   "file_extension": ".py",
   "mimetype": "text/x-python",
   "name": "python",
   "nbconvert_exporter": "python",
   "pygments_lexer": "ipython3",
   "version": "3.7.3"
  }
 },
 "nbformat": 4,
 "nbformat_minor": 1
}
